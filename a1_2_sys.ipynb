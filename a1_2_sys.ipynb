{
 "cells": [
  {
   "cell_type": "markdown",
   "id": "8f2e1446",
   "metadata": {},
   "source": [
    "#### Bem Vindo a\n",
    "<br>\n",
    "\n",
    "# <strong><a style=\"color:#000031; font-family: poppins\"   href=\"https://pantufodata.co.uk/\"> Pantufo <a style=\"color:#3366cc;\" href=\"https://pantufodata.co.uk/\">Data</a></a></strong> $. com$\n",
    "<br><br>\n",
    "\n",
    "\n",
    "<a style=\"font-family:montserrat; color:#000031\" href=\"https://pantufodata.co.uk/\">\n",
    "   Aprenda tudo sobre Análise de Dados e Ciência de Dados com Python\n",
    "</a>\n",
    "\n",
    "\n",
    "<br><br><br><br><br><br>\n",
    "\n",
    "#  Biblioteca  <strong style=\"font-family:montserrat; color:#3366cc\">SYS</strong>\n",
    "<br><br><br>\n",
    "\n",
    "#### Índice <a id=\"indice\"></a>"
   ]
  },
  {
   "cell_type": "markdown",
   "id": "c098b066",
   "metadata": {},
   "source": [
    " - 1. [Introdução ao Módulo \"sys\"](#Módulo-sys)\n",
    " - 2. [Manipulação de Argumentos de Linha de Comando](#de-Comando)\n",
    " - 3. [Configuração de Caminhos](#de-Caminhos)\n",
    " - 4. [Interação com o Interpretador](#o-Interpretador)\n",
    " - 5. [Gerenciamento de Saída](#de-Saída)\n",
    " - 6. [Finalização de Programas](#de-Programas)\n",
    " - 7. [Exemplos Práticos](#Exemplos-Práticos)\n",
    " - 8. [Uso Avançado do Módulo \"sys\"](#Módulo-sys)"
   ]
  },
  {
   "cell_type": "markdown",
   "id": "a6a1885f",
   "metadata": {},
   "source": [
    "Aqui, você aprenderá a usar o módulo \"sys\" em Python para interagir com o sistema operacional, manipular argumentos de linha de comando, configurar caminhos, interagir com o interpretador, gerenciar a saída, finalizar programas e muito mais."
   ]
  },
  {
   "cell_type": "markdown",
   "id": "235fbb8d",
   "metadata": {},
   "source": [
    "## 1. Introdução ao Módulo \"sys\" <a id=\"Módulo-sys\"></a>\n",
    "[Para cima](#indice)"
   ]
  },
  {
   "cell_type": "markdown",
   "id": "aceeb81d",
   "metadata": {},
   "source": [
    "### 1.1 O que é o Módulo \"sys\"?\n",
    "O módulo \"sys\" é um módulo incorporado em Python que fornece acesso a várias funcionalidades e informações do sistema. Ele é usado para interagir com o sistema operacional, manipular argumentos de linha de comando e acessar configurações do interpretador.\n",
    "\n",
    "### 1.2 Importação do Módulo\n",
    "Para usar o módulo \"sys\", você precisa importá-lo no seu código:"
   ]
  },
  {
   "cell_type": "code",
   "execution_count": null,
   "id": "c4337178",
   "metadata": {},
   "outputs": [],
   "source": [
    "import sys"
   ]
  },
  {
   "cell_type": "markdown",
   "id": "f4c77363",
   "metadata": {},
   "source": [
    "## 2. Manipulação de Argumentos de Linha de Comando <a id=\"de-Comando\"></a>\n",
    "[Para cima](#indice)"
   ]
  },
  {
   "cell_type": "markdown",
   "id": "c5df3a8e",
   "metadata": {},
   "source": [
    "### 2.1 Acesso a Argumentos de Linha de Comando\n",
    "Você pode acessar argumentos de linha de comando usando sys.argv. O primeiro elemento é o nome do script e os elementos subsequentes são os argumentos passados:"
   ]
  },
  {
   "cell_type": "code",
   "execution_count": 1,
   "id": "3eae34bd",
   "metadata": {},
   "outputs": [
    {
     "name": "stdout",
     "output_type": "stream",
     "text": [
      "Nome do script: C:\\Users\\pantu\\anaconda3\\lib\\site-packages\\ipykernel_launcher.py\n",
      "Argumentos: ['-f', 'C:\\\\Users\\\\pantu\\\\AppData\\\\Roaming\\\\jupyter\\\\runtime\\\\kernel-c6d8ae13-ed55-4026-a1e9-508d826af6e0.json']\n"
     ]
    }
   ],
   "source": [
    "import sys\n",
    "\n",
    "script_name = sys.argv[0]\n",
    "arguments = sys.argv[1:]\n",
    "\n",
    "print(\"Nome do script:\", script_name)\n",
    "print(\"Argumentos:\", arguments)"
   ]
  },
  {
   "cell_type": "markdown",
   "id": "db42a0f0",
   "metadata": {},
   "source": [
    "### 2.2 Análise de Argumentos\n",
    "Você pode usar bibliotecas como \"argparse\" para analisar argumentos de linha de comando de maneira mais eficaz e definir opções personalizadas.\n",
    "\n",
    "### 2.3 Tratamento de Erros\n",
    "Lembre-se de lidar com exceções ao analisar argumentos de linha de comando, pois os argumentos podem não ser fornecidos corretamente."
   ]
  },
  {
   "cell_type": "markdown",
   "id": "e9c4ba82",
   "metadata": {},
   "source": [
    "## 3. Configuração de Caminhos <a id=\"de-Caminhos\"></a>\n",
    "[Para cima](#indice)"
   ]
  },
  {
   "cell_type": "markdown",
   "id": "56857d30",
   "metadata": {},
   "source": [
    "### 3.1 Modificação de Caminhos\n",
    "Você pode modificar o caminho de pesquisa de módulos Python usando sys.path. Isso é útil para importar módulos de locais personalizados:"
   ]
  },
  {
   "cell_type": "code",
   "execution_count": 2,
   "id": "011923bc",
   "metadata": {},
   "outputs": [],
   "source": [
    "import sys\n",
    "\n",
    "sys.path.append(\"/caminho/do/novo/diretorio\")"
   ]
  },
  {
   "cell_type": "markdown",
   "id": "e7844354",
   "metadata": {},
   "source": [
    "### 3.2 Localização de Módulos\n",
    "O módulo \"sys\" também oferece informações sobre a localização dos módulos Python:"
   ]
  },
  {
   "cell_type": "code",
   "execution_count": 3,
   "id": "2f57eb03",
   "metadata": {},
   "outputs": [
    {
     "ename": "KeyError",
     "evalue": "'nome_do_modulo'",
     "output_type": "error",
     "traceback": [
      "\u001b[1;31m---------------------------------------------------------------------------\u001b[0m",
      "\u001b[1;31mKeyError\u001b[0m                                  Traceback (most recent call last)",
      "\u001b[1;32m~\\AppData\\Local\\Temp\\ipykernel_24900\\1256758871.py\u001b[0m in \u001b[0;36m<module>\u001b[1;34m\u001b[0m\n\u001b[0;32m      1\u001b[0m \u001b[1;32mimport\u001b[0m \u001b[0msys\u001b[0m\u001b[1;33m\u001b[0m\u001b[1;33m\u001b[0m\u001b[0m\n\u001b[0;32m      2\u001b[0m \u001b[1;33m\u001b[0m\u001b[0m\n\u001b[1;32m----> 3\u001b[1;33m \u001b[0mmodule_location\u001b[0m \u001b[1;33m=\u001b[0m \u001b[0msys\u001b[0m\u001b[1;33m.\u001b[0m\u001b[0mmodules\u001b[0m\u001b[1;33m[\u001b[0m\u001b[1;34m'nome_do_modulo'\u001b[0m\u001b[1;33m]\u001b[0m\u001b[1;33m.\u001b[0m\u001b[0m__file__\u001b[0m\u001b[1;33m\u001b[0m\u001b[1;33m\u001b[0m\u001b[0m\n\u001b[0m\u001b[0;32m      4\u001b[0m \u001b[0mprint\u001b[0m\u001b[1;33m(\u001b[0m\u001b[1;34m\"Localização do módulo:\"\u001b[0m\u001b[1;33m,\u001b[0m \u001b[0mmodule_location\u001b[0m\u001b[1;33m)\u001b[0m\u001b[1;33m\u001b[0m\u001b[1;33m\u001b[0m\u001b[0m\n",
      "\u001b[1;31mKeyError\u001b[0m: 'nome_do_modulo'"
     ]
    }
   ],
   "source": [
    "import sys\n",
    "\n",
    "module_location = sys.modules['nome_do_modulo'].__file__\n",
    "print(\"Localização do módulo:\", module_location)"
   ]
  },
  {
   "cell_type": "markdown",
   "id": "5190d7cf",
   "metadata": {},
   "source": [
    "### 3.3 Configuração de Variáveis de Ambiente\n",
    "Você pode acessar variáveis de ambiente com sys.environ e definir variáveis de ambiente personalizadas:"
   ]
  },
  {
   "cell_type": "code",
   "execution_count": 4,
   "id": "45036d0f",
   "metadata": {},
   "outputs": [
    {
     "ename": "AttributeError",
     "evalue": "module 'sys' has no attribute 'environ'",
     "output_type": "error",
     "traceback": [
      "\u001b[1;31m---------------------------------------------------------------------------\u001b[0m",
      "\u001b[1;31mAttributeError\u001b[0m                            Traceback (most recent call last)",
      "\u001b[1;32m~\\AppData\\Local\\Temp\\ipykernel_24900\\2594126783.py\u001b[0m in \u001b[0;36m<module>\u001b[1;34m\u001b[0m\n\u001b[0;32m      1\u001b[0m \u001b[1;32mimport\u001b[0m \u001b[0msys\u001b[0m\u001b[1;33m\u001b[0m\u001b[1;33m\u001b[0m\u001b[0m\n\u001b[0;32m      2\u001b[0m \u001b[1;33m\u001b[0m\u001b[0m\n\u001b[1;32m----> 3\u001b[1;33m \u001b[0muser_home\u001b[0m \u001b[1;33m=\u001b[0m \u001b[0msys\u001b[0m\u001b[1;33m.\u001b[0m\u001b[0menviron\u001b[0m\u001b[1;33m[\u001b[0m\u001b[1;34m'HOME'\u001b[0m\u001b[1;33m]\u001b[0m\u001b[1;33m\u001b[0m\u001b[1;33m\u001b[0m\u001b[0m\n\u001b[0m\u001b[0;32m      4\u001b[0m \u001b[0msys\u001b[0m\u001b[1;33m.\u001b[0m\u001b[0menviron\u001b[0m\u001b[1;33m[\u001b[0m\u001b[1;34m'MINHA_VARIAVEL'\u001b[0m\u001b[1;33m]\u001b[0m \u001b[1;33m=\u001b[0m \u001b[1;34m'valor'\u001b[0m\u001b[1;33m\u001b[0m\u001b[1;33m\u001b[0m\u001b[0m\n",
      "\u001b[1;31mAttributeError\u001b[0m: module 'sys' has no attribute 'environ'"
     ]
    }
   ],
   "source": [
    "import sys\n",
    "\n",
    "user_home = sys.environ['HOME']\n",
    "sys.environ['MINHA_VARIAVEL'] = 'valor'"
   ]
  },
  {
   "cell_type": "markdown",
   "id": "8f545034",
   "metadata": {},
   "source": [
    "## 4. Interação com o Interpretador <a id=\"o-Interpretador\"></a>\n",
    "[Para cima](#indice)"
   ]
  },
  {
   "cell_type": "markdown",
   "id": "1e39eaa5",
   "metadata": {},
   "source": [
    "### 4.1 Acesso a Variáveis do Interpretador\n",
    "O módulo \"sys\" permite acessar várias variáveis relacionadas ao interpretador Python, como sys.version, sys.executable e outras.\n",
    "\n",
    "### 4.2 Reinicialização do Interpretador\n",
    "Você pode reiniciar o interpretador Python usando sys.exit(), que também permite especificar um código de saída:"
   ]
  },
  {
   "cell_type": "code",
   "execution_count": 5,
   "id": "37a6c902",
   "metadata": {},
   "outputs": [
    {
     "ename": "SystemExit",
     "evalue": "0",
     "output_type": "error",
     "traceback": [
      "An exception has occurred, use %tb to see the full traceback.\n",
      "\u001b[1;31mSystemExit\u001b[0m\u001b[1;31m:\u001b[0m 0\n"
     ]
    },
    {
     "name": "stderr",
     "output_type": "stream",
     "text": [
      "C:\\Users\\pantu\\anaconda3\\lib\\site-packages\\IPython\\core\\interactiveshell.py:3465: UserWarning: To exit: use 'exit', 'quit', or Ctrl-D.\n",
      "  warn(\"To exit: use 'exit', 'quit', or Ctrl-D.\", stacklevel=1)\n"
     ]
    }
   ],
   "source": [
    "import sys\n",
    "\n",
    "sys.exit(0)  # Encerra o programa com código de saída 0"
   ]
  },
  {
   "cell_type": "markdown",
   "id": "58d350b7",
   "metadata": {},
   "source": [
    "### 4.3 Acesso a Linhas de Comando\n",
    "O módulo \"sys\" fornece acesso às linhas de comando do interpretador Python com sys.ps1 (prompt primário) e sys.ps2 (prompt secundário)."
   ]
  },
  {
   "cell_type": "markdown",
   "id": "4337eab0",
   "metadata": {},
   "source": [
    "## 5. Gerenciamento de Saída <a id=\"de-Saída\"></a>\n",
    "[Para cima](#indice)"
   ]
  },
  {
   "cell_type": "markdown",
   "id": "ccc71fa2",
   "metadata": {},
   "source": []
  },
  {
   "cell_type": "markdown",
   "id": "de29381d",
   "metadata": {},
   "source": [
    "### 5.1 Redirecionamento de Saída\n",
    "Você pode redirecionar a saída padrão usando sys.stdout para personalizar para onde a saída é enviada:"
   ]
  },
  {
   "cell_type": "code",
   "execution_count": 6,
   "id": "8ef5e82a",
   "metadata": {},
   "outputs": [],
   "source": [
    "import sys\n",
    "\n",
    "original_stdout = sys.stdout  # Salva a saída padrão\n",
    "with open(\"saida.txt\", \"w\") as file:\n",
    "    sys.stdout = file  # Redireciona a saída para um arquivo\n",
    "    print(\"Esta mensagem será gravada no arquivo.\")\n",
    "\n",
    "# Restaura a saída padrão\n",
    "sys.stdout = original_stdout"
   ]
  },
  {
   "cell_type": "markdown",
   "id": "2cb539b3",
   "metadata": {},
   "source": [
    "### 5.2 Supressão de Saída\n",
    "Se você deseja suprimir a saída, pode redirecioná-la para um objeto nulo:"
   ]
  },
  {
   "cell_type": "code",
   "execution_count": null,
   "id": "97f79126",
   "metadata": {},
   "outputs": [],
   "source": [
    "import sys\n",
    "\n",
    "original_stdout = sys.stdout\n",
    "sys.stdout = open(os.devnull, 'w')\n",
    "print(\"Esta mensagem será suprimida.\")\n",
    "sys.stdout = original_stdout  # Restaura a saída padrão"
   ]
  },
  {
   "cell_type": "markdown",
   "id": "4a39f270",
   "metadata": {},
   "source": [
    "### 5.3 Impressão no Padrão de Erro\n",
    "Use sys.stderr para imprimir mensagens de erro no fluxo de erros padrão:"
   ]
  },
  {
   "cell_type": "code",
   "execution_count": null,
   "id": "77690d5e",
   "metadata": {},
   "outputs": [],
   "source": [
    "import sys\n",
    "\n",
    "sys.stderr.write(\"Isso é uma mensagem de erro.\\n\")"
   ]
  },
  {
   "cell_type": "markdown",
   "id": "3b03207c",
   "metadata": {},
   "source": [
    "## 6. Finalização de Programas <a id=\"de-Programas\"></a>\n",
    "[Para cima](#indice)"
   ]
  },
  {
   "cell_type": "markdown",
   "id": "845b582e",
   "metadata": {},
   "source": [
    "### 6.1 Encerramento de Programas\n",
    "Você pode encerrar um programa usando sys.exit(). O código de saída 0 indica que o programa foi encerrado com sucesso, enquanto outros códigos indicam erros.\n",
    "\n",
    "### 6.2 Códigos de Saída\n",
    "Defina códigos de saída personalizados para comunicar o estado do programa:"
   ]
  },
  {
   "cell_type": "code",
   "execution_count": null,
   "id": "7e7c9244",
   "metadata": {},
   "outputs": [],
   "source": [
    "import sys\n",
    "\n",
    "try:\n",
    "    # Seu código aqui\n",
    "except Exception as e:\n",
    "    sys.exit(1)  # Código de saída 1 indica erro"
   ]
  },
  {
   "cell_type": "markdown",
   "id": "d0e9941e",
   "metadata": {},
   "source": [
    "### 6.3 Tratamento de Exceções\n",
    "Lide com exceções ao usar sys.exit() para garantir que o programa seja encerrado corretamente."
   ]
  },
  {
   "cell_type": "markdown",
   "id": "c13c5ce1",
   "metadata": {},
   "source": [
    "## 7. Exemplos Práticos <a id=\"Exemplos-Práticos\"></a>\n",
    "[Para cima](#indice)"
   ]
  },
  {
   "cell_type": "markdown",
   "id": "4eaa7763",
   "metadata": {},
   "source": [
    "### 7.1 Exemplo 1: Manipulação de Argumentos de Linha de Comando"
   ]
  },
  {
   "cell_type": "code",
   "execution_count": null,
   "id": "c221e677",
   "metadata": {},
   "outputs": [],
   "source": [
    "import sys\n",
    "\n",
    "if len(sys.argv) < 2:\n",
    "    print(\"Uso: python meu_script.py <argumento>\")\n",
    "    sys.exit(1)\n",
    "\n",
    "argument = sys.argv[1]\n",
    "print(\"Você forneceu o argumento:\", argument)"
   ]
  },
  {
   "cell_type": "markdown",
   "id": "35c65d6d",
   "metadata": {},
   "source": [
    "### 7.2 Exemplo 2: Redirecionamento de Saída"
   ]
  },
  {
   "cell_type": "code",
   "execution_count": null,
   "id": "3726ec06",
   "metadata": {},
   "outputs": [],
   "source": [
    "\n",
    "import sys\n",
    "\n",
    "with open(\"saida.txt\", \"w\") as file:\n",
    "    sys.stdout = file\n",
    "    print(\"Esta mensagem será gravada no arquivo 'saida.txt'.\")\n",
    "\n",
    "print(\"Esta mensagem será exibida na saída padrão.\")"
   ]
  },
  {
   "cell_type": "markdown",
   "id": "3003c227",
   "metadata": {},
   "source": [
    "## 8. Uso Avançado do Módulo \"sys\" <a id=\"Módulo-sys\"></a>\n",
    "[Para cima](#indice)"
   ]
  },
  {
   "cell_type": "markdown",
   "id": "f7be0dc0",
   "metadata": {},
   "source": [
    "### 8.1 Depuração de Códigos Python\n",
    "O módulo \"sys\" pode ser usado para depurar códigos Python, permitindo interações interativas durante a execução.\n",
    "\n",
    "### 8.2 Monitoramento de Uso de Memória\n",
    "Você pode monitorar o uso de memória do seu programa com \"sys.getsizeof()\" e outras funções relacionadas.\n",
    "\n",
    "### 8.3 Personalização de Ações\n",
    "O módulo \"sys\" permite personalizar várias ações para atender às necessidades específicas do seu programa. Explore a documentação do módulo \"sys\" para obter mais informações sobre como personalizar as ações conforme necessário.\n",
    "\n",
    "Este tutorial cobre os principais recursos e técnicas do módulo \"sys\" em Python. Você aprendeu como manipular argumentos de linha de comando, configurar caminhos, interagir com o interpretador, gerenciar a saída e encerrar programas com eficiência. O módulo \"sys\" é uma ferramenta poderosa para interagir com o sistema e personalizar o comportamento do seu programa."
   ]
  },
  {
   "cell_type": "markdown",
   "id": "4328cd81",
   "metadata": {},
   "source": [
    "NOTA: Lembre-se de que o uso do módulo \"sys\" deve ser feito com cuidado, pois ele tem o potencial de afetar o funcionamento do sistema e do programa. Certifique-se de testar suas alterações em um ambiente controlado antes de implementá-las em um ambiente de produção."
   ]
  },
  {
   "cell_type": "code",
   "execution_count": null,
   "id": "db505781",
   "metadata": {},
   "outputs": [],
   "source": []
  }
 ],
 "metadata": {
  "kernelspec": {
   "display_name": "Python 3 (ipykernel)",
   "language": "python",
   "name": "python3"
  },
  "language_info": {
   "codemirror_mode": {
    "name": "ipython",
    "version": 3
   },
   "file_extension": ".py",
   "mimetype": "text/x-python",
   "name": "python",
   "nbconvert_exporter": "python",
   "pygments_lexer": "ipython3",
   "version": "3.9.19"
  },
  "toc": {
   "base_numbering": 1,
   "nav_menu": {},
   "number_sections": true,
   "sideBar": true,
   "skip_h1_title": false,
   "title_cell": "Table of Contents",
   "title_sidebar": "Contents",
   "toc_cell": false,
   "toc_position": {},
   "toc_section_display": true,
   "toc_window_display": false
  }
 },
 "nbformat": 4,
 "nbformat_minor": 5
}
