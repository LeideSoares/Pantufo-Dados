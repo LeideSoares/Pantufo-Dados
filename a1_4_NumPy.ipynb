{
 "cells": [
  {
   "cell_type": "markdown",
   "id": "ffe7b2c0",
   "metadata": {},
   "source": [
    "#### Bem Vindo a\n",
    "<br>\n",
    "\n",
    "# <strong><a style=\"color:#000031; font-family: poppins\"   href=\"https://pantufodados.com\"> Pantufo <a style=\"color:#3366cc;\" href=\"https://pantufodados.com\">Dados</a></a></strong> $. com$\n",
    "<br><br>\n",
    "\n",
    "\n",
    "<a style=\"font-family:montserrat; color:#000031\" href=\"https://pantufodados.com\">\n",
    "   Aprenda tudo sobre Análise de Dados e Ciência de Dados com Python\n",
    "</a>\n",
    "\n",
    "\n",
    "<br><br><br><br><br><br>\n"
   ]
  },
  {
   "cell_type": "markdown",
   "id": "5c16d1b5",
   "metadata": {},
   "source": [
    "# Biblioteca  <strong style=\"font-family:montserrat; color:#3366cc\">NumPy</strong>\n",
    "<br><br><br>"
   ]
  },
  {
   "cell_type": "markdown",
   "id": "96c06805",
   "metadata": {},
   "source": [
    "# Introdução ao NumPy\n",
    "### O que é o NumPy?"
   ]
  },
  {
   "cell_type": "markdown",
   "id": "3551afc4",
   "metadata": {},
   "source": [
    "NumPy é uma biblioteca em Python usada para manipulação de matrizes e arrays multidimensionais. Ela fornece uma ampla variedade de funções e operações para trabalhar com essas estruturas de dados de forma eficiente.\n",
    "\n",
    "## Instalação do NumPy\n",
    "Para instalar o NumPy, utilize o seguinte comando:\n",
    "\n"
   ]
  },
  {
   "cell_type": "markdown",
   "id": "4b5336de",
   "metadata": {},
   "source": [
    "!pip install numpy"
   ]
  },
  {
   "cell_type": "markdown",
   "id": "15f452a3",
   "metadata": {},
   "source": [
    "# Criação de Arrays NumPy\n",
    "### A partir de listas Python\n",
    "Você pode criar um array NumPy a partir de uma lista Python da seguinte forma:"
   ]
  },
  {
   "cell_type": "code",
   "execution_count": 1,
   "id": "475947b0",
   "metadata": {},
   "outputs": [],
   "source": [
    "import numpy as np"
   ]
  },
  {
   "cell_type": "code",
   "execution_count": 2,
   "id": "d1b7d914",
   "metadata": {},
   "outputs": [
    {
     "name": "stdout",
     "output_type": "stream",
     "text": [
      "[1 2 3 4 5]\n"
     ]
    }
   ],
   "source": [
    "lista = [1, 2, 3, 4, 5]\n",
    "array = np.array(lista)\n",
    "\n",
    "print(array)"
   ]
  },
  {
   "cell_type": "code",
   "execution_count": 3,
   "id": "05e813bc",
   "metadata": {},
   "outputs": [
    {
     "data": {
      "text/plain": [
       "array([ 2,  4,  6,  8, 10])"
      ]
     },
     "execution_count": 3,
     "metadata": {},
     "output_type": "execute_result"
    }
   ],
   "source": [
    "array * 2"
   ]
  },
  {
   "cell_type": "code",
   "execution_count": 4,
   "id": "291015d2",
   "metadata": {},
   "outputs": [
    {
     "data": {
      "text/plain": [
       "[1, 2, 3, 4, 5, 1, 2, 3, 4, 5]"
      ]
     },
     "execution_count": 4,
     "metadata": {},
     "output_type": "execute_result"
    }
   ],
   "source": [
    "lista * 2"
   ]
  },
  {
   "cell_type": "markdown",
   "id": "d2bc4881",
   "metadata": {},
   "source": [
    "### Usando funções NumPy\n",
    "Você pode usar funções NumPy para criar arrays com valores específicos:"
   ]
  },
  {
   "cell_type": "code",
   "execution_count": 5,
   "id": "0e5ed69a",
   "metadata": {},
   "outputs": [
    {
     "name": "stdout",
     "output_type": "stream",
     "text": [
      "[0. 0. 0. 0. 0.]\n",
      "[1. 1. 1. 1. 1. 1.]\n",
      "[0.902665   0.2656041  0.87494878 0.80569334 0.25578968]\n"
     ]
    }
   ],
   "source": [
    "import numpy as np\n",
    "\n",
    "zeros = np.zeros(5)  # Array de zeros\n",
    "ones = np.ones(6)    # Array de uns\n",
    "rand = np.random.rand(5)  # Array com valores aleatórios entre 0 e 1\n",
    "\n",
    "print(zeros)\n",
    "print(ones)\n",
    "print(rand)"
   ]
  },
  {
   "cell_type": "code",
   "execution_count": null,
   "id": "04b7c585",
   "metadata": {},
   "outputs": [],
   "source": []
  },
  {
   "cell_type": "markdown",
   "id": "7ad046b7",
   "metadata": {},
   "source": [
    "# Operações Básicas\n",
    "Adição, subtração, multiplicação e divisão\n",
    "Realize operações básicas em arrays NumPy:"
   ]
  },
  {
   "cell_type": "code",
   "execution_count": 6,
   "id": "1b17f4d9",
   "metadata": {},
   "outputs": [],
   "source": [
    "array1 = np.array([1, 2, 3])\n",
    "array2 = np.array([4, 5, 6])"
   ]
  },
  {
   "cell_type": "code",
   "execution_count": 7,
   "id": "6b423c68",
   "metadata": {},
   "outputs": [
    {
     "name": "stdout",
     "output_type": "stream",
     "text": [
      "Soma: [5 7 9]\n",
      "Subtração: [-3 -3 -3]\n",
      "Multiplicação: [ 4 10 18]\n",
      "Divisão: [0.25 0.4  0.5 ]\n"
     ]
    }
   ],
   "source": [
    "soma = array1 + array2\n",
    "subtracao = array1 - array2\n",
    "multiplicacao = array1 * array2\n",
    "divisao = array1 / array2\n",
    "\n",
    "print(\"Soma:\", soma)\n",
    "print(\"Subtração:\", subtracao)\n",
    "print(\"Multiplicação:\", multiplicacao)\n",
    "print(\"Divisão:\", divisao)"
   ]
  },
  {
   "cell_type": "markdown",
   "id": "b8504f05",
   "metadata": {},
   "source": [
    "### Funções matemáticas\n",
    "Aplique funções matemáticas a arrays NumPy:"
   ]
  },
  {
   "cell_type": "code",
   "execution_count": 8,
   "id": "c6134fb3",
   "metadata": {},
   "outputs": [
    {
     "name": "stdout",
     "output_type": "stream",
     "text": [
      "Quadrado: [ 1  4  9 16 25]\n",
      "Raiz Quadrada: [1.         1.41421356 1.73205081 2.         2.23606798]\n",
      "Seno: [ 0.84147098  0.90929743  0.14112001 -0.7568025  -0.95892427]\n",
      "Cosseno: [ 0.54030231 -0.41614684 -0.9899925  -0.65364362  0.28366219]\n"
     ]
    }
   ],
   "source": [
    "array = np.array([1, 2, 3, 4, 5])\n",
    "\n",
    "quadrado = np.square(array)      # Eleva ao quadrado\n",
    "raiz_quadrada = np.sqrt(array)   # Raiz quadrada\n",
    "seno = np.sin(array)             # Seno\n",
    "cosseno = np.cos(array)          # Cosseno\n",
    "\n",
    "print(\"Quadrado:\", quadrado)\n",
    "print(\"Raiz Quadrada:\", raiz_quadrada)\n",
    "print(\"Seno:\", seno)\n",
    "print(\"Cosseno:\", cosseno)"
   ]
  },
  {
   "cell_type": "markdown",
   "id": "6c854a47",
   "metadata": {},
   "source": [
    "### Manipulação de arrays\n",
    "Realize manipulações em arrays, como encontrar o valor máximo e mínimo, somar elementos e calcular a média:"
   ]
  },
  {
   "cell_type": "code",
   "execution_count": 9,
   "id": "3e4200b6",
   "metadata": {},
   "outputs": [
    {
     "name": "stdout",
     "output_type": "stream",
     "text": [
      "Máximo: 5\n",
      "Mínimo: 1\n",
      "Soma: 15\n",
      "Média: 3.0\n"
     ]
    }
   ],
   "source": [
    "array = np.array([1, 2, 3, 4, 5])\n",
    "\n",
    "maximo = np.max(array)\n",
    "minimo = np.min(array)\n",
    "soma = np.sum(array)\n",
    "media = np.mean(array)\n",
    "\n",
    "print(\"Máximo:\", maximo)\n",
    "print(\"Mínimo:\", minimo)\n",
    "print(\"Soma:\", soma)\n",
    "print(\"Média:\", media)"
   ]
  },
  {
   "cell_type": "markdown",
   "id": "5df9e423",
   "metadata": {},
   "source": [
    "# Indexação e Fatiamento\n",
    "### Acessando elementos individuais\n",
    "Você pode acessar elementos individuais em um array NumPy usando índices:"
   ]
  },
  {
   "cell_type": "code",
   "execution_count": 10,
   "id": "778c8279",
   "metadata": {},
   "outputs": [
    {
     "name": "stdout",
     "output_type": "stream",
     "text": [
      "Elemento: 3\n"
     ]
    }
   ],
   "source": [
    "array = np.array([1, 2, 3, 4, 5])\n",
    "\n",
    "elemento = array[2]  # Acessa o terceiro elemento (índice 2)\n",
    "print(\"Elemento:\", elemento)"
   ]
  },
  {
   "cell_type": "markdown",
   "id": "b45dffc3",
   "metadata": {},
   "source": [
    "### Fatiamento de arrays\n",
    "Realize fatiamento (slicing) em arrays para obter subconjuntos de elementos:"
   ]
  },
  {
   "cell_type": "code",
   "execution_count": 12,
   "id": "d24f8824",
   "metadata": {},
   "outputs": [
    {
     "name": "stdout",
     "output_type": "stream",
     "text": [
      "Subarray: [2 3 4]\n"
     ]
    }
   ],
   "source": [
    "array = np.array([1, 2, 3, 4, 5, 6, 7, 8, 9])\n",
    "\n",
    "subarray = array[1:4]  # Obtém elementos de índice 1 a 3\n",
    "print(\"Subarray:\", subarray)"
   ]
  },
  {
   "cell_type": "markdown",
   "id": "538b239a",
   "metadata": {},
   "source": [
    "### Indexação avançada\n",
    "Você pode realizar indexação avançada para acessar elementos com base em condições:"
   ]
  },
  {
   "cell_type": "code",
   "execution_count": 14,
   "id": "5e36bf21",
   "metadata": {},
   "outputs": [
    {
     "data": {
      "text/plain": [
       "True"
      ]
     },
     "execution_count": 14,
     "metadata": {},
     "output_type": "execute_result"
    }
   ],
   "source": [
    "False == 0"
   ]
  },
  {
   "cell_type": "code",
   "execution_count": 15,
   "id": "9143c55e",
   "metadata": {},
   "outputs": [
    {
     "data": {
      "text/plain": [
       "True"
      ]
     },
     "execution_count": 15,
     "metadata": {},
     "output_type": "execute_result"
    }
   ],
   "source": [
    "True == 1"
   ]
  },
  {
   "cell_type": "code",
   "execution_count": 13,
   "id": "e0e70289",
   "metadata": {},
   "outputs": [
    {
     "name": "stdout",
     "output_type": "stream",
     "text": [
      "Índices: [False False  True  True  True]\n",
      "Elementos maiores que 2: [3 4 5]\n"
     ]
    }
   ],
   "source": [
    "array = np.array([1, 2, 3, 4, 5])\n",
    "\n",
    "indices = array > 2\n",
    "\n",
    "\n",
    "elementos = array[indices]\n",
    "\n",
    "print(\"Índices:\", indices)\n",
    "print(\"Elementos maiores que 2:\", elementos)"
   ]
  },
  {
   "cell_type": "code",
   "execution_count": null,
   "id": "570f0668",
   "metadata": {},
   "outputs": [],
   "source": []
  },
  {
   "cell_type": "markdown",
   "id": "bcec0fed",
   "metadata": {},
   "source": [
    "# Forma e Dimensões\n",
    "### Obtendo a forma de um array\n",
    "Você pode obter a forma de um array NumPy usando o atributo `shape`:"
   ]
  },
  {
   "cell_type": "markdown",
   "id": "47f1c8d6",
   "metadata": {},
   "source": [
    "##### Matrizes"
   ]
  },
  {
   "attachments": {
    "image-3.png": {
     "image/png": "[encoded data removed]"
    }
   },
   "cell_type": "markdown",
   "id": "9510e9f4",
   "metadata": {},
   "source": [
    "![image-3.png](attachment:image-3.png)"
   ]
  },
  {
   "cell_type": "code",
   "execution_count": 16,
   "id": "0de5efba",
   "metadata": {},
   "outputs": [
    {
     "name": "stdout",
     "output_type": "stream",
     "text": [
      "Forma do Array: (2, 3)\n"
     ]
    }
   ],
   "source": [
    "array = np.array([[1, 2, 3], [4, 5, 6]])\n",
    "\n",
    "forma = array.shape\n",
    "print(\"Forma do Array:\", forma)"
   ]
  },
  {
   "cell_type": "markdown",
   "id": "a4b016d4",
   "metadata": {},
   "source": [
    "### Mudando a forma de um array\n",
    "Altere a forma de um array usando o método `reshape`:"
   ]
  },
  {
   "cell_type": "code",
   "execution_count": 17,
   "id": "98e62f02",
   "metadata": {},
   "outputs": [
    {
     "name": "stdout",
     "output_type": "stream",
     "text": [
      "Novo Array:\n",
      "[[1 2 3]\n",
      " [4 5 6]]\n"
     ]
    }
   ],
   "source": [
    "array = np.array([1, 2, 3, 4, 5, 6])\n",
    "\n",
    "novo_array = array.reshape(2, 3)  # Transforma em uma matriz de 2x3\n",
    "print(\"Novo Array:\")\n",
    "print(novo_array)"
   ]
  },
  {
   "cell_type": "code",
   "execution_count": 18,
   "id": "813751ef",
   "metadata": {},
   "outputs": [
    {
     "name": "stdout",
     "output_type": "stream",
     "text": [
      "Novo Array:\n",
      "[[1 2]\n",
      " [3 4]\n",
      " [5 6]]\n"
     ]
    }
   ],
   "source": [
    "array = np.array([1, 2, 3, 4, 5, 6])\n",
    "\n",
    "novo_array = array.reshape(3, 2)  # Transforma em uma matriz de 2x3\n",
    "print(\"Novo Array:\")\n",
    "print(novo_array)"
   ]
  },
  {
   "cell_type": "markdown",
   "id": "95923462",
   "metadata": {},
   "source": [
    "### Concatenação de arrays\n",
    "Concatene arrays horizontalmente ou verticalmente:"
   ]
  },
  {
   "cell_type": "code",
   "execution_count": 19,
   "id": "451cfc45",
   "metadata": {},
   "outputs": [
    {
     "name": "stdout",
     "output_type": "stream",
     "text": [
      "Concatenado Horizontalmente: [1 2 3 4 5 6]\n",
      "Concatenado Verticalmente:\n",
      "[[1 2 3]\n",
      " [4 5 6]]\n"
     ]
    }
   ],
   "source": [
    "array1 = np.array([1, 2, 3])\n",
    "array2 = np.array([4, 5, 6])\n",
    "\n",
    "concatenado_horizontal = np.concatenate((array1, array2), axis=0)  # Concatena horizontalmente\n",
    "concatenado_vertical = np.vstack((array1, array2))  # Concatena verticalmente\n",
    "\n",
    "print(\"Concatenado Horizontalmente:\", concatenado_horizontal)\n",
    "print(\"Concatenado Verticalmente:\")\n",
    "print(concatenado_vertical)"
   ]
  },
  {
   "cell_type": "markdown",
   "id": "6d3d6dfc",
   "metadata": {},
   "source": [
    "# Funções Estatísticas\n",
    "### Soma, média, máximo e mínimo\n",
    "Aplique funções estatísticas comuns a arrays NumPy:"
   ]
  },
  {
   "cell_type": "code",
   "execution_count": 20,
   "id": "ea8eff24",
   "metadata": {},
   "outputs": [
    {
     "name": "stdout",
     "output_type": "stream",
     "text": [
      "Soma: 15\n",
      "Média: 3.0\n",
      "Máximo: 5\n",
      "Mínimo: 1\n"
     ]
    }
   ],
   "source": [
    "array = np.array([1, 2, 3, 4, 5])\n",
    "\n",
    "soma = np.sum(array)\n",
    "media = np.mean(array)\n",
    "maximo = np.max(array)\n",
    "minimo = np.min(array)\n",
    "\n",
    "print(\"Soma:\", soma)\n",
    "print(\"Média:\", media)\n",
    "print(\"Máximo:\", maximo)\n",
    "print(\"Mínimo:\", minimo)"
   ]
  },
  {
   "cell_type": "markdown",
   "id": "bfad17e8",
   "metadata": {},
   "source": [
    "### Desvio padrão e variância\n",
    "Calcule o desvio padrão e a variância de um array:"
   ]
  },
  {
   "cell_type": "code",
   "execution_count": 21,
   "id": "e8c9521e",
   "metadata": {},
   "outputs": [
    {
     "name": "stdout",
     "output_type": "stream",
     "text": [
      "Desvio Padrão: 1.4142135623730951\n",
      "Variância: 2.0\n"
     ]
    }
   ],
   "source": [
    "array = np.array([1, 2, 3, 4, 5])\n",
    "\n",
    "desvio_padrao = np.std(array)\n",
    "variancia = np.var(array)\n",
    "\n",
    "print(\"Desvio Padrão:\", desvio_padrao)\n",
    "print(\"Variância:\", variancia)"
   ]
  },
  {
   "cell_type": "markdown",
   "id": "dd79d2ba",
   "metadata": {},
   "source": [
    "# Broadcasting\n",
    "### Compreendendo o broadcasting\n",
    "O broadcasting permite operações eficientes em arrays de diferentes formas:"
   ]
  },
  {
   "cell_type": "code",
   "execution_count": 22,
   "id": "6bf5e607",
   "metadata": {},
   "outputs": [
    {
     "name": "stdout",
     "output_type": "stream",
     "text": [
      "Resultado: [2 4 6]\n"
     ]
    }
   ],
   "source": [
    "array = np.array([1, 2, 3])\n",
    "escalar = 2\n",
    "\n",
    "resultado = array * escalar  # Broadcasting\n",
    "\n",
    "print(\"Resultado:\", resultado)"
   ]
  },
  {
   "cell_type": "markdown",
   "id": "e70a7cf1",
   "metadata": {},
   "source": [
    "# Leitura e Escrita de Dados"
   ]
  },
  {
   "cell_type": "markdown",
   "id": "3d74f5d1",
   "metadata": {},
   "source": [
    "### Escrevendo dados em arquivos\n",
    "Salve arrays NumPy em arquivos:"
   ]
  },
  {
   "cell_type": "code",
   "execution_count": 23,
   "id": "b4fcb288",
   "metadata": {},
   "outputs": [
    {
     "name": "stdout",
     "output_type": "stream",
     "text": [
      "Array salvo em 'meu_arquivo.txt'.\n"
     ]
    }
   ],
   "source": [
    "array = np.array([1, 2, 3, 4, 5])\n",
    "\n",
    "np.savetxt('meu_arquivo.txt', array, delimiter=',')\n",
    "print(\"Array salvo em 'meu_arquivo.txt'.\")"
   ]
  },
  {
   "cell_type": "markdown",
   "id": "b7e81b24",
   "metadata": {},
   "source": [
    "\n",
    "### Lendo dados de arquivos\n",
    "Use NumPy para ler dados de arquivos, como arquivos CSV:"
   ]
  },
  {
   "cell_type": "code",
   "execution_count": 25,
   "id": "c591d44f",
   "metadata": {},
   "outputs": [
    {
     "name": "stdout",
     "output_type": "stream",
     "text": [
      "Dados lidos do arquivo CSV:\n",
      "[1. 2. 3. 4. 5.]\n"
     ]
    }
   ],
   "source": [
    "dados = np.genfromtxt('meu_arquivo.txt', delimiter=',')\n",
    "print(\"Dados lidos do arquivo CSV:\")\n",
    "print(dados)"
   ]
  },
  {
   "cell_type": "markdown",
   "id": "829dc8b6",
   "metadata": {},
   "source": [
    "# Exemplos Práticos\n",
    "### Exemplo 1: Processamento de Dados\n",
    "Aqui está um exemplo simples de processamento de dados usando NumPy. Suponha que temos uma lista de números e queremos calcular a média e o desvio padrão:"
   ]
  },
  {
   "cell_type": "code",
   "execution_count": 26,
   "id": "544ff98e",
   "metadata": {},
   "outputs": [
    {
     "name": "stdout",
     "output_type": "stream",
     "text": [
      "Média: 18.4\n",
      "Desvio Padrão: 4.673328578219168\n"
     ]
    }
   ],
   "source": [
    "dados = [12, 15, 18, 22, 25]\n",
    "\n",
    "array = np.array(dados)\n",
    "media = np.mean(array)\n",
    "desvio_padrao = np.std(array)\n",
    "\n",
    "print(\"Média:\", media)\n",
    "print(\"Desvio Padrão:\", desvio_padrao)"
   ]
  },
  {
   "cell_type": "code",
   "execution_count": null,
   "id": "e39b7f2f",
   "metadata": {},
   "outputs": [],
   "source": []
  },
  {
   "attachments": {
    "image.png": {
     "image/png": "[encoded data removed]"
    }
   },
   "cell_type": "markdown",
   "id": "db43db1a",
   "metadata": {},
   "source": [
    "### Exemplo 2: Álgebra Linear\n",
    "Vamos criar um exemplo de álgebra linear onde multiplicamos duas matrizes:\n",
    "\n",
    "![image.png](attachment:image.png)"
   ]
  },
  {
   "cell_type": "code",
   "execution_count": null,
   "id": "28789a82",
   "metadata": {},
   "outputs": [],
   "source": [
    "matriz1 = np.array([[1, 2], [3, 4]])\n",
    "matriz2 = np.array([[5, 6], [7, 8]])\n",
    "\n",
    "resultado = np.dot(matriz1, matriz2)\n",
    "\n",
    "print(\"Resultado da multiplicação de matrizes:\")\n",
    "print(resultado)"
   ]
  },
  {
   "cell_type": "markdown",
   "id": "92bf3e57",
   "metadata": {},
   "source": [
    "Este tutorial abrange os conceitos básicos do NumPy e demonstra exemplos práticos. Com esse conhecimento, você poderá começar a usar o NumPy de forma eficaz em seus projetos de processamento de dados e cálculos numéricos em Python."
   ]
  },
  {
   "cell_type": "markdown",
   "id": "7b6d0542",
   "metadata": {},
   "source": [
    "# Aplicação Prática  - NumPy"
   ]
  },
  {
   "cell_type": "markdown",
   "id": "1eb3e671",
   "metadata": {},
   "source": [
    "['STP', 'AGO', 'MZ', 'GB', 'CV', 'BR', 'PT']\n",
    "\n",
    "\n",
    "[2023,\n",
    " 2022,\n",
    " 2020,\n",
    " 2015,\n",
    " 2010,\n",
    " 2005,\n",
    " 2000,\n",
    " 1995,\n",
    " 1990,\n",
    " 1985,\n",
    " 1980,\n",
    " 1975,\n",
    " 1970,\n",
    " 1965,\n",
    " 1960,\n",
    " 1955]"
   ]
  },
  {
   "cell_type": "code",
   "execution_count": 30,
   "id": "55224841",
   "metadata": {},
   "outputs": [],
   "source": [
    "pop = np.genfromtxt('Populacao_Lusofonia.txt', delimiter=',')"
   ]
  },
  {
   "cell_type": "code",
   "execution_count": 34,
   "id": "d810163a",
   "metadata": {},
   "outputs": [
    {
     "data": {
      "text/plain": [
       "array([2150842., 2105566., 2015828., 1788919., 1567220., 1379713.,\n",
       "       1230849., 1117222.,  973551.,  900088.,  831462.,  659635.,\n",
       "        591663.,  577638.,  577933.,  563713.])"
      ]
     },
     "execution_count": 34,
     "metadata": {},
     "output_type": "execute_result"
    }
   ],
   "source": [
    "pop[3]"
   ]
  },
  {
   "cell_type": "code",
   "execution_count": 37,
   "id": "3a3bb0ae",
   "metadata": {},
   "outputs": [
    {
     "data": {
      "text/plain": [
       "(216422446.0, 65300.0)"
      ]
     },
     "execution_count": 37,
     "metadata": {},
     "output_type": "execute_result"
    }
   ],
   "source": [
    "pop.max(), pop.min()"
   ]
  },
  {
   "cell_type": "code",
   "execution_count": 38,
   "id": "30300738",
   "metadata": {},
   "outputs": [],
   "source": [
    "stp = pop[0]\n",
    "ago = pop[1]\n",
    "mz = pop[2]\n",
    "gb = pop[3]\n",
    "cv = pop[4]\n",
    "br = pop[-2]\n",
    "pt = pop[-1]"
   ]
  },
  {
   "cell_type": "code",
   "execution_count": 40,
   "id": "26a9f78c",
   "metadata": {},
   "outputs": [
    {
     "data": {
      "text/plain": [
       "array([3.55062787, 3.4820827 , 3.34825421, 3.08      , 2.78924962,\n",
       "       2.47595712, 2.20082695, 2.03793262, 1.84292496, 1.63257274,\n",
       "       1.48866769, 1.31756508, 1.18810107, 1.09846861, 1.04192956,\n",
       "       1.        ])"
      ]
     },
     "execution_count": 40,
     "metadata": {},
     "output_type": "execute_result"
    }
   ],
   "source": [
    "evolucao_stp = stp / stp[-1]\n",
    "evolucao_stp"
   ]
  },
  {
   "cell_type": "code",
   "execution_count": 41,
   "id": "25418105",
   "metadata": {},
   "outputs": [
    {
     "data": {
      "text/plain": [
       "array([7.42878198, 7.20699404, 6.76947898, 5.69604068, 4.73139463,\n",
       "       3.93894172, 3.31990082, 2.81731887, 2.3953737 , 2.01911356,\n",
       "       1.68688699, 1.42416868, 1.22105223, 1.16169399, 1.08486573,\n",
       "       1.        ])"
      ]
     },
     "execution_count": 41,
     "metadata": {},
     "output_type": "execute_result"
    }
   ],
   "source": [
    "evolucao_ago =  ago / ago[-1]\n",
    "evolucao_ago"
   ]
  },
  {
   "cell_type": "code",
   "execution_count": 43,
   "id": "b5776368",
   "metadata": {},
   "outputs": [
    {
     "data": {
      "text/plain": [
       "array([1.18258184, 1.18526606, 1.18841962, 1.19617952, 1.22190997,\n",
       "       1.214399  , 1.18870051, 1.15992209, 1.15485576, 1.15364982,\n",
       "       1.12922593, 1.062     , 1.00209799, 1.02696236, 1.02504405,\n",
       "       1.        ])"
      ]
     },
     "execution_count": 43,
     "metadata": {},
     "output_type": "execute_result"
    }
   ],
   "source": [
    "evolucao_pt = pt / pt[-1]\n",
    "evolucao_pt"
   ]
  },
  {
   "cell_type": "code",
   "execution_count": 44,
   "id": "9f8d05f9",
   "metadata": {},
   "outputs": [
    {
     "data": {
      "text/plain": [
       "array([3.4516569 , 3.43397062, 3.40020412, 3.27248534, 3.13158315,\n",
       "       2.97917484, 2.80495739, 2.60785709, 2.40357206, 2.18151405,\n",
       "       1.95034086, 1.73363202, 1.53697433, 1.34963884, 1.16573067,\n",
       "       1.        ])"
      ]
     },
     "execution_count": 44,
     "metadata": {},
     "output_type": "execute_result"
    }
   ],
   "source": [
    "evolucao_br = br / br[-1]\n",
    "evolucao_br"
   ]
  }
 ],
 "metadata": {
  "kernelspec": {
   "display_name": "Python 3 (ipykernel)",
   "language": "python",
   "name": "python3"
  },
  "language_info": {
   "codemirror_mode": {
    "name": "ipython",
    "version": 3
   },
   "file_extension": ".py",
   "mimetype": "text/x-python",
   "name": "python",
   "nbconvert_exporter": "python",
   "pygments_lexer": "ipython3",
   "version": "3.9.13"
  }
 },
 "nbformat": 4,
 "nbformat_minor": 5
}
