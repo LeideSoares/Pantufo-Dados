{
 "cells": [
  {
   "cell_type": "markdown",
   "id": "f18de4f8",
   "metadata": {},
   "source": [
    "#### Bem Vindo a\n",
    "<br>\n",
    "\n",
    "# <strong><a style=\"color:#000031; font-family: poppins\"   href=\"https://pantufodados.com\"> Pantufo <a style=\"color:#3366cc;\" href=\"https://pantufodados.com\">Dados</a></a></strong> $. com$\n",
    "<br><br>\n",
    "\n",
    "\n",
    "<a style=\"font-family:montserrat; color:#000031\" href=\"https://pantufodados.com\">\n",
    "   Aprenda tudo sobre Análise de Dados e Ciência de Dados com Python\n",
    "</a>\n",
    "\n",
    "\n",
    "\n",
    "<br><br><br><br><br><br>\n",
    "\n",
    "#  Biblioteca  <strong style=\"font-family:montserrat; color:#3366cc\">Datetime</strong>\n",
    "<br><br><br>\n",
    "#### Índice\n",
    "\n",
    "1.\tIntrodução à Biblioteca Datetime\n",
    "    - O que é a biblioteca Datetime?\n",
    "    - Por que usar a biblioteca Datetime?\n",
    "\n",
    "\n",
    "2.\tFuncionalidades Básicas\n",
    "\t- Criando Objetos de Data e Hora\n",
    "\t-  Manipulação Simples de Datas e Horas\n",
    "    \n",
    "    \n",
    "3.\tFormatação e Exibição\n",
    "\t- Formatando Datas e Horas\n",
    "\t-  Exibição de Datas e Horas Formatadas\n",
    "\n",
    "\n",
    "4.\tFuncionalidades Avançadas\n",
    "\t- Manipulação de Fusos Horários\n",
    "\t-  Calculando Diferenças entre Datas e Horas\n",
    "    \n",
    "    \n",
    "5.\tAplicações Práticas\n",
    "\t- Agendamento de Eventos\n",
    "\t-  Cálculo de Idade\n",
    "\t-  Conversão de Fusos Horários em Aplicações Web\n",
    "\n"
   ]
  },
  {
   "cell_type": "markdown",
   "id": "6a4e6bf1",
   "metadata": {},
   "source": [
    "| Codigo|Descricao|Exemplo|\n",
    "|---|---|---|\n",
    "| %a|Weekday, short version|Wed|\n",
    "| %A|Weekday, full version|Wednesday|\n",
    "| %w|Weekday as a number 0-6, 0 is Sunday|3|\n",
    "| %d|Day of month 01-31|31|\n",
    "| %b|Month name, short version|Dec|\n",
    "| %B|Month name, full version|December|\n",
    "| %m|Month as a number 01-12|12|\n",
    "| %y|Year, short version, without century|18|\n",
    "| %Y|Year, full version|2018|\n",
    "| %H|Hour 00-23|17|\n",
    "| %I|Hour 00-12|05|\n",
    "| %p|AM/PM|PM|\n",
    "| %M|Minute 00-59|41|\n",
    "| %S|Second 00-59|08|\n",
    "| %f|Microsecond 000000-999999|548513|\n",
    "| %z|UTC offset|+0100|\n",
    "| %Z|Timezone|CST|\n",
    "| %j|Day number of year 001-366|365|\n",
    "| %U|Week number of year, Sunday as the first day of week, 00-53|52|\n",
    "| %W|Week number of year, Monday as the first day of week, 00-53|52|\n",
    "| %c|Local version of date and time|Mon Dec 31 17:41:00 2018|\n",
    "| %C|Century|20|\n",
    "| %x|Local version of date|12/31/18|\n",
    "| %X|Local version of time|17:41:00|\n",
    "| %%|A % character|%|\n",
    "| %G|ISO 8601 year|2018|\n",
    "| %u|ISO 8601 weekday (1-7)|1|\n",
    "| %V|ISO 8601 weeknumber (01-53)|01"
   ]
  },
  {
   "cell_type": "markdown",
   "id": "14445e71",
   "metadata": {},
   "source": [
    "#  Introdução à Biblioteca Datetime\n",
    "\n",
    "O que é a biblioteca Datetime?\n",
    "\n",
    "A biblioteca Datetime é uma parte essencial do Python que nos permite trabalhar com datas e horas de forma eficiente. Com ela, podemos criar, manipular e formatar datas e horas de maneira simples e eficaz.\n",
    "\n",
    "Por que usar a biblioteca Datetime?\n",
    "\n",
    "Ao lidar com dados temporais em nossos programas, como agendamento de eventos, cálculos de idade, ou mesmo exibição de informações de tempo em aplicações web, a biblioteca Datetime oferece uma ampla gama de funcionalidades que simplificam muito o nosso trabalho.\n",
    "\n",
    "#  Funcionalidades Básicas\n",
    "\n",
    "Criando Objetos de Data e Hora\n",
    "\n",
    "Podemos criar objetos de data, hora ou ambos combinados usando as classes date, time e datetime da biblioteca Datetime."
   ]
  },
  {
   "cell_type": "code",
   "execution_count": null,
   "id": "b04593f3",
   "metadata": {},
   "outputs": [],
   "source": []
  },
  {
   "cell_type": "code",
   "execution_count": null,
   "id": "f51c9439",
   "metadata": {},
   "outputs": [],
   "source": []
  },
  {
   "cell_type": "code",
   "execution_count": null,
   "id": "fa5c0f3e",
   "metadata": {},
   "outputs": [],
   "source": []
  },
  {
   "cell_type": "code",
   "execution_count": null,
   "id": "75cf4888",
   "metadata": {},
   "outputs": [],
   "source": []
  },
  {
   "cell_type": "code",
   "execution_count": null,
   "id": "e1415b78",
   "metadata": {},
   "outputs": [],
   "source": []
  },
  {
   "cell_type": "code",
   "execution_count": null,
   "id": "866067cf",
   "metadata": {},
   "outputs": [],
   "source": []
  },
  {
   "cell_type": "code",
   "execution_count": null,
   "id": "fe8a9e1c",
   "metadata": {},
   "outputs": [],
   "source": []
  },
  {
   "cell_type": "code",
   "execution_count": null,
   "id": "52f99ba6",
   "metadata": {},
   "outputs": [],
   "source": []
  },
  {
   "cell_type": "code",
   "execution_count": null,
   "id": "fce2fd9e",
   "metadata": {},
   "outputs": [],
   "source": []
  },
  {
   "cell_type": "code",
   "execution_count": null,
   "id": "788fbb64",
   "metadata": {},
   "outputs": [],
   "source": []
  },
  {
   "cell_type": "code",
   "execution_count": null,
   "id": "ecac40f2",
   "metadata": {},
   "outputs": [],
   "source": []
  },
  {
   "cell_type": "code",
   "execution_count": null,
   "id": "51592289",
   "metadata": {},
   "outputs": [],
   "source": []
  },
  {
   "cell_type": "code",
   "execution_count": null,
   "id": "4e5aec54",
   "metadata": {},
   "outputs": [],
   "source": []
  },
  {
   "cell_type": "code",
   "execution_count": null,
   "id": "c1971302",
   "metadata": {},
   "outputs": [],
   "source": []
  },
  {
   "cell_type": "code",
   "execution_count": null,
   "id": "8c8a0d6b",
   "metadata": {},
   "outputs": [],
   "source": []
  },
  {
   "cell_type": "code",
   "execution_count": null,
   "id": "62d9a89c",
   "metadata": {},
   "outputs": [],
   "source": []
  },
  {
   "cell_type": "code",
   "execution_count": null,
   "id": "993af76b",
   "metadata": {},
   "outputs": [],
   "source": []
  },
  {
   "cell_type": "code",
   "execution_count": null,
   "id": "4cdc1577",
   "metadata": {},
   "outputs": [],
   "source": []
  },
  {
   "cell_type": "code",
   "execution_count": null,
   "id": "e898e46f",
   "metadata": {},
   "outputs": [],
   "source": []
  },
  {
   "cell_type": "code",
   "execution_count": null,
   "id": "d45e592e",
   "metadata": {},
   "outputs": [],
   "source": []
  },
  {
   "cell_type": "code",
   "execution_count": null,
   "id": "4df875bf",
   "metadata": {},
   "outputs": [],
   "source": []
  },
  {
   "cell_type": "code",
   "execution_count": null,
   "id": "70bd7232",
   "metadata": {},
   "outputs": [],
   "source": []
  },
  {
   "cell_type": "code",
   "execution_count": null,
   "id": "38f0cc24",
   "metadata": {},
   "outputs": [],
   "source": []
  },
  {
   "cell_type": "code",
   "execution_count": null,
   "id": "f1dfc334",
   "metadata": {},
   "outputs": [],
   "source": []
  },
  {
   "cell_type": "markdown",
   "id": "67f70857",
   "metadata": {},
   "source": [
    "#  Funcionalidades Básicas\n",
    "\n",
    "Criando Objetos de Data e Hora\n",
    "\n",
    "Podemos criar objetos de data, hora ou ambos combinados usando as classes date, time e datetime da biblioteca Datetime."
   ]
  },
  {
   "cell_type": "code",
   "execution_count": null,
   "id": "15b3158e",
   "metadata": {},
   "outputs": [],
   "source": [
    "import datetime"
   ]
  },
  {
   "cell_type": "code",
   "execution_count": 8,
   "id": "4218967a",
   "metadata": {},
   "outputs": [
    {
     "data": {
      "text/plain": [
       "['MAXYEAR',\n",
       " 'MINYEAR',\n",
       " '__all__',\n",
       " '__builtins__',\n",
       " '__cached__',\n",
       " '__doc__',\n",
       " '__file__',\n",
       " '__loader__',\n",
       " '__name__',\n",
       " '__package__',\n",
       " '__spec__',\n",
       " 'date',\n",
       " 'datetime',\n",
       " 'datetime_CAPI',\n",
       " 'sys',\n",
       " 'time',\n",
       " 'timedelta',\n",
       " 'timezone',\n",
       " 'tzinfo']"
      ]
     },
     "execution_count": 8,
     "metadata": {},
     "output_type": "execute_result"
    }
   ],
   "source": [
    "dir(datetime)"
   ]
  },
  {
   "cell_type": "code",
   "execution_count": 7,
   "id": "fcb8b621",
   "metadata": {},
   "outputs": [
    {
     "data": {
      "text/plain": [
       "datetime.date(2024, 4, 29)"
      ]
     },
     "execution_count": 7,
     "metadata": {},
     "output_type": "execute_result"
    }
   ],
   "source": [
    "data_angola = datetime.date(2024, 4, 29)\n",
    "data_angola"
   ]
  },
  {
   "cell_type": "code",
   "execution_count": 3,
   "id": "75a55669",
   "metadata": {},
   "outputs": [
    {
     "data": {
      "text/plain": [
       "datetime.time(14, 30)"
      ]
     },
     "execution_count": 3,
     "metadata": {},
     "output_type": "execute_result"
    }
   ],
   "source": [
    "hora_portugal = datetime.time(14, 30)\n",
    "hora_portugal"
   ]
  },
  {
   "cell_type": "code",
   "execution_count": 4,
   "id": "1a75a652",
   "metadata": {},
   "outputs": [
    {
     "data": {
      "text/plain": [
       "datetime.datetime(2024, 4, 29, 10, 45)"
      ]
     },
     "execution_count": 4,
     "metadata": {},
     "output_type": "execute_result"
    }
   ],
   "source": [
    "data_hora_brasil = datetime.datetime(2024, 4, 29, 10, 45)\n",
    "\n",
    "data_hora_brasil"
   ]
  },
  {
   "cell_type": "code",
   "execution_count": 10,
   "id": "b1a89388",
   "metadata": {},
   "outputs": [
    {
     "name": "stdout",
     "output_type": "stream",
     "text": [
      "Aniversário da Independência de Cabo Verde: 1975-07-05 12:00:00\n"
     ]
    }
   ],
   "source": [
    "# Aniversário da Independência de Cabo Verde\n",
    "aniversario_cabo_verde = datetime.datetime(1975, 7, 5, 12, 0)\n",
    "print(f\"Aniversário da Independência de Cabo Verde: {aniversario_cabo_verde}\")\n"
   ]
  },
  {
   "cell_type": "code",
   "execution_count": 6,
   "id": "4cdb7fcd",
   "metadata": {},
   "outputs": [
    {
     "name": "stdout",
     "output_type": "stream",
     "text": [
      "Horário em Luanda: 14:30:00\n"
     ]
    }
   ],
   "source": [
    "from datetime import time\n",
    "\n",
    "# Fuso horário de Luanda (Angola)\n",
    "hora_luanda = time(14, 30, 0)  # 14:30 em Luanda\n",
    "print(f\"Horário em Luanda: {hora_luanda}\")\n"
   ]
  },
  {
   "cell_type": "markdown",
   "id": "acec85bc",
   "metadata": {},
   "source": [
    "## Manipulação Simples de Datas e Horas\n",
    "\n",
    "Podemos realizar operações básicas como adição, subtração e comparação de datas e horas.\n",
    "\n",
    "Exemplo:"
   ]
  },
  {
   "cell_type": "code",
   "execution_count": 3,
   "id": "20585258",
   "metadata": {},
   "outputs": [
    {
     "data": {
      "text/plain": [
       "datetime.date(2024, 5, 1)"
      ]
     },
     "execution_count": 3,
     "metadata": {},
     "output_type": "execute_result"
    }
   ],
   "source": [
    "hoje = datetime.date.today()\n",
    "amanha = hoje + datetime.timedelta(days=1)\n",
    "\n",
    "amanha"
   ]
  },
  {
   "cell_type": "markdown",
   "id": "3bf01f2e",
   "metadata": {},
   "source": [
    "#  Formatação e Exibição\n",
    "\n",
    "Formatando Datas e Horas\n",
    "\n",
    "Podemos formatar nossos objetos de data e hora conforme desejado usando o método strftime().\n",
    "\n",
    "Exemplo:"
   ]
  },
  {
   "cell_type": "code",
   "execution_count": 19,
   "id": "d0a5bb38",
   "metadata": {},
   "outputs": [
    {
     "data": {
      "text/plain": [
       "'14:30'"
      ]
     },
     "execution_count": 19,
     "metadata": {},
     "output_type": "execute_result"
    }
   ],
   "source": [
    "data_formatada = data_angola.strftime(\"%d/%m/%Y\")\n",
    "hora_formatada = hora_portugal.strftime(\"%H:%M\")\n",
    "hora_formatada"
   ]
  },
  {
   "cell_type": "code",
   "execution_count": 20,
   "id": "25682b3e",
   "metadata": {},
   "outputs": [
    {
     "name": "stdout",
     "output_type": "stream",
     "text": [
      "Data formatada da Independência de Moçambique: 25/06/1975\n"
     ]
    }
   ],
   "source": [
    "independencia_mocambique = datetime.datetime(1975, 6, 25)\n",
    "formatada = independencia_mocambique.strftime(\"%d/%m/%Y\")\n",
    "print(f\"Data formatada da Independência de Moçambique: {formatada}\")\n"
   ]
  },
  {
   "cell_type": "markdown",
   "id": "b45fd1c9",
   "metadata": {},
   "source": [
    "### Exibição de Datas e Horas Formatadas\n",
    "\n",
    "Podemos exibir nossas datas e horas formatadas em diferentes contextos, como em mensagens para o usuário ou em logs de aplicativos.\n",
    "\n",
    "Exemplo:"
   ]
  },
  {
   "cell_type": "code",
   "execution_count": 21,
   "id": "f1558570",
   "metadata": {},
   "outputs": [
    {
     "name": "stdout",
     "output_type": "stream",
     "text": [
      "Data Angola: 29/04/2024\n",
      "Hora Portugal: 14:30\n"
     ]
    }
   ],
   "source": [
    "print(\"Data Angola:\", data_formatada)\n",
    "print(\"Hora Portugal:\", hora_formatada)\n"
   ]
  },
  {
   "cell_type": "code",
   "execution_count": null,
   "id": "9d873777",
   "metadata": {},
   "outputs": [],
   "source": []
  },
  {
   "cell_type": "code",
   "execution_count": 34,
   "id": "edf59393",
   "metadata": {},
   "outputs": [
    {
     "name": "stdout",
     "output_type": "stream",
     "text": [
      "Data de nascimento de um cidadão de Guiné-Bissau: 1973-11-14 00:00:00\n"
     ]
    }
   ],
   "source": [
    "nascimento_guinebissau = datetime.datetime.strptime(\"14/11/1973\", \"%d/%m/%Y\")\n",
    "print(f\"Data de nascimento de um cidadão de Guiné-Bissau: {nascimento_guinebissau}\")\n"
   ]
  },
  {
   "cell_type": "markdown",
   "id": "947ecde7",
   "metadata": {},
   "source": [
    "# Funcionalidades Avançadas\n",
    "\n",
    "Manipulação de Fusos Horários\n",
    "\n",
    "Podemos lidar com diferentes fusos horários usando a biblioteca pytz em conjunto com a Datetime.\n",
    "\n",
    "Exemplo:"
   ]
  },
  {
   "cell_type": "code",
   "execution_count": 26,
   "id": "43a853d6",
   "metadata": {},
   "outputs": [
    {
     "data": {
      "text/plain": [
       "'Monday 29/04/2024'"
      ]
     },
     "execution_count": 26,
     "metadata": {},
     "output_type": "execute_result"
    }
   ],
   "source": [
    "import pytz\n",
    "\n",
    "fuso_horario_lisboa = pytz.timezone('Europe/Lisbon')\n",
    "data_hora_lisboa = data_hora_brasil.astimezone(fuso_horario_lisboa)\n",
    "data_hora_lisboa.strftime(\"%A %d/%m/%Y\")"
   ]
  },
  {
   "cell_type": "markdown",
   "id": "657687b8",
   "metadata": {},
   "source": [
    "## Calculando Diferenças entre Datas e Horas\n",
    "\n",
    "Podemos calcular a diferença entre duas datas ou horas usando operações simples de subtração.\n",
    "\n",
    "Exemplo:"
   ]
  },
  {
   "cell_type": "code",
   "execution_count": 8,
   "id": "09f16cbe",
   "metadata": {},
   "outputs": [
    {
     "data": {
      "text/plain": [
       "datetime.timedelta(days=-1, seconds=37694, microseconds=430273)"
      ]
     },
     "execution_count": 8,
     "metadata": {},
     "output_type": "execute_result"
    }
   ],
   "source": [
    "diferenca = data_hora_brasil - datetime.datetime.now()\n",
    "diferenca"
   ]
  },
  {
   "cell_type": "markdown",
   "id": "97f71d77",
   "metadata": {},
   "source": [
    "#  Aplicações Práticas\n",
    "\n",
    "## Agendamento de Eventos\n",
    "\n",
    "Podemos usar a biblioteca Datetime para agendar eventos em nossos programas, como lembretes ou tarefas programadas.\n",
    "\n",
    "## Cálculo de Idade\n",
    "\n",
    "Podemos calcular a idade de uma pessoa a partir da sua data de nascimento e a data atual.\n",
    "\n",
    "## Conversão de Fusos Horários em Aplicações Web\n",
    "\n",
    "Em aplicações web globais, podemos usar a biblioteca Datetime para converter automaticamente os fusos horários dos usuários para exibir informações de tempo relevantes. Isso é útil em plataformas que atendem a usuários de diferentes regiões do mundo."
   ]
  },
  {
   "cell_type": "markdown",
   "id": "d191103a",
   "metadata": {},
   "source": []
  }
 ],
 "metadata": {
  "kernelspec": {
   "display_name": "Python 3 (ipykernel)",
   "language": "python",
   "name": "python3"
  },
  "language_info": {
   "codemirror_mode": {
    "name": "ipython",
    "version": 3
   },
   "file_extension": ".py",
   "mimetype": "text/x-python",
   "name": "python",
   "nbconvert_exporter": "python",
   "pygments_lexer": "ipython3",
   "version": "3.9.19"
  },
  "toc": {
   "base_numbering": 1,
   "nav_menu": {},
   "number_sections": true,
   "sideBar": true,
   "skip_h1_title": false,
   "title_cell": "Table of Contents",
   "title_sidebar": "Contents",
   "toc_cell": false,
   "toc_position": {},
   "toc_section_display": true,
   "toc_window_display": false
  }
 },
 "nbformat": 4,
 "nbformat_minor": 5
}
