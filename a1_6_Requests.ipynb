{
 "cells": [
  {
   "cell_type": "markdown",
   "id": "ed5ef1d7",
   "metadata": {},
   "source": [
    "#### Bem Vindo a\n",
    "<br>\n",
    "\n",
    "# <strong><a style=\"color:#000031; font-family: poppins\"   href=\"https://pantufodata.co.uk/\"> Pantufo <a style=\"color:#3366cc;\" href=\"https://pantufodata.co.uk/\">Data</a></a></strong> $. com$\n",
    "<br><br>\n",
    "\n",
    "\n",
    "<a style=\"font-family:montserrat; color:#000031\" href=\"https://pantufodata.co.uk/\">\n",
    "   Aprenda tudo sobre Análise de Dados e Ciência de Dados com Python\n",
    "</a>\n",
    "\n",
    "\n",
    "<br><br><br><br><br><br>\n",
    "\n",
    "#  Biblioteca  <strong style=\"font-family:montserrat; color:#3366cc\">Requests</strong>\n",
    "<br><br><br>\n",
    "\n",
    "#### Índice <a id=\"indice\"></a>"
   ]
  },
  {
   "cell_type": "markdown",
   "id": "c0921c93",
   "metadata": {},
   "source": [
    "- [Introdução às Requisições (Requests)](#intro)\n",
    "- [Realização de Requisições HTTP](#requesicao)\n",
    "- [Solicitações POST e Envio de Dados](#post)\n",
    "- [Autenticação em Requisições](#autenticacao)\n",
    "- [Gerenciamento de Sessões](#sessao)\n",
    "- [Manipulação de Respostas](#manipulacao)\n",
    "- [Lidando com Redirecionamentos](#redirecionamento)\n",
    "- [Lidando com Erros e Exceções](#excecoes)\n",
    "- [Exemplos Práticos](#exemplos)"
   ]
  },
  {
   "cell_type": "markdown",
   "id": "21d002ba",
   "metadata": {},
   "source": [
    "## Introdução às Requisições (Requests)<a id=\"intro\"></a>\n",
    "[Para cima](#indice)"
   ]
  },
  {
   "cell_type": "markdown",
   "id": "c16cf30f",
   "metadata": {},
   "source": [
    "Aqui, você aprenderá a realizar solicitações HTTP em Python usando a biblioteca `requests`. A biblioteca `requests` é uma poderosa ferramenta que permite fazer requisições HTTP de maneira fácil e eficiente. Vamos cobrir vários tópicos, desde fazer solicitações básicas até lidar com autenticação, gerenciamento de sessões e manipulação de respostas.\n",
    "\n",
    "### 1. O que é a biblioteca Requests?\n",
    "A biblioteca requests é uma biblioteca Python usada para fazer solicitações HTTP. Ela simplifica a tarefa de interagir com serviços web, tornando fácil fazer requisições GET, POST e muito mais.\n",
    "\n",
    "### 2. Instalação da biblioteca\n",
    "Antes de começar, certifique-se de que a biblioteca `requests` esteja instalada. Caso não esteja, você pode instalá-la com o pip:"
   ]
  },
  {
   "cell_type": "markdown",
   "id": "6b83fb42",
   "metadata": {},
   "source": [
    "pip install requests"
   ]
  },
  {
   "cell_type": "markdown",
   "id": "246c26f9",
   "metadata": {},
   "source": [
    "Agora, vamos mergulhar nos conceitos e técnicas de uso da biblioteca `requests`:"
   ]
  },
  {
   "cell_type": "markdown",
   "id": "eeb4ad46",
   "metadata": {},
   "source": [
    "## Realização de Requisições HTTP<a id=\"requesicao\"></a>\n",
    "[Para cima](#indice)"
   ]
  },
  {
   "cell_type": "markdown",
   "id": "0c1d1eaa",
   "metadata": {},
   "source": [
    "  - Fazendo uma solicitação GET\n",
    "  - Passando parâmetros na URL\n",
    "  - Trabalhando com respostas"
   ]
  },
  {
   "cell_type": "markdown",
   "id": "5f2983b0",
   "metadata": {},
   "source": [
    "### Fazendo uma solicitação GET\n",
    "Para fazer uma solicitação GET simples, utilize o método get():"
   ]
  },
  {
   "cell_type": "code",
   "execution_count": 2,
   "id": "f016e7ce",
   "metadata": {},
   "outputs": [],
   "source": [
    "import requests"
   ]
  },
  {
   "cell_type": "code",
   "execution_count": 4,
   "id": "bf6737e8",
   "metadata": {},
   "outputs": [
    {
     "name": "stdout",
     "output_type": "stream",
     "text": [
      "<!DOCTYPE html>\n",
      "<html lang=\"en\" id=\"facebook\" class=\"no_js\">\n",
      "<head><meta charset=\"utf-8\" /><meta name=\"referrer\" content=\"default\" id=\"meta_referrer\" /><script nonce=\"g9urKiZX\">function envFlush(a){function b(b){for(var c in a)b[c]=a[c]}window.requireLazy?window.requireLazy([\"Env\"],b):(window.Env=window.Env||{},b(window.Env))}envFlush({\"useTrustedTypes\":false,\"isTrustedTypesReportOnly\":false,\"ajaxpipe_token\":\"AXjn-86cqMVnEh01gYA\",\"stack_trace_limit\":30,\"timesliceBufferSize\":5000,\"show_invariant_decoder\":false,\"compat_iframe_token\":\"AQ5ugr7TTyWcJYXK370\",\"isCQuick\":false,\"brsid\":\"7394849647373119670\"});</script><script nonce=\"g9urKiZX\">(function(a){function b(b){if(!window.openDatabase)return;b.I_AM_INCOGNITO_AND_I_REALLY_NEED_WEBSQL=function(a,b,c,d){return window.openDatabase(a,b,c,d)};window.openDatabase=function(){throw new Error()}}b(a)})(this);</script><style nonce=\"g9urKiZX\"></style><script nonce=\"g9urKiZX\">__DEV__=0;</script><noscript><meta http-equiv=\"refresh\" content=\"0; URL=/login/?next=https%3A%2F%2Fwww.facebook.com%2F&amp;_fb_noscript=1\" /></noscript><link rel=\"manifest\" id=\"MANIFEST_LINK\" href=\"/data/manifest/\" crossorigin=\"use-credentials\" /><title id=\"pageTitle\">Log in to Facebook</title><meta name=\"bingbot\" content=\"noarchive\" /><meta name=\"description\" content=\"Log in to Facebook to start sharing and connecting with your friends, family and people you know.\" /><meta property=\"og:site_name\" content=\"Facebook\" /><meta property=\"og:url\" content=\"https://www.facebook.com/login/?next=https%3A%2F%2Fwww.facebook.com%2F\" /><meta property=\"og:locale\" content=\"en_GB\" /><link rel=\"canonical\" href=\"https://www.facebook.com/login/web/\" /><link rel=\"icon\" href=\"https://static.xx.fbcdn.net/rsrc.php/yv/r/B8BxsscfVBr.ico\" /><link type=\"text/css\" rel=\"stylesheet\" href=\"https://static.xx.fbcdn.net/rsrc.php/v3/yR/l/0,cross/3EvdSYpCBq_.css?_nc_x=Ij3Wp8lg5Kz\" data-bootloader-hash=\"eS0I9Re\" />\n",
      "<link type=\"text/css\" rel=\"stylesheet\" href=\"https://static.xx.fbcdn.net/rsrc.php/v3/yC/l/0,cross/O6vgswGTdCm.css?_nc_x=Ij3Wp8lg5Kz\" data-bootloader-hash=\"CEt5M1/\" />\n",
      "<script src=\"https://static.xx.fbcdn.net/rsrc.php/v3/yE/r/_xEZqbFuBFV.js?_nc_x=Ij3Wp8lg5Kz\" data-bootloader-hash=\"a39W8OO\" nonce=\"g9urKiZX\"></script>\n",
      "<script nonce=\"g9urKiZX\">requireLazy([\"HasteSupportData\"],function(m){m.handle({\"clpData\":{\"6476\":{\"r\":1000,\"s\":1},\"1838142\":{\"r\":1,\"s\":1},\"4883\":{\"r\":1,\"s\":1},\"1814852\":{\"r\":1},\"1837559\":{\"r\":1},\"1848815\":{\"r\":10000,\"s\":1}},\"gkxData\":{\"20935\":{\"result\":false,\"hash\":null},\"20940\":{\"result\":false,\"hash\":null},\"21043\":{\"result\":false,\"hash\":null},\"2199\":{\"result\":false,\"hash\":null},\"7742\":{\"result\":false,\"hash\":null},\"20936\":{\"result\":false,\"hash\":null},\"20948\":{\"result\":true,\"hash\":null},\"25572\":{\"result\":false,\"hash\":null},\"25571\":{\"result\":false,\"hash\":null}},\"justknobxData\":{\"2552\":{\"r\":false},\"2269\":{\"r\":true}}})});requireLazy([\"TimeSliceImpl\",\"ServerJS\"],function(TimeSlice,ServerJS){(new ServerJS()).handle({\"define\":[[\"cr:310\",[\"RunWWW\"],{\"__rc\":[\"RunWWW\",null]},-1],[\"cr:1126\",[\"TimeSliceImpl\"],{\"__rc\":[\"TimeSliceImpl\",null]},-1],[\"cr:6640\",[\"PromiseImpl\"],{\"__rc\":[\"PromiseImpl\",null]},-1],[\"cr:7386\",[\"clearTimeoutWWW\"],{\"__rc\":[\"clearTimeoutWWW\",null]},-1],[\"cr:7390\",[\"setTimeoutWWW\"],{\"__rc\":[\"setTimeoutWWW\",null]},-1],[\"cr:8958\",[\"FBJSON\"],{\"__rc\":[\"FBJSON\",null]},-1],[\"cr:1078\",[],{\"__rc\":[null,null]},-1],[\"cr:1080\",[\"unexpectedUseInComet\"],{\"__rc\":[\"unexpectedUseInComet\",null]},-1],[\"cr:6108\",[\"CSS\"],{\"__rc\":[\"CSS\",null]},-1],[\"cr:7385\",[\"clearIntervalWWW\"],{\"__rc\":[\"clearIntervalWWW\",null]},-1],[\"cr:7389\",[\"setIntervalAcrossTransitionsWWW\"],{\"__rc\":[\"setIntervalAcrossTransitionsWWW\",null]},-1],[\"cr:7391\",[\"setTimeoutAcrossTransitionsWWW\"],{\"__rc\":[\"setTimeoutAcrossTransitionsWWW\",null]},-1],[\"cr:8959\",[\"DTSG\"],{\"__rc\":[\"DTSG\",null]},-1],[\"cr:8960\",[\"DTSG_ASYNC\"],{\"__rc\":[\"DTSG_ASYNC\",null]},-1],[\"cr:696703\",[],{\"__rc\":[null,null]},-1],[\"cr:708886\",[\"EventProfilerImpl\"],{\"__rc\":[\"EventProfilerImpl\",null]},-1],[\"cr:135\",[\"RunBlue\"],{\"__rc\":[\"RunBlue\",null]},-1],[\"cr:6669\",[\"DataStore\"],{\"__rc\":[\"DataStore\",null]},-1],[\"ServerNonce\",[],{\"ServerNonce\":\"OBDcUeSQbB1QGFDahSVtm_\"},141],[\"KSConfig\",[],{\"killed\":{\"__set\":[\"POCKET_MONSTERS_CREATE\",\"POCKET_MONSTERS_DELETE\",\"POCKET_MONSTERS_UPDATE_NAME\",\"WORKROOMS_REQUEST_TAGGING_TAG_NO_INIT_BY_VC_GALAXY\"]},\"ko\":{\"__set\":[\"acrJTh9WGdp\",\"1oOE64fL4wO\",\"7r6mSP7ofr2\",\"6XsXQ2qHw8y\"]}},2580],[\"InitialCookieConsent\",[],{\"deferCookies\":false,\"initialConsent\":[1,2],\"noCookies\":false,\"shouldShowCookieBanner\":false,\"shouldWaitForDeferredDatrCookie\":false,\"optedInIntegrations\":[]},4328],[\"CookieConsentIFrameConfig\",[],{\"consent_param\":\"FQAREhISFQAZBQA=.ARaziyrJX81fNRcYvA-d43ndKCy0e3_l9Kr2qPU4mMVauC_1\",\"allowlisted_iframes\":[\"captcha-recaptcha\",\"arkose-captcha\"],\"is_checkpointed\":false},5540],[\"ServerTimeData\",[],{\"serverTime\":1721747603086,\"timeOfRequestStart\":1721747603056.5,\"timeOfResponseStart\":1721747603056.5},5943],[\"URLFragmentPreludeConfig\",[],{\"hashtagRedirect\":true,\"fragBlacklist\":[\"nonce\",\"access_token\",\"oauth_token\",\"xs\",\"checkpoint_data\",\"code\"]},137],[\"CookiePrivacySandboxConfig\",[],{\"is_affected_by_samesite_lax\":false},7723],[\"CometPersistQueryParams\",[],{\"relative\":{},\"domain\":{}},6231],[\"CookieDomain\",[],{\"domain\":\"facebook.com\"},6421],[\"GetAsyncParamsExtraData\",[],{\"extra_data\":{\"__aaid\":\"0\"}},7511],[\"BootloaderConfig\",[],{\"deferBootloads\":false,\"jsRetries\":[200,500],\"jsRetryAbortNum\":2,\"jsRetryAbortTime\":5,\"silentDups\":false,\"timeout\":60000,\"tieredLoadingFromTier\":100,\"hypStep4\":false,\"phdOn\":false,\"btCutoffIndex\":1891,\"fastPathForAlreadyRequired\":true,\"earlyRequireLazy\":false,\"enableTimeoutLoggingForNonComet\":false,\"deferLongTailManifest\":true,\"lazySoT\":false,\"translationRetries\":[200,500],\"translationRetryAbortNum\":3,\"translationRetryAbortTime\":50},329],[\"CSSLoaderConfig\",[],{\"timeout\":5000,\"modulePrefix\":\"BLCSS:\",\"forcePollForBootloader\":true},619],[\"CookieCoreConfig\",[],{\"c_user\":{\"t\":31536000},\"cppo\":{\"t\":86400},\"dpr\":{\"t\":604800},\"fbl_st\":{\"t\":31536000},\"hckd\":{},\"i_user\":{\"t\":31536000},\"locale\":{\"t\":604800},\"m_ls\":{\"t\":34560000},\"m_pixel_ratio\":{\"t\":604800},\"noscript\":{},\"presence\":{\"t\":2592000},\"sfau\":{},\"usida\":{},\"vpd\":{\"t\":5184000},\"wd\":{\"t\":604800},\"wl_cbv\":{\"t\":7776000},\"x-referer\":{},\"x-src\":{\"t\":1}},2104],[\"CurrentUserInitialData\",[],{\"ACCOUNT_ID\":\"0\",\"USER_ID\":\"0\",\"NAME\":\"\",\"SHORT_NAME\":null,\"IS_BUSINESS_PERSON_ACCOUNT\":false,\"HAS_SECONDARY_BUSINESS_PERSON\":false,\"IS_FACEBOOK_WORK_ACCOUNT\":false,\"IS_INSTAGRAM_BUSINESS_PERSON\":false,\"IS_MESSENGER_ONLY_USER\":false,\"IS_DEACTIVATED_ALLOWED_ON_MESSENGER\":false,\"IS_MESSENGER_CALL_GUEST_USER\":false,\"IS_WORK_MESSENGER_CALL_GUEST_USER\":false,\"IS_WORKROOMS_USER\":false,\"APP_ID\":\"256281040558\",\"IS_BUSINESS_DOMAIN\":false},270],[\"LSD\",[],{\"token\":\"AVohhTXVpbI\"},323],[\"SiteData\",[],{\"server_revision\":1015075330,\"client_revision\":1015075330,\"push_phase\":\"C3\",\"pkg_cohort\":\"BP:DEFAULT\",\"haste_session\":\"19927.BP:DEFAULT.2.0..0.0\",\"pr\":1,\"manifest_base_uri\":\"https:\\/\\/static.xx.fbcdn.net\",\"manifest_origin\":null,\"manifest_version_prefix\":null,\"be_one_ahead\":false,\"is_rtl\":false,\"is_experimental_tier\":false,\"is_jit_warmed_up\":true,\"hsi\":\"7394849647373119670\",\"semr_host_bucket\":\"3\",\"bl_hash_version\":2,\"comet_env\":0,\"wbloks_env\":false,\"ef_page\":null,\"compose_bootloads\":false,\"spin\":4,\"__spin_r\":1015075330,\"__spin_b\":\"trunk\",\"__spin_t\":1721747603,\"vip\":\"157.240.221.35\"},317],[\"SprinkleConfig\",[],{\"param_name\":\"jazoest\",\"version\":2,\"should_randomize\":false},2111],[\"UserAgentData\",[],{\"browserArchitecture\":\"32\",\"browserFullVersion\":null,\"browserMinorVersion\":null,\"browserName\":\"Unknown\",\"browserVersion\":null,\"deviceName\":\"Unknown\",\"engineName\":\"Unknown\",\"engineVersion\":null,\"platformArchitecture\":\"32\",\"platformName\":\"Unknown\",\"platformVersion\":null,\"platformFullVersion\":null},527],[\"PromiseUsePolyfillSetImmediateGK\",[],{\"www_always_use_polyfill_setimmediate\":false},2190],[\"JSErrorLoggingConfig\",[],{\"appId\":256281040558,\"extra\":[],\"reportInterval\":50,\"sampleWeight\":null,\"sampleWeightKey\":\"__jssesw\",\"projectBlocklist\":[]},2776],[\"DataStoreConfig\",[],{\"expandoKey\":\"__FB_STORE\",\"useExpando\":true},2915],[\"CookieCoreLoggingConfig\",[],{\"maximumIgnorableStallMs\":16.67,\"sampleRate\":9.7e-5,\"sampleRateClassic\":1.0e-10,\"sampleRateFastStale\":1.0e-8},3401],[\"ImmediateImplementationExperiments\",[],{\"prefer_message_channel\":true},3419],[\"UriNeedRawQuerySVConfig\",[],{\"uris\":[\"dms.netmng.com\",\"doubleclick.net\",\"r.msn.com\",\"watchit.sky.com\",\"graphite.instagram.com\",\"www.kfc.co.th\",\"learn.pantheon.io\",\"www.landmarkshops.in\",\"www.ncl.com\",\"s0.wp.com\",\"www.tatacliq.com\",\"bs.serving-sys.com\",\"kohls.com\",\"lazada.co.th\",\"xg4ken.com\",\"technopark.ru\",\"officedepot.com.mx\",\"bestbuy.com.mx\",\"booking.com\",\"nibio.no\",\"myworkdayjobs.com\",\"united-united.com\",\"gcc.gnu.org\"]},3871],[\"WebConnectionClassServerGuess\",[],{\"connectionClass\":\"EXCELLENT\"},4705],[\"BootloaderEndpointConfig\",[],{\"debugNoBatching\":false,\"maxBatchSize\":-1,\"endpointURI\":\"https:\\/\\/www.facebook.com\\/ajax\\/bootloader-endpoint\\/\"},5094],[\"BigPipeExperiments\",[],{\"link_images_to_pagelets\":false,\"enable_bigpipe_plugins\":false},907],[\"cr:7730\",[\"getFbtResult\"],{\"__rc\":[\"getFbtResult\",null]},-1],[\"cr:8906\",[\"goURIWWW\"],{\"__rc\":[\"goURIWWW\",null]},-1],[\"cr:925100\",[\"RunBlue\"],{\"__rc\":[\"RunBlue\",null]},-1],[\"cr:806696\",[\"clearTimeoutBlue\"],{\"__rc\":[\"clearTimeoutBlue\",null]},-1],[\"cr:807042\",[\"setTimeoutBlue\"],{\"__rc\":[\"setTimeoutBlue\",null]},-1],[\"cr:1003267\",[\"clearIntervalBlue\"],{\"__rc\":[\"clearIntervalBlue\",null]},-1],[\"cr:896462\",[\"setIntervalAcrossTransitionsBlue\"],{\"__rc\":[\"setIntervalAcrossTransitionsBlue\",null]},-1],[\"cr:986633\",[\"setTimeoutAcrossTransitionsBlue\"],{\"__rc\":[\"setTimeoutAcrossTransitionsBlue\",null]},-1],[\"cr:6799\",[\"EventProfilerAdsSessionProvider\"],{\"__rc\":[\"EventProfilerAdsSessionProvider\",null]},-1],[\"IntlVariationHoldout\",[],{\"disable_variation\":false},6533],[\"IntlNumberTypeProps\",[\"IntlCLDRNumberType05\"],{\"module\":{\"__m\":\"IntlCLDRNumberType05\"}},7027],[\"AsyncRequestConfig\",[],{\"retryOnNetworkError\":\"1\",\"useFetchStreamAjaxPipeTransport\":true},328],[\"DTSGInitialData\",[],{},258],[\"FbtQTOverrides\",[],{\"overrides\":{}},551],[\"IntlPhonologicalRules\",[],{\"meta\":{\"\\/_B\\/\":\"([.,!?\\\\s]|^)\",\"\\/_E\\/\":\"([.,!?\\\\s]|$)\"},\"patterns\":{\"\\/\\u0001(.*)('|&#039;)s\\u0001(?:'|&#039;)s(.*)\\/\":\"\\u0001$1$2s\\u0001$3\",\"\\/_\\u0001([^\\u0001]*)\\u0001\\/\":\"javascript\"}},1496],[\"IntlViewerContext\",[],{\"GENDER\":3,\"regionalLocale\":null},772],[\"NumberFormatConfig\",[],{\"decimalSeparator\":\".\",\"numberDelimiter\":\",\",\"minDigitsForThousandsSeparator\":4,\"standardDecimalPatternInfo\":{\"primaryGroupSize\":3,\"secondaryGroupSize\":3},\"numberingSystemData\":null},54],[\"SessionNameConfig\",[],{\"seed\":\"1jou\"},757],[\"ZeroCategoryHeader\",[],{},1127],[\"ZeroRewriteRules\",[],{\"rewrite_rules\":{},\"whitelist\":{\"\\/hr\\/r\":1,\"\\/hr\\/p\":1,\"\\/zero\\/unsupported_browser\\/\":1,\"\\/zero\\/policy\\/optin\":1,\"\\/zero\\/optin\\/write\\/\":1,\"\\/zero\\/optin\\/legal\\/\":1,\"\\/zero\\/optin\\/free\\/\":1,\"\\/about\\/privacy\\/\":1,\"\\/about\\/privacy\\/update\\/\":1,\"\\/privacy\\/explanation\\/\":1,\"\\/zero\\/toggle\\/welcome\\/\":1,\"\\/zero\\/toggle\\/nux\\/\":1,\"\\/zero\\/toggle\\/settings\\/\":1,\"\\/fup\\/interstitial\\/\":1,\"\\/work\\/landing\":1,\"\\/work\\/login\\/\":1,\"\\/work\\/email\\/\":1,\"\\/ai.php\":1,\"\\/js_dialog_resources\\/dialog_descriptions_android.json\":0,\"\\/connect\\/jsdialog\\/MPlatformAppInvitesJSDialog\\/\":0,\"\\/connect\\/jsdialog\\/MPlatformOAuthShimJSDialog\\/\":0,\"\\/connect\\/jsdialog\\/MPlatformLikeJSDialog\\/\":0,\"\\/qp\\/interstitial\\/\":1,\"\\/qp\\/action\\/redirect\\/\":1,\"\\/qp\\/action\\/close\\/\":1,\"\\/zero\\/support\\/ineligible\\/\":1,\"\\/zero_balance_redirect\\/\":1,\"\\/zero_balance_redirect\":1,\"\\/zero_balance_redirect\\/l\\/\":1,\"\\/l.php\":1,\"\\/lsr.php\":1,\"\\/ajax\\/dtsg\\/\":1,\"\\/checkpoint\\/block\\/\":1,\"\\/exitdsite\":1,\"\\/zero\\/balance\\/pixel\\/\":1,\"\\/zero\\/balance\\/\":1,\"\\/zero\\/balance\\/carrier_landing\\/\":1,\"\\/zero\\/flex\\/logging\\/\":1,\"\\/tr\":1,\"\\/tr\\/\":1,\"\\/sem_campaigns\\/sem_pixel_test\\/\":1,\"\\/bookmarks\\/flyout\\/body\\/\":1,\"\\/zero\\/subno\\/\":1,\"\\/confirmemail.php\":1,\"\\/policies\\/\":1,\"\\/mobile\\/internetdotorg\\/classifier\\/\":1,\"\\/zero\\/dogfooding\":1,\"\\/xti.php\":1,\"\\/zero\\/fblite\\/config\\/\":1,\"\\/hr\\/zsh\\/wc\\/\":1,\"\\/ajax\\/bootloader-endpoint\\/\":1,\"\\/mobile\\/zero\\/carrier_page\\/\":1,\"\\/mobile\\/zero\\/carrier_page\\/education_page\\/\":1,\"\\/mobile\\/zero\\/carrier_page\\/feature_switch\\/\":1,\"\\/mobile\\/zero\\/carrier_page\\/settings_page\\/\":1,\"\\/aloha_check_build\":1,\"\\/upsell\\/zbd\\/softnudge\\/\":1,\"\\/mobile\\/zero\\/af_transition\\/\":1,\"\\/mobile\\/zero\\/af_transition\\/action\\/\":1,\"\\/mobile\\/zero\\/freemium\\/\":1,\"\\/mobile\\/zero\\/freemium\\/redirect\\/\":1,\"\\/mobile\\/zero\\/freemium\\/zero_fup\\/\":1,\"\\/privacy\\/policy\\/\":1,\"\\/privacy\\/center\\/\":1,\"\\/data\\/manifest\\/\":1,\"\\/4oh4.php\":1,\"\\/autologin.php\":1,\"\\/birthday_help.php\":1,\"\\/checkpoint\\/\":1,\"\\/contact-importer\\/\":1,\"\\/cr.php\":1,\"\\/legal\\/terms\\/\":1,\"\\/login.php\":1,\"\\/login\\/\":1,\"\\/mobile\\/account\\/\":1,\"\\/n\\/\":1,\"\\/remote_test_device\\/\":1,\"\\/upsell\\/buy\\/\":1,\"\\/upsell\\/buyconfirm\\/\":1,\"\\/upsell\\/buyresult\\/\":1,\"\\/upsell\\/promos\\/\":1,\"\\/upsell\\/continue\\/\":1,\"\\/upsell\\/h\\/promos\\/\":1,\"\\/upsell\\/loan\\/learnmore\\/\":1,\"\\/upsell\\/purchase\\/\":1,\"\\/upsell\\/promos\\/upgrade\\/\":1,\"\\/upsell\\/buy_redirect\\/\":1,\"\\/upsell\\/loan\\/buyconfirm\\/\":1,\"\\/upsell\\/loan\\/buy\\/\":1,\"\\/upsell\\/sms\\/\":1,\"\\/wap\\/a\\/channel\\/reconnect.php\":1,\"\\/wap\\/a\\/nux\\/wizard\\/nav.php\":1,\"\\/wap\\/appreg.php\":1,\"\\/wap\\/birthday_help.php\":1,\"\\/wap\\/c.php\":1,\"\\/wap\\/confirmemail.php\":1,\"\\/wap\\/cr.php\":1,\"\\/wap\\/login.php\":1,\"\\/wap\\/r.php\":1,\"\\/zero\\/datapolicy\":1,\"\\/a\\/timezone.php\":1,\"\\/a\\/bz\":1,\"\\/bz\\/reliability\":1,\"\\/r.php\":1,\"\\/mr\\/\":1,\"\\/reg\\/\":1,\"\\/registration\\/log\\/\":1,\"\\/terms\\/\":1,\"\\/f123\\/\":1,\"\\/expert\\/\":1,\"\\/experts\\/\":1,\"\\/terms\\/index.php\":1,\"\\/terms.php\":1,\"\\/srr\\/\":1,\"\\/msite\\/redirect\\/\":1,\"\\/fbs\\/pixel\\/\":1,\"\\/contactpoint\\/preconfirmation\\/\":1,\"\\/contactpoint\\/cliff\\/\":1,\"\\/contactpoint\\/confirm\\/submit\\/\":1,\"\\/contactpoint\\/confirmed\\/\":1,\"\\/contactpoint\\/login\\/\":1,\"\\/preconfirmation\\/contactpoint_change\\/\":1,\"\\/help\\/contact\\/\":1,\"\\/survey\\/\":1,\"\\/upsell\\/loyaltytopup\\/accept\\/\":1,\"\\/settings\\/\":1,\"\\/lite\\/\":1,\"\\/zero_status_update\\/\":1,\"\\/operator_store\\/\":1,\"\\/upsell\\/\":1,\"\\/wifiauth\\/login\\/\":1}},1478],[\"DTSGInitData\",[],{\"token\":\"\",\"async_get_token\":\"\"},3515],[\"WebDriverConfig\",[],{\"isTestRunning\":false,\"isJestE2ETestRun\":false,\"isXRequestConfigEnabled\":false,\"auxiliaryServiceInfo\":{},\"testPath\":null,\"originHost\":null},5332],[\"EventConfig\",[],{\"sampling\":{\"bandwidth\":0,\"play\":0,\"playing\":0,\"progress\":0,\"pause\":0,\"ended\":0,\"seeked\":0,\"seeking\":0,\"waiting\":0,\"loadedmetadata\":0,\"canplay\":0,\"selectionchange\":0,\"change\":0,\"timeupdate\":0,\"adaptation\":0,\"focus\":0,\"blur\":0,\"load\":0,\"error\":0,\"message\":0,\"abort\":0,\"storage\":0,\"scroll\":200000,\"mousemove\":20000,\"mouseover\":10000,\"mouseout\":10000,\"mousewheel\":1,\"MSPointerMove\":10000,\"keydown\":0.1,\"click\":0.02,\"mouseup\":0.02,\"__100ms\":0.001,\"__default\":5000,\"__min\":100,\"__interactionDefault\":200,\"__eventDefault\":100000},\"page_sampling_boost\":1,\"interaction_regexes\":{},\"interaction_boost\":{},\"event_types\":{},\"manual_instrumentation\":false,\"profile_eager_execution\":false,\"disable_heuristic\":true,\"disable_event_profiler\":false},1726],[\"cr:8828\",[],{\"__rc\":[null,null]},-1],[\"cr:1094907\",[],{\"__rc\":[null,null]},-1],[\"cr:1183579\",[\"InlineFbtResultImpl\"],{\"__rc\":[\"InlineFbtResultImpl\",null]},-1],[\"FbtResultGK\",[],{\"shouldReturnFbtResult\":true,\"inlineMode\":\"NO_INLINE\"},876],[\"AdsInterfacesSessionConfig\",[],{},2393],[\"AnalyticsCoreData\",[],{\"device_id\":\"$^|AcbknhQE1aMN4Wh-_2HTFGPiU-IX5ABUVE0HVGQy0t3bHZX-Z5GC7YkS-R64W--TJAK7kHMieZl9GXGjuZDUg9P1dr1X|fd.AcZFOq2-D8InirfUCEeON9WwXDo6J-B0IJOzwszO-dTTPrkOAOgYHh6MsU3fs7dT-mKvCjWmUV2GRp8WypM0kjGG\",\"app_id\":\"256281040558\",\"enable_bladerunner\":false,\"enable_ack\":true,\"push_phase\":\"C3\",\"enable_observer\":false,\"enable_cmcd_observer\":false,\"enable_dataloss_timer\":false,\"enable_fallback_for_br\":true,\"queue_activation_experiment\":false,\"max_delay_br_queue\":60000,\"max_delay_br_queue_immediate\":3,\"max_delay_br_init_not_complete\":3000,\"consents\":{},\"app_universe\":1,\"br_stateful_migration_on\":true,\"enable_non_fb_br_stateless_by_default\":false,\"use_falco_as_mutex_key\":false},5237]],\"require\":[[\"markJSEnabled\"],[\"lowerDomain\"],[\"URLFragmentPrelude\"],[\"Primer\"],[\"BigPipe\"],[\"Bootloader\"],[\"TimeSlice\"],[\"AsyncRequest\"],[\"FbtLogging\"],[\"IntlQtEventFalcoEvent\"],[\"RequireDeferredReference\",\"unblock\",[],[[\"AsyncRequest\",\"FbtLogging\",\"IntlQtEventFalcoEvent\"],\"sd\"]],[\"RequireDeferredReference\",\"unblock\",[],[[\"AsyncRequest\",\"FbtLogging\",\"IntlQtEventFalcoEvent\"],\"css\"]]]});});</script></head><body class=\"_39il _97vt _97vz _97v- _97v_ _97w2 _97w0 _9ax- _9ax_ _9ay1 UIPage_LoggedOut _-kb _605a b_c3pyn-ahh x1 Locale_en_GB\" dir=\"ltr\"><script type=\"text/javascript\" nonce=\"g9urKiZX\">requireLazy([\"bootstrapWebSession\"],function(j){j(1721747603)})</script><div class=\"_li\" id=\"u_0_0_eT\"><div id=\"globalContainer\" class=\"uiContextualLayerParent\"><div class=\"fb_content clearfix \" id=\"content\" role=\"main\"><div class=\"_4-u5 _30ny\"><div class=\"_97vy\"><img class=\"_97vu img\" src=\"https://static.xx.fbcdn.net/rsrc.php/y1/r/4lCu2zih0ca.svg\" alt=\"Facebook\" /></div><div class=\"_2pio _1uxu\"><div class=\"_585n\" id=\"u_0_1_FP\"><i class=\"_585p img sp_SOkuOHNUdYM sx_acf887\"><u>Notice</u></i><div class=\"_585r _50f4\">You must log in to continue.</div></div></div><div class=\"_4-u2 _1w1t _4-u8 _52jv\"><div class=\"_xku\" id=\"header_block\"><span class=\"_97w1 _50f6\"><div class=\"_9axz\">Log in to Facebook</div></span></div><div class=\"login_form_container\"><form id=\"login_form\" action=\"/login/device-based/regular/login/?login_attempt=1&amp;next=https%3A%2F%2Fwww.facebook.com%2F&amp;lwv=100\" method=\"post\" onsubmit=\"\"><input type=\"hidden\" name=\"jazoest\" value=\"21011\" autocomplete=\"off\" /><input type=\"hidden\" name=\"lsd\" value=\"AVohhTXVpbI\" autocomplete=\"off\" /><div class=\"pam _9ay2 uiBoxYellow\">You must log in to continue.</div><input type=\"hidden\" autocomplete=\"off\" id=\"error_box\" /><div id=\"loginform\"><input type=\"hidden\" autocomplete=\"off\" id=\"display\" name=\"display\" value=\"\" /><input type=\"hidden\" autocomplete=\"off\" id=\"isprivate\" name=\"isprivate\" value=\"\" /><input type=\"hidden\" autocomplete=\"off\" id=\"return_session\" name=\"return_session\" value=\"\" /><input type=\"hidden\" autocomplete=\"off\" id=\"skip_api_login\" name=\"skip_api_login\" value=\"\" /><input type=\"hidden\" autocomplete=\"off\" id=\"signed_next\" name=\"signed_next\" value=\"\" /><input type=\"hidden\" autocomplete=\"off\" id=\"trynum\" name=\"trynum\" value=\"1\" /><input type=\"hidden\" autocomplete=\"off\" name=\"timezone\" value=\"\" id=\"u_0_2_Fd\" /><input type=\"hidden\" autocomplete=\"off\" name=\"lgndim\" value=\"\" id=\"u_0_3_L7\" /><input type=\"hidden\" name=\"lgnrnd\" value=\"081323_MsIK\" /><input type=\"hidden\" id=\"lgnjs\" name=\"lgnjs\" value=\"n\" /><div class=\"clearfix _5466 _44mg\" id=\"email_container\"><input type=\"text\" class=\"inputtext _55r1 inputtext _1kbt inputtext _1kbt\" name=\"email\" id=\"email\" tabindex=\"0\" placeholder=\"Email address or phone number\" value=\"\" autofocus=\"1\" autocomplete=\"username\" aria-label=\"Email address or phone number\" /></div><div class=\"clearfix _5466 _44mg\"><div><div class=\"_55r1 _1kbt\"><input type=\"password\" class=\"inputtext _55r1 inputtext _9npi inputtext _9npi\" name=\"pass\" id=\"pass\" tabindex=\"0\" placeholder=\"Password\" value=\"\" autocomplete=\"current-password\" aria-label=\"Password\" /><div class=\"_9ls7\" id=\"u_0_4_eq\"><a href=\"#\" role=\"button\"><div class=\"_9lsa\"><div class=\"_9lsb\" id=\"u_0_5_/b\"></div></div></a></div></div></div></div><div class=\"_xkt\"><button value=\"1\" class=\"_42ft _4jy0 _52e0 _4jy6 _4jy1 selected _51sy\" id=\"loginbutton\" name=\"login\" tabindex=\"0\" type=\"submit\">Log in</button></div><div id=\"login_link\"><div class=\"_97w3\"><a href=\"https://www.facebook.com/recover/initiate/?ars=facebook_login&amp;cancel_lara_pswd=0&amp;next=https%3A%2F%2Fwww.facebook.com%2F\" class=\"_97w4\" target=\"\">Forgotten account?</a></div><div class=\"_1rf5\"><span class=\"_1rf8\">or</span></div><div class=\"_xkt\"><a role=\"button\" class=\"_42ft _4jy0 _16jx _4jy6 _4jy2 selected _51sy\" href=\"/r.php?next=https%3A%2F%2Fwww.facebook.com%2F&amp;locale=en_GB&amp;display=page\">Create new account</a></div></div></div><input type=\"hidden\" autocomplete=\"off\" id=\"prefill_contact_point\" name=\"prefill_contact_point\" value=\"\" /><input type=\"hidden\" autocomplete=\"off\" id=\"prefill_source\" name=\"prefill_source\" /><input type=\"hidden\" autocomplete=\"off\" id=\"prefill_type\" name=\"prefill_type\" /><input type=\"hidden\" autocomplete=\"off\" id=\"first_prefill_source\" name=\"first_prefill_source\" /><input type=\"hidden\" autocomplete=\"off\" id=\"first_prefill_type\" name=\"first_prefill_type\" /><input type=\"hidden\" autocomplete=\"off\" id=\"had_cp_prefilled\" name=\"had_cp_prefilled\" value=\"false\" /><input type=\"hidden\" autocomplete=\"off\" id=\"had_password_prefilled\" name=\"had_password_prefilled\" value=\"false\" /><input type=\"hidden\" autocomplete=\"off\" name=\"ab_test_data\" value=\"\" /></form></div></div></div></div><div class=\"\"><div class=\"_95ke _8opy\"><div id=\"pageFooter\" data-referrer=\"page_footer\" data-testid=\"page_footer\"><ul class=\"uiList localeSelectorList _2pid _509- _4ki _6-h _6-j _6-i\" data-nocookies=\"1\"><li>English (UK)</li><li><a class=\"_sv4\" dir=\"ltr\" href=\"https://pl-pl.facebook.com/login/?next=https%3A%2F%2Fwww.facebook.com%2F\" onclick=\"require(&quot;IntlUtils&quot;).setCookieLocale(&quot;pl_PL&quot;, &quot;en_GB&quot;, &quot;https:\\/\\/pl-pl.facebook.com\\/login\\/?next=https\\u00253A\\u00252F\\u00252Fwww.facebook.com\\u00252F&quot;, &quot;www_list_selector&quot;, 0); return false;\" title=\"Polish\">Polski</a></li><li><a class=\"_sv4\" dir=\"ltr\" href=\"https://es-la.facebook.com/login/?next=https%3A%2F%2Fwww.facebook.com%2F\" onclick=\"require(&quot;IntlUtils&quot;).setCookieLocale(&quot;es_LA&quot;, &quot;en_GB&quot;, &quot;https:\\/\\/es-la.facebook.com\\/login\\/?next=https\\u00253A\\u00252F\\u00252Fwww.facebook.com\\u00252F&quot;, &quot;www_list_selector&quot;, 1); return false;\" title=\"Spanish\">Español</a></li><li><a class=\"_sv4\" dir=\"ltr\" href=\"https://fr-fr.facebook.com/login/?next=https%3A%2F%2Fwww.facebook.com%2F\" onclick=\"require(&quot;IntlUtils&quot;).setCookieLocale(&quot;fr_FR&quot;, &quot;en_GB&quot;, &quot;https:\\/\\/fr-fr.facebook.com\\/login\\/?next=https\\u00253A\\u00252F\\u00252Fwww.facebook.com\\u00252F&quot;, &quot;www_list_selector&quot;, 2); return false;\" title=\"French (France)\">Français (France)</a></li><li><a class=\"_sv4\" dir=\"ltr\" href=\"https://it-it.facebook.com/login/?next=https%3A%2F%2Fwww.facebook.com%2F\" onclick=\"require(&quot;IntlUtils&quot;).setCookieLocale(&quot;it_IT&quot;, &quot;en_GB&quot;, &quot;https:\\/\\/it-it.facebook.com\\/login\\/?next=https\\u00253A\\u00252F\\u00252Fwww.facebook.com\\u00252F&quot;, &quot;www_list_selector&quot;, 3); return false;\" title=\"Italian\">Italiano</a></li><li><a class=\"_sv4\" dir=\"ltr\" href=\"https://lt-lt.facebook.com/login/?next=https%3A%2F%2Fwww.facebook.com%2F\" onclick=\"require(&quot;IntlUtils&quot;).setCookieLocale(&quot;lt_LT&quot;, &quot;en_GB&quot;, &quot;https:\\/\\/lt-lt.facebook.com\\/login\\/?next=https\\u00253A\\u00252F\\u00252Fwww.facebook.com\\u00252F&quot;, &quot;www_list_selector&quot;, 4); return false;\" title=\"Lithuanian\">Lietuvių</a></li><li><a class=\"_sv4\" dir=\"ltr\" href=\"https://ro-ro.facebook.com/login/?next=https%3A%2F%2Fwww.facebook.com%2F\" onclick=\"require(&quot;IntlUtils&quot;).setCookieLocale(&quot;ro_RO&quot;, &quot;en_GB&quot;, &quot;https:\\/\\/ro-ro.facebook.com\\/login\\/?next=https\\u00253A\\u00252F\\u00252Fwww.facebook.com\\u00252F&quot;, &quot;www_list_selector&quot;, 5); return false;\" title=\"Romanian\">Română</a></li><li><a class=\"_sv4\" dir=\"ltr\" href=\"https://zh-cn.facebook.com/login/?next=https%3A%2F%2Fwww.facebook.com%2F\" onclick=\"require(&quot;IntlUtils&quot;).setCookieLocale(&quot;zh_CN&quot;, &quot;en_GB&quot;, &quot;https:\\/\\/zh-cn.facebook.com\\/login\\/?next=https\\u00253A\\u00252F\\u00252Fwww.facebook.com\\u00252F&quot;, &quot;www_list_selector&quot;, 6); return false;\" title=\"Simplified Chinese (China)\">中文(简体)</a></li><li><a class=\"_sv4\" dir=\"ltr\" href=\"https://pt-br.facebook.com/login/?next=https%3A%2F%2Fwww.facebook.com%2F\" onclick=\"require(&quot;IntlUtils&quot;).setCookieLocale(&quot;pt_BR&quot;, &quot;en_GB&quot;, &quot;https:\\/\\/pt-br.facebook.com\\/login\\/?next=https\\u00253A\\u00252F\\u00252Fwww.facebook.com\\u00252F&quot;, &quot;www_list_selector&quot;, 7); return false;\" title=\"Portuguese (Brazil)\">Português (Brasil)</a></li><li><a class=\"_sv4\" dir=\"ltr\" href=\"https://de-de.facebook.com/login/?next=https%3A%2F%2Fwww.facebook.com%2F\" onclick=\"require(&quot;IntlUtils&quot;).setCookieLocale(&quot;de_DE&quot;, &quot;en_GB&quot;, &quot;https:\\/\\/de-de.facebook.com\\/login\\/?next=https\\u00253A\\u00252F\\u00252Fwww.facebook.com\\u00252F&quot;, &quot;www_list_selector&quot;, 8); return false;\" title=\"German\">Deutsch</a></li><li><a class=\"_sv4\" dir=\"rtl\" href=\"https://ar-ar.facebook.com/login/?next=https%3A%2F%2Fwww.facebook.com%2F\" onclick=\"require(&quot;IntlUtils&quot;).setCookieLocale(&quot;ar_AR&quot;, &quot;en_GB&quot;, &quot;https:\\/\\/ar-ar.facebook.com\\/login\\/?next=https\\u00253A\\u00252F\\u00252Fwww.facebook.com\\u00252F&quot;, &quot;www_list_selector&quot;, 9); return false;\" title=\"Arabic\">العربية</a></li><li><a role=\"button\" class=\"_42ft _4jy0 _517i _517h _51sy\" rel=\"dialog\" ajaxify=\"/settings/language/language/?uri=https%3A%2F%2Far-ar.facebook.com%2Flogin%2F%3Fnext%3Dhttps%253A%252F%252Fwww.facebook.com%252F&amp;source=www_list_selector_more\" href=\"#\" title=\"Show more languages\"><i class=\"img sp_SOkuOHNUdYM sx_2458cb\"></i></a></li></ul><div id=\"contentCurve\"></div><div id=\"pageFooterChildren\" role=\"contentinfo\" aria-label=\"Facebook site links\"><ul class=\"uiList pageFooterLinkList _509- _4ki _703 _6-i\"><li><a href=\"/reg/\" title=\"Sign up for Facebook\">Sign Up</a></li><li><a href=\"/login/\" title=\"Log in to Facebook\">Log in</a></li><li><a href=\"https://messenger.com/\" title=\"Take a look at Messenger.\">Messenger</a></li><li><a href=\"/lite/\" title=\"Facebook Lite for Android.\">Facebook Lite</a></li><li><a href=\"https://www.facebook.com/watch/\" title=\"Browse in Video\">Video</a></li><li><a href=\"/places/\" title=\"Take a look at popular places on Facebook.\">Places</a></li><li><a href=\"/games/\" title=\"Check out Facebook games.\">Games</a></li><li><a href=\"/marketplace/\" title=\"Buy and sell on Facebook Marketplace.\">Marketplace</a></li><li><a href=\"https://pay.facebook.com/\" title=\"Learn more about Meta Pay\" target=\"_blank\">Meta Pay</a></li><li><a href=\"https://www.meta.com/\" title=\"Discover Meta\" target=\"_blank\">Meta Store</a></li><li><a href=\"https://www.meta.com/quest/\" title=\"Learn more about Meta Quest\" target=\"_blank\">Meta Quest</a></li><li><a href=\"https://www.meta.ai/\" title=\"Meta AI\">Meta AI</a></li><li><a href=\"https://l.facebook.com/l.php?u=https%3A%2F%2Fwww.instagram.com%2F&amp;h=AT1gyknkkK_rlsSwnXhM6IWjw5t7HXQNH8D6-WWnDXxUWqZLgErsaCphB9imPnTx7btKx7rPeCm06fpIbc0RPGlU6ZmDuWkJx5L8sTYWVqHE_SE4_lKO4OP8kB27GXOAiZ7DXXZQvxw4RoeS\" title=\"Take a look at Instagram\" target=\"_blank\" rel=\"nofollow\" data-lynx-mode=\"hover\">Instagram</a></li><li><a href=\"https://www.threads.net/\" title=\"Check out Threads\">Threads</a></li><li><a href=\"/fundraisers/\" title=\"Donate to worthy causes.\">Fundraisers</a></li><li><a href=\"/biz/directory/\" title=\"Browse our Facebook Services directory.\">Services</a></li><li><a href=\"/votinginformationcenter/?entry_point=c2l0ZQ%3D%3D\" title=\"See the Voting Information Centre\">Voting Information Centre</a></li><li><a href=\"/privacy/policy/?entry_point=facebook_page_footer\" title=\"Learn how we collect, use and share information to support Facebook.\">Privacy Policy</a></li><li><a href=\"/privacy/center/?entry_point=facebook_page_footer\" title=\"Learn how to manage and control your privacy on Facebook.\">Privacy Centre</a></li><li><a href=\"/groups/discover/\" title=\"Explore our groups.\">Groups</a></li><li><a href=\"https://about.meta.com/\" accesskey=\"8\" title=\"Read our blog, discover the resource centre and find job opportunities.\">About</a></li><li><a href=\"/ad_campaign/landing.php?placement=pflo&amp;campaign_id=402047449186&amp;nav_source=unknown&amp;extra_1=auto\" title=\"Advertise on Facebook\">Create ad</a></li><li><a href=\"/pages/create/?ref_type=site_footer\" title=\"Create a Page\">Create Page</a></li><li><a href=\"https://developers.facebook.com/?ref=pf\" title=\"Develop on our platform.\">Developers</a></li><li><a href=\"/careers/?ref=pf\" title=\"Make your next career move to our brilliant company.\">Careers</a></li><li><a href=\"/policies/cookies/\" title=\"Learn about cookies and Facebook.\" data-nocookies=\"1\">Cookies</a></li><li><a class=\"_41ug\" data-nocookies=\"1\" href=\"https://www.facebook.com/help/568137493302217\" title=\"Learn about Ad Choices.\">AdChoices<i class=\"img sp_SOkuOHNUdYM sx_041895\"></i></a></li><li><a data-nocookies=\"1\" href=\"/policies?ref=pf\" accesskey=\"9\" title=\"Review our terms and policies.\">Terms</a></li><li><a href=\"/help/?ref=pf\" accesskey=\"0\" title=\"Visit our Help Centre.\">Help</a></li><li><a href=\"help/637205020878504\" title=\"Visit our contact uploading and non-users notice.\">Contact uploading and non-users</a></li><li><a accesskey=\"6\" class=\"accessible_elem\" href=\"/settings\" title=\"View and edit your Facebook settings.\">Settings</a></li><li><a accesskey=\"7\" class=\"accessible_elem\" href=\"/allactivity?privacy_source=activity_log_top_menu\" title=\"View your activity log\">Activity log</a></li></ul></div><div class=\"mvl copyright\"><div><span> Meta © 2024</span></div></div></div></div></div></div><div></div><span><img src=\"https://facebook.com/security/hsts-pixel.gif?c=3.2.5\" width=\"0\" height=\"0\" style=\"display:none\" /></span></div><div style=\"display:none\"></div>\n",
      "<script>requireLazy([\"HasteSupportData\"],function(m){m.handle({\"bxData\":{\"875231\":{\"uri\":\"https:\\/\\/static.xx.fbcdn.net\\/rsrc.php\\/yT\\/r\\/aGT3gskzWBf.ico\"}},\"clpData\":{\"1743095\":{\"r\":1,\"s\":1},\"1744178\":{\"r\":1,\"s\":1}},\"gkxData\":{\"21116\":{\"result\":false,\"hash\":null},\"21049\":{\"result\":false,\"hash\":null},\"1624\":{\"result\":false,\"hash\":null},\"2160\":{\"result\":false,\"hash\":null},\"20836\":{\"result\":false,\"hash\":null},\"21050\":{\"result\":false,\"hash\":null},\"21051\":{\"result\":false,\"hash\":null},\"21052\":{\"result\":false,\"hash\":null},\"21053\":{\"result\":false,\"hash\":null},\"21054\":{\"result\":false,\"hash\":null},\"21055\":{\"result\":false,\"hash\":null},\"21056\":{\"result\":false,\"hash\":null},\"21057\":{\"result\":false,\"hash\":null},\"21058\":{\"result\":false,\"hash\":null}},\"qplData\":{\"891\":{\"r\":1}}})});requireLazy([\"Bootloader\"],function(m){m.handlePayload({\"consistency\":{\"rev\":1015075330},\"rsrcMap\":{\"NPrlkkQ\":{\"type\":\"js\",\"src\":\"https:\\/\\/static.xx.fbcdn.net\\/rsrc.php\\/v3\\/yG\\/r\\/7vr7kd_KTDc.js?_nc_x=Ij3Wp8lg5Kz\",\"nc\":1},\"IjugNeq\":{\"type\":\"js\",\"src\":\"https:\\/\\/static.xx.fbcdn.net\\/rsrc.php\\/v3\\/y9\\/r\\/qetfxZizIhM.js?_nc_x=Ij3Wp8lg5Kz\",\"nc\":1},\"OtKFPba\":{\"type\":\"js\",\"src\":\"https:\\/\\/static.xx.fbcdn.net\\/rsrc.php\\/v3\\/yV\\/r\\/EZkcOGfekyW.js?_nc_x=Ij3Wp8lg5Kz\",\"nc\":1},\"u8TBC0W\":{\"type\":\"js\",\"src\":\"https:\\/\\/static.xx.fbcdn.net\\/rsrc.php\\/v3\\/yW\\/r\\/Bvr7BYmOJJ9.js?_nc_x=Ij3Wp8lg5Kz\",\"nc\":1},\"bCp9mIF\":{\"type\":\"js\",\"src\":\"https:\\/\\/static.xx.fbcdn.net\\/rsrc.php\\/v3\\/yS\\/r\\/IQesjrfZ6d8.js?_nc_x=Ij3Wp8lg5Kz\",\"nc\":1},\"T6rjpcF\":{\"type\":\"js\",\"src\":\"https:\\/\\/static.xx.fbcdn.net\\/rsrc.php\\/v3ij9m4\\/yS\\/l\\/en_GB\\/-MtCr_YE_tJ.js?_nc_x=Ij3Wp8lg5Kz\",\"nc\":1},\"yBawEKi\":{\"type\":\"js\",\"src\":\"https:\\/\\/static.xx.fbcdn.net\\/rsrc.php\\/v3\\/ys\\/r\\/1QHrtcf4DvL.js?_nc_x=Ij3Wp8lg5Kz\",\"nc\":1},\"RNyZghJ\":{\"type\":\"js\",\"src\":\"https:\\/\\/static.xx.fbcdn.net\\/rsrc.php\\/v3\\/y9\\/r\\/ftlbnhuq_yv.js?_nc_x=Ij3Wp8lg5Kz\",\"nc\":1},\"Wbfiqfr\":{\"type\":\"js\",\"src\":\"https:\\/\\/static.xx.fbcdn.net\\/rsrc.php\\/v3\\/yA\\/r\\/QBS9RsMzOOD.js?_nc_x=Ij3Wp8lg5Kz\",\"nc\":1},\"v2OErLh\":{\"type\":\"js\",\"src\":\"https:\\/\\/static.xx.fbcdn.net\\/rsrc.php\\/v3\\/ys\\/r\\/pg8jih5T_9q.js?_nc_x=Ij3Wp8lg5Kz\",\"nc\":1},\"YM4VSEC\":{\"type\":\"js\",\"src\":\"https:\\/\\/static.xx.fbcdn.net\\/rsrc.php\\/v3\\/yY\\/r\\/U50jqBAgqff.js?_nc_x=Ij3Wp8lg5Kz\",\"nc\":1},\"+hCsEGR\":{\"type\":\"js\",\"src\":\"https:\\/\\/static.xx.fbcdn.net\\/rsrc.php\\/v3\\/yx\\/r\\/xDAljLnLziD.js?_nc_x=Ij3Wp8lg5Kz\",\"nc\":1},\"CBFvSpM\":{\"type\":\"js\",\"src\":\"https:\\/\\/static.xx.fbcdn.net\\/rsrc.php\\/v3iLl54\\/yH\\/l\\/en_GB\\/oJfB2r3Emz_.js?_nc_x=Ij3Wp8lg5Kz\",\"nc\":1},\"a3WQBlZ\":{\"type\":\"js\",\"src\":\"https:\\/\\/static.xx.fbcdn.net\\/rsrc.php\\/v3\\/yg\\/r\\/yijDHdNpEmP.js?_nc_x=Ij3Wp8lg5Kz\",\"nc\":1},\"eDQ7Jrt\":{\"type\":\"js\",\"src\":\"https:\\/\\/static.xx.fbcdn.net\\/rsrc.php\\/v3iCwx4\\/yQ\\/l\\/en_GB\\/NQBFXzQ74sL.js?_nc_x=Ij3Wp8lg5Kz\",\"nc\":1},\"81EcBFr\":{\"type\":\"css\",\"src\":\"https:\\/\\/static.xx.fbcdn.net\\/rsrc.php\\/v3\\/y7\\/l\\/0,cross\\/nFTNVI0edNx.css?_nc_x=Ij3Wp8lg5Kz\",\"nc\":1},\"47bd7pk\":{\"type\":\"js\",\"src\":\"https:\\/\\/static.xx.fbcdn.net\\/rsrc.php\\/v3\\/ya\\/r\\/gJiIxb4V6K8.js?_nc_x=Ij3Wp8lg5Kz\",\"nc\":1},\"mVbC6Mt\":{\"type\":\"js\",\"src\":\"https:\\/\\/static.xx.fbcdn.net\\/rsrc.php\\/v3imlR4\\/y5\\/l\\/en_GB\\/NLTMVFT45Qe.js?_nc_x=Ij3Wp8lg5Kz\",\"nc\":1},\"50b7NUs\":{\"type\":\"js\",\"src\":\"https:\\/\\/static.xx.fbcdn.net\\/rsrc.php\\/v3\\/yk\\/r\\/jrOlqPoWzKa.js?_nc_x=Ij3Wp8lg5Kz\",\"nc\":1},\"M+tLTdT\":{\"type\":\"js\",\"src\":\"https:\\/\\/static.xx.fbcdn.net\\/rsrc.php\\/v3i_Ou4\\/y8\\/l\\/en_GB\\/Dpo-C8H2-Ae.js?_nc_x=Ij3Wp8lg5Kz\",\"nc\":1},\"lMgBAlF\":{\"type\":\"js\",\"src\":\"https:\\/\\/static.xx.fbcdn.net\\/rsrc.php\\/v3imh_4\\/yp\\/l\\/en_GB\\/DcrriA45PJl.js?_nc_x=Ij3Wp8lg5Kz\",\"nc\":1},\"+\\/462MH\":{\"type\":\"js\",\"src\":\"https:\\/\\/static.xx.fbcdn.net\\/rsrc.php\\/v3iE-14\\/y4\\/l\\/en_GB\\/qF8bQXW2jBw.js?_nc_x=Ij3Wp8lg5Kz\",\"nc\":1},\"IIWSeyD\":{\"type\":\"css\",\"src\":\"https:\\/\\/static.xx.fbcdn.net\\/rsrc.php\\/v3\\/y3\\/l\\/0,cross\\/7pMYW90TOGA.css?_nc_x=Ij3Wp8lg5Kz\",\"nc\":1},\"v4CIhFQ\":{\"type\":\"js\",\"src\":\"https:\\/\\/static.xx.fbcdn.net\\/rsrc.php\\/v3iBjQ4\\/yZ\\/l\\/en_GB\\/gksMP70PsiP.js?_nc_x=Ij3Wp8lg5Kz\",\"nc\":1},\"To1W+ZA\":{\"type\":\"js\",\"src\":\"https:\\/\\/static.xx.fbcdn.net\\/rsrc.php\\/v3ic9O4\\/yL\\/l\\/en_GB\\/b91ji-rPjih.js?_nc_x=Ij3Wp8lg5Kz\",\"nc\":1},\"zwPbSl+\":{\"type\":\"js\",\"src\":\"https:\\/\\/static.xx.fbcdn.net\\/rsrc.php\\/v3\\/ys\\/r\\/BTI3grDU_WB.js?_nc_x=Ij3Wp8lg5Kz\",\"nc\":1},\"uLdCQ7I\":{\"type\":\"css\",\"src\":\"https:\\/\\/static.xx.fbcdn.net\\/rsrc.php\\/v3\\/yb\\/l\\/0,cross\\/Utv4LAeL1Yp.css?_nc_x=Ij3Wp8lg5Kz\",\"nc\":1},\"Qhiu5DM\":{\"type\":\"js\",\"src\":\"https:\\/\\/static.xx.fbcdn.net\\/rsrc.php\\/v3\\/yN\\/r\\/s6JWaK8yGue.js?_nc_x=Ij3Wp8lg5Kz\",\"nc\":1},\"X+U8g0O\":{\"type\":\"css\",\"src\":\"https:\\/\\/static.xx.fbcdn.net\\/rsrc.php\\/v3\\/yx\\/l\\/0,cross\\/WpWmSjhlvS6.css?_nc_x=Ij3Wp8lg5Kz\",\"nc\":1},\"x68kdHt\":{\"type\":\"css\",\"src\":\"https:\\/\\/static.xx.fbcdn.net\\/rsrc.php\\/v3\\/yj\\/l\\/0,cross\\/LZI9s1Kkg7o.css?_nc_x=Ij3Wp8lg5Kz\",\"nc\":1},\"kr4dkkv\":{\"type\":\"js\",\"src\":\"https:\\/\\/static.xx.fbcdn.net\\/rsrc.php\\/v3\\/yr\\/r\\/pXgIEpswiy6.js?_nc_x=Ij3Wp8lg5Kz\",\"nc\":1},\"ULTb+Z\\/\":{\"type\":\"js\",\"src\":\"https:\\/\\/static.xx.fbcdn.net\\/rsrc.php\\/v3ipom4\\/yL\\/l\\/en_GB\\/cTUVlA5V4LT.js?_nc_x=Ij3Wp8lg5Kz\",\"nc\":1},\"VS6BviA\":{\"type\":\"js\",\"src\":\"https:\\/\\/static.xx.fbcdn.net\\/rsrc.php\\/v3iV5O4\\/yE\\/l\\/en_GB\\/XdfpVwcTrSQ.js?_nc_x=Ij3Wp8lg5Kz\",\"nc\":1},\"tniVa0E\":{\"type\":\"js\",\"src\":\"https:\\/\\/static.xx.fbcdn.net\\/rsrc.php\\/v3\\/y2\\/r\\/GWjeUP3-tDC.js?_nc_x=Ij3Wp8lg5Kz\",\"nc\":1},\"taao1Ia\":{\"type\":\"css\",\"src\":\"https:\\/\\/static.xx.fbcdn.net\\/rsrc.php\\/v3\\/yA\\/l\\/0,cross\\/j7NS24qkW2x.css?_nc_x=Ij3Wp8lg5Kz\",\"nc\":1},\"1bWz6vk\":{\"type\":\"js\",\"src\":\"https:\\/\\/static.xx.fbcdn.net\\/rsrc.php\\/v3iFe24\\/yp\\/l\\/en_GB\\/OaXX1hI0315.js?_nc_x=Ij3Wp8lg5Kz\",\"nc\":1},\"hgYdfTC\":{\"type\":\"css\",\"src\":\"https:\\/\\/static.xx.fbcdn.net\\/rsrc.php\\/v3\\/y7\\/l\\/0,cross\\/NK-_3QII3Co.css?_nc_x=Ij3Wp8lg5Kz\",\"nc\":1},\"D0RNXqt\":{\"type\":\"js\",\"src\":\"https:\\/\\/static.xx.fbcdn.net\\/rsrc.php\\/v3i6ht4\\/yG\\/l\\/en_GB\\/Mvq7JRz1sRt.js?_nc_x=Ij3Wp8lg5Kz\",\"nc\":1},\"Q5HneYN\":{\"type\":\"js\",\"src\":\"https:\\/\\/static.xx.fbcdn.net\\/rsrc.php\\/v3iIDD4\\/yO\\/l\\/en_GB\\/k-eDG43qFxg.js?_nc_x=Ij3Wp8lg5Kz\",\"nc\":1},\"odDfP2h\":{\"type\":\"js\",\"src\":\"https:\\/\\/static.xx.fbcdn.net\\/rsrc.php\\/v3\\/yx\\/r\\/NGDlr1mtv66.js?_nc_x=Ij3Wp8lg5Kz\",\"nc\":1},\"JMaXXAt\":{\"type\":\"js\",\"src\":\"https:\\/\\/static.xx.fbcdn.net\\/rsrc.php\\/v3\\/y9\\/r\\/vIyaMOT8PwN.js?_nc_x=Ij3Wp8lg5Kz\",\"nc\":1},\"kpImp7C\":{\"type\":\"css\",\"src\":\"https:\\/\\/static.xx.fbcdn.net\\/rsrc.php\\/v3\\/yr\\/l\\/0,cross\\/HoFJSaAFrvg.css?_nc_x=Ij3Wp8lg5Kz\",\"nc\":1},\"6AGlcgP\":{\"type\":\"js\",\"src\":\"https:\\/\\/static.xx.fbcdn.net\\/rsrc.php\\/v3\\/yj\\/r\\/WvvI2dKxR5t.js?_nc_x=Ij3Wp8lg5Kz\",\"nc\":1},\"WDnniry\":{\"type\":\"css\",\"src\":\"https:\\/\\/static.xx.fbcdn.net\\/rsrc.php\\/v3\\/yU\\/l\\/0,cross\\/Q0XK8zKlS2C.css?_nc_x=Ij3Wp8lg5Kz\",\"nc\":1},\"l3dOy1u\":{\"type\":\"js\",\"src\":\"https:\\/\\/static.xx.fbcdn.net\\/rsrc.php\\/v3iK7-4\\/y9\\/l\\/en_GB\\/B7WZMss4Kfs.js?_nc_x=Ij3Wp8lg5Kz\",\"nc\":1},\"5af2yKe\":{\"type\":\"js\",\"src\":\"https:\\/\\/static.xx.fbcdn.net\\/rsrc.php\\/v3\\/y9\\/r\\/U5BmWQgj45M.js?_nc_x=Ij3Wp8lg5Kz\",\"nc\":1},\"GYhJDoR\":{\"type\":\"js\",\"src\":\"https:\\/\\/static.xx.fbcdn.net\\/rsrc.php\\/v3\\/yg\\/r\\/xtjwjXDmMQr.js?_nc_x=Ij3Wp8lg5Kz\",\"nc\":1},\"nNPLJUA\":{\"type\":\"js\",\"src\":\"https:\\/\\/static.xx.fbcdn.net\\/rsrc.php\\/v3\\/yS\\/r\\/RWOdmCDbk4v.js?_nc_x=Ij3Wp8lg5Kz\",\"nc\":1},\"rMFiAP1\":{\"type\":\"js\",\"src\":\"https:\\/\\/static.xx.fbcdn.net\\/rsrc.php\\/v3iQ-I4\\/yX\\/l\\/en_GB\\/UC5eEQbHDXL.js?_nc_x=Ij3Wp8lg5Kz\",\"nc\":1},\"KET8Gjp\":{\"type\":\"js\",\"src\":\"https:\\/\\/static.xx.fbcdn.net\\/rsrc.php\\/v3iCIo4\\/yc\\/l\\/en_GB\\/oLPdmfO4rQj.js?_nc_x=Ij3Wp8lg5Kz\",\"nc\":1},\"\\/fRfucJ\":{\"type\":\"js\",\"src\":\"https:\\/\\/static.xx.fbcdn.net\\/rsrc.php\\/v3\\/yj\\/r\\/J_2QGZXJPHT.js?_nc_x=Ij3Wp8lg5Kz\",\"nc\":1},\"8lvMHa6\":{\"type\":\"js\",\"src\":\"https:\\/\\/static.xx.fbcdn.net\\/rsrc.php\\/v3ifBw4\\/y-\\/l\\/en_GB\\/7YKPdCuuvyV.js?_nc_x=Ij3Wp8lg5Kz\",\"nc\":1},\"hLO1PNg\":{\"type\":\"css\",\"src\":\"https:\\/\\/static.xx.fbcdn.net\\/rsrc.php\\/v3\\/yJ\\/l\\/0,cross\\/vO2Dg5Im-vl.css?_nc_x=Ij3Wp8lg5Kz\",\"nc\":1},\"RK0K6Yg\":{\"type\":\"js\",\"src\":\"https:\\/\\/static.xx.fbcdn.net\\/rsrc.php\\/v3\\/yL\\/r\\/Y5Qyr9adNBi.js?_nc_x=Ij3Wp8lg5Kz\",\"nc\":1},\"1zZxL\\/b\":{\"type\":\"js\",\"src\":\"https:\\/\\/static.xx.fbcdn.net\\/rsrc.php\\/v3in1R4\\/y9\\/l\\/en_GB\\/qazCbCvACA8.js?_nc_x=Ij3Wp8lg5Kz\",\"nc\":1},\"ZNvJiA2\":{\"type\":\"css\",\"src\":\"https:\\/\\/static.xx.fbcdn.net\\/rsrc.php\\/v3\\/yp\\/l\\/0,cross\\/kgTV2HIOwpZ.css?_nc_x=Ij3Wp8lg5Kz\",\"nc\":1},\"TH6QCdF\":{\"type\":\"js\",\"src\":\"https:\\/\\/static.xx.fbcdn.net\\/rsrc.php\\/v3iPiP4\\/yo\\/l\\/en_GB\\/w9ww_MVwQjd.js?_nc_x=Ij3Wp8lg5Kz\",\"nc\":1},\"vPAEGra\":{\"type\":\"js\",\"src\":\"https:\\/\\/static.xx.fbcdn.net\\/rsrc.php\\/v3iMwH4\\/yC\\/l\\/en_GB\\/glOGefIN5EH.js?_nc_x=Ij3Wp8lg5Kz\",\"nc\":1},\"jWLcLgF\":{\"type\":\"js\",\"src\":\"https:\\/\\/static.xx.fbcdn.net\\/rsrc.php\\/v3\\/yk\\/r\\/HcS2PlYuE49.js?_nc_x=Ij3Wp8lg5Kz\",\"nc\":1},\"S3P1cXl\":{\"type\":\"js\",\"src\":\"https:\\/\\/static.xx.fbcdn.net\\/rsrc.php\\/v3ikpZ4\\/y4\\/l\\/en_GB\\/Hf-lJRKGaiM.js?_nc_x=Ij3Wp8lg5Kz\",\"nc\":1},\"AI\\/5Wpf\":{\"type\":\"js\",\"src\":\"https:\\/\\/static.xx.fbcdn.net\\/rsrc.php\\/v3iLl54\\/yp\\/l\\/en_GB\\/l2OqiPUWCLM.js?_nc_x=Ij3Wp8lg5Kz\",\"nc\":1},\"nP8F5zM\":{\"type\":\"css\",\"src\":\"https:\\/\\/static.xx.fbcdn.net\\/rsrc.php\\/v3\\/ye\\/l\\/0,cross\\/uD9pdWZv_B3.css?_nc_x=Ij3Wp8lg5Kz\",\"nc\":1},\"QBWIAY7\":{\"type\":\"css\",\"src\":\"https:\\/\\/static.xx.fbcdn.net\\/rsrc.php\\/v3\\/yV\\/l\\/0,cross\\/RCH94yvlZgl.css?_nc_x=Ij3Wp8lg5Kz\",\"nc\":1},\"g3r9\\/QJ\":{\"type\":\"js\",\"src\":\"https:\\/\\/static.xx.fbcdn.net\\/rsrc.php\\/v3iiqk4\\/yq\\/l\\/en_GB\\/qG3PFWinbfo.js?_nc_x=Ij3Wp8lg5Kz\",\"nc\":1},\"YnjkJVG\":{\"type\":\"js\",\"src\":\"https:\\/\\/static.xx.fbcdn.net\\/rsrc.php\\/v3ihhC4\\/yG\\/l\\/en_GB\\/rOqdp0QR0Nb.js?_nc_x=Ij3Wp8lg5Kz\",\"nc\":1},\"ubBqlhx\":{\"type\":\"js\",\"src\":\"https:\\/\\/static.xx.fbcdn.net\\/rsrc.php\\/v3iuj24\\/yC\\/l\\/en_GB\\/ZDtiTSv6e3F.js?_nc_x=Ij3Wp8lg5Kz\",\"nc\":1},\"RwNGFt8\":{\"type\":\"js\",\"src\":\"https:\\/\\/static.xx.fbcdn.net\\/rsrc.php\\/v3\\/yR\\/r\\/NTBXcpfVOaa.js?_nc_x=Ij3Wp8lg5Kz\",\"nc\":1},\"KTJXyzv\":{\"type\":\"js\",\"src\":\"https:\\/\\/static.xx.fbcdn.net\\/rsrc.php\\/v3\\/yG\\/r\\/Mdl4See5q5E.js?_nc_x=Ij3Wp8lg5Kz\",\"nc\":1},\"xsFg75a\":{\"type\":\"js\",\"src\":\"https:\\/\\/static.xx.fbcdn.net\\/rsrc.php\\/v3\\/yt\\/r\\/mnLc1TS2Wp-.js?_nc_x=Ij3Wp8lg5Kz\",\"nc\":1},\"cbtu0gd\":{\"type\":\"js\",\"src\":\"https:\\/\\/static.xx.fbcdn.net\\/rsrc.php\\/v3\\/yc\\/r\\/aCKOfvtcEai.js?_nc_x=Ij3Wp8lg5Kz\",\"nc\":1},\"rCasuzG\":{\"type\":\"js\",\"src\":\"https:\\/\\/static.xx.fbcdn.net\\/rsrc.php\\/v3\\/yA\\/r\\/OzWmCcYw0wO.js?_nc_x=Ij3Wp8lg5Kz\",\"nc\":1},\"3IR6mzL\":{\"type\":\"js\",\"src\":\"https:\\/\\/static.xx.fbcdn.net\\/rsrc.php\\/v3irW_4\\/yL\\/l\\/en_GB\\/QeO-bp5htNX.js?_nc_x=Ij3Wp8lg5Kz\",\"nc\":1},\"zBCHqap\":{\"type\":\"js\",\"src\":\"https:\\/\\/static.xx.fbcdn.net\\/rsrc.php\\/v3ixYd4\\/yy\\/l\\/en_GB\\/uZo94An9GL7.js?_nc_x=Ij3Wp8lg5Kz\",\"nc\":1},\"SWx3yNv\":{\"type\":\"js\",\"src\":\"https:\\/\\/static.xx.fbcdn.net\\/rsrc.php\\/v3\\/y7\\/r\\/g__eV5OXSXl.js?_nc_x=Ij3Wp8lg5Kz\",\"nc\":1},\"uvLjAPa\":{\"type\":\"js\",\"src\":\"https:\\/\\/static.xx.fbcdn.net\\/rsrc.php\\/v3\\/y3\\/r\\/TWs7J_bREZH.js?_nc_x=Ij3Wp8lg5Kz\",\"nc\":1},\"e+7yDZ\\/\":{\"type\":\"js\",\"src\":\"https:\\/\\/static.xx.fbcdn.net\\/rsrc.php\\/v3i1Yp4\\/ys\\/l\\/en_GB\\/axQvuxfhOc6.js?_nc_x=Ij3Wp8lg5Kz\",\"nc\":1},\"x22Oby4\":{\"type\":\"js\",\"src\":\"https:\\/\\/static.xx.fbcdn.net\\/rsrc.php\\/v3\\/yZ\\/r\\/tVshp1OIV9l.js?_nc_x=Ij3Wp8lg5Kz\",\"nc\":1},\"8ELCBwH\":{\"type\":\"js\",\"src\":\"https:\\/\\/static.xx.fbcdn.net\\/rsrc.php\\/v3\\/ye\\/r\\/VRzSVH5iU-V.js?_nc_x=Ij3Wp8lg5Kz\",\"nc\":1},\"I+GHswV\":{\"type\":\"js\",\"src\":\"https:\\/\\/static.xx.fbcdn.net\\/rsrc.php\\/v3\\/yS\\/r\\/ui2DkP-wt_7.js?_nc_x=Ij3Wp8lg5Kz\",\"nc\":1},\"vdNQr9P\":{\"type\":\"js\",\"src\":\"https:\\/\\/static.xx.fbcdn.net\\/rsrc.php\\/v3\\/yj\\/r\\/FiVT6nDibIJ.js?_nc_x=Ij3Wp8lg5Kz\",\"nc\":1},\"H\\/5lfuF\":{\"type\":\"js\",\"src\":\"https:\\/\\/static.xx.fbcdn.net\\/rsrc.php\\/v3\\/yF\\/r\\/iqrvM8jAXX7.js?_nc_x=Ij3Wp8lg5Kz\",\"nc\":1},\"17Grp2h\":{\"type\":\"js\",\"src\":\"https:\\/\\/static.xx.fbcdn.net\\/rsrc.php\\/v3\\/y-\\/r\\/HhbMrxvaW_H.js?_nc_x=Ij3Wp8lg5Kz\",\"nc\":1},\"QIamfde\":{\"type\":\"js\",\"src\":\"https:\\/\\/static.xx.fbcdn.net\\/rsrc.php\\/v3\\/yA\\/r\\/Y37sQzk-yb8.js?_nc_x=Ij3Wp8lg5Kz\",\"nc\":1},\"QyoftxH\":{\"type\":\"js\",\"src\":\"https:\\/\\/static.xx.fbcdn.net\\/rsrc.php\\/v3\\/yL\\/r\\/j-_AFWnS2kv.js?_nc_x=Ij3Wp8lg5Kz\",\"nc\":1},\"Tll2J5j\":{\"type\":\"js\",\"src\":\"https:\\/\\/static.xx.fbcdn.net\\/rsrc.php\\/v3\\/yQ\\/r\\/WeajZf_EolU.js?_nc_x=Ij3Wp8lg5Kz\",\"nc\":1},\"zPYlTyl\":{\"type\":\"js\",\"src\":\"https:\\/\\/static.xx.fbcdn.net\\/rsrc.php\\/v3\\/yO\\/r\\/_tJ17sGyxOX.js?_nc_x=Ij3Wp8lg5Kz\",\"nc\":1},\"P\\/mr5VE\":{\"type\":\"css\",\"src\":\"data:text\\/css; charset=utf-8;base64,I2Jvb3Rsb2FkZXJfUF9tcjVWRXtoZWlnaHQ6NDJweDt9LmJvb3Rsb2FkZXJfUF9tcjVWRXtkaXNwbGF5OmJsb2NrIWltcG9ydGFudDt9\",\"nc\":1,\"d\":1}},\"compMap\":{\"WebSpeedInteractionsTypedLogger\":{\"r\":[\"NPrlkkQ\",\"IjugNeq\",\"OtKFPba\",\"u8TBC0W\"],\"be\":1},\"AsyncRequest\":{\"r\":[\"NPrlkkQ\",\"bCp9mIF\",\"T6rjpcF\",\"CEt5M1\\/\"],\"rds\":{\"m\":[\"FbtLogging\",\"IntlQtEventFalcoEvent\"]},\"be\":1},\"DOM\":{\"r\":[\"bCp9mIF\",\"CEt5M1\\/\"],\"be\":1},\"Form\":{\"r\":[\"yBawEKi\",\"bCp9mIF\",\"CEt5M1\\/\"],\"be\":1},\"FormSubmit\":{\"r\":[\"NPrlkkQ\",\"yBawEKi\",\"bCp9mIF\",\"T6rjpcF\",\"RNyZghJ\",\"CEt5M1\\/\"],\"rds\":{\"m\":[\"FbtLogging\",\"IntlQtEventFalcoEvent\"]},\"be\":1},\"Input\":{\"r\":[\"yBawEKi\"],\"be\":1},\"Toggler\":{\"r\":[\"CEt5M1\\/\",\"Wbfiqfr\",\"bCp9mIF\",\"v2OErLh\",\"YM4VSEC\"],\"be\":1},\"Tooltip\":{\"r\":[\"NPrlkkQ\",\"+hCsEGR\",\"CBFvSpM\",\"yBawEKi\",\"CEt5M1\\/\",\"Wbfiqfr\",\"bCp9mIF\",\"a3WQBlZ\",\"eDQ7Jrt\",\"T6rjpcF\",\"v2OErLh\",\"81EcBFr\",\"47bd7pk\",\"mVbC6Mt\",\"50b7NUs\"],\"rds\":{\"m\":[\"FbtLogging\",\"IntlQtEventFalcoEvent\",\"PageTransitions\",\"Animation\"],\"r\":[\"M+tLTdT\"]},\"be\":1},\"URI\":{\"r\":[],\"be\":1},\"trackReferrer\":{\"r\":[],\"be\":1},\"PhotoTagApproval\":{\"r\":[\"lMgBAlF\",\"bCp9mIF\",\"+\\/462MH\",\"CEt5M1\\/\"],\"be\":1},\"PhotoSnowlift\":{\"r\":[\"NPrlkkQ\",\"lMgBAlF\",\"IIWSeyD\",\"+hCsEGR\",\"v4CIhFQ\",\"To1W+ZA\",\"zwPbSl+\",\"mVbC6Mt\",\"CBFvSpM\",\"yBawEKi\",\"uLdCQ7I\",\"Qhiu5DM\",\"X+U8g0O\",\"x68kdHt\",\"kr4dkkv\",\"CEt5M1\\/\",\"M+tLTdT\",\"ULTb+Z\\/\",\"Wbfiqfr\",\"VS6BviA\",\"tniVa0E\",\"taao1Ia\",\"1bWz6vk\",\"hgYdfTC\",\"D0RNXqt\",\"Q5HneYN\",\"odDfP2h\",\"bCp9mIF\",\"JMaXXAt\",\"eS0I9Re\",\"a3WQBlZ\",\"kpImp7C\",\"6AGlcgP\",\"WDnniry\",\"l3dOy1u\",\"5af2yKe\",\"IjugNeq\",\"eDQ7Jrt\",\"GYhJDoR\",\"u8TBC0W\",\"T6rjpcF\",\"nNPLJUA\",\"rMFiAP1\",\"v2OErLh\",\"KET8Gjp\",\"\\/fRfucJ\",\"8lvMHa6\",\"hLO1PNg\",\"RK0K6Yg\",\"1zZxL\\/b\",\"ZNvJiA2\",\"81EcBFr\",\"TH6QCdF\",\"YM4VSEC\",\"vPAEGra\",\"47bd7pk\",\"50b7NUs\"],\"rds\":{\"m\":[\"Animation\",\"FbtLogging\",\"IntlQtEventFalcoEvent\",\"PageTransitions\"]},\"be\":1},\"PhotoTagger\":{\"r\":[\"NPrlkkQ\",\"lMgBAlF\",\"+hCsEGR\",\"mVbC6Mt\",\"CBFvSpM\",\"yBawEKi\",\"x68kdHt\",\"CEt5M1\\/\",\"Wbfiqfr\",\"jWLcLgF\",\"S3P1cXl\",\"AI\\/5Wpf\",\"bCp9mIF\",\"a3WQBlZ\",\"eDQ7Jrt\",\"GYhJDoR\",\"u8TBC0W\",\"T6rjpcF\",\"v2OErLh\",\"RK0K6Yg\",\"nP8F5zM\",\"ZNvJiA2\",\"QBWIAY7\",\"g3r9\\/QJ\",\"YM4VSEC\",\"+\\/462MH\",\"47bd7pk\",\"50b7NUs\"],\"rds\":{\"m\":[\"FbtLogging\",\"IntlQtEventFalcoEvent\",\"PageTransitions\",\"Animation\"],\"r\":[\"M+tLTdT\"]},\"be\":1},\"PhotoTags\":{\"r\":[\"lMgBAlF\",\"bCp9mIF\",\"v2OErLh\",\"+\\/462MH\",\"CEt5M1\\/\"],\"be\":1},\"TagTokenizer\":{\"r\":[\"YnjkJVG\",\"yBawEKi\",\"CEt5M1\\/\",\"jWLcLgF\",\"hgYdfTC\",\"bCp9mIF\",\"ubBqlhx\",\"RwNGFt8\",\"v2OErLh\",\"QBWIAY7\",\"+\\/462MH\"],\"rds\":{\"m\":[\"FbtLogging\",\"IntlQtEventFalcoEvent\"],\"r\":[\"NPrlkkQ\"]},\"be\":1},\"AsyncDialog\":{\"r\":[\"NPrlkkQ\",\"+hCsEGR\",\"mVbC6Mt\",\"X+U8g0O\",\"x68kdHt\",\"CEt5M1\\/\",\"Wbfiqfr\",\"bCp9mIF\",\"a3WQBlZ\",\"kpImp7C\",\"5af2yKe\",\"eDQ7Jrt\",\"T6rjpcF\",\"v2OErLh\",\"TH6QCdF\",\"YM4VSEC\",\"47bd7pk\",\"50b7NUs\"],\"rds\":{\"m\":[\"FbtLogging\",\"IntlQtEventFalcoEvent\"]},\"be\":1},\"Hovercard\":{\"r\":[\"NPrlkkQ\",\"+hCsEGR\",\"mVbC6Mt\",\"CBFvSpM\",\"yBawEKi\",\"x68kdHt\",\"CEt5M1\\/\",\"Wbfiqfr\",\"S3P1cXl\",\"AI\\/5Wpf\",\"bCp9mIF\",\"a3WQBlZ\",\"eDQ7Jrt\",\"u8TBC0W\",\"T6rjpcF\",\"v2OErLh\",\"RK0K6Yg\",\"nP8F5zM\",\"ZNvJiA2\",\"QBWIAY7\",\"g3r9\\/QJ\",\"YM4VSEC\",\"47bd7pk\",\"50b7NUs\"],\"rds\":{\"m\":[\"FbtLogging\",\"IntlQtEventFalcoEvent\",\"PageTransitions\",\"Animation\"],\"r\":[\"M+tLTdT\"]},\"be\":1},\"XSalesPromoWWWDetailsDialogAsyncController\":{\"r\":[\"KTJXyzv\",\"RK0K6Yg\"],\"be\":1},\"XOfferController\":{\"r\":[\"xsFg75a\",\"RK0K6Yg\"],\"be\":1},\"PerfXSharedFields\":{\"r\":[\"cbtu0gd\",\"bCp9mIF\"],\"be\":1},\"KeyEventTypedLogger\":{\"r\":[\"NPrlkkQ\",\"rCasuzG\",\"IjugNeq\",\"u8TBC0W\"],\"be\":1},\"Dialog\":{\"r\":[\"NPrlkkQ\",\"yBawEKi\",\"CEt5M1\\/\",\"Wbfiqfr\",\"hgYdfTC\",\"bCp9mIF\",\"eDQ7Jrt\",\"T6rjpcF\",\"v2OErLh\",\"YM4VSEC\",\"vPAEGra\",\"47bd7pk\",\"+hCsEGR\",\"M+tLTdT\",\"a3WQBlZ\"],\"rds\":{\"m\":[\"FbtLogging\",\"IntlQtEventFalcoEvent\",\"Animation\",\"PageTransitions\"]},\"be\":1},\"ExceptionDialog\":{\"r\":[\"+hCsEGR\",\"mVbC6Mt\",\"X+U8g0O\",\"x68kdHt\",\"kr4dkkv\",\"CEt5M1\\/\",\"Wbfiqfr\",\"S3P1cXl\",\"D0RNXqt\",\"3IR6mzL\",\"bCp9mIF\",\"eS0I9Re\",\"ubBqlhx\",\"a3WQBlZ\",\"kpImp7C\",\"eDQ7Jrt\",\"zBCHqap\",\"v2OErLh\",\"TH6QCdF\",\"YM4VSEC\",\"47bd7pk\",\"T6rjpcF\",\"NPrlkkQ\",\"50b7NUs\"],\"rds\":{\"m\":[\"FbtLogging\",\"IntlQtEventFalcoEvent\"]},\"be\":1},\"QuickSandSolver\":{\"r\":[\"NPrlkkQ\",\"SWx3yNv\",\"yBawEKi\",\"bCp9mIF\",\"uvLjAPa\",\"e+7yDZ\\/\",\"T6rjpcF\",\"x22Oby4\",\"8ELCBwH\",\"CEt5M1\\/\"],\"rds\":{\"m\":[\"FbtLogging\",\"IntlQtEventFalcoEvent\"]},\"be\":1},\"ConfirmationDialog\":{\"r\":[\"yBawEKi\",\"I+GHswV\",\"bCp9mIF\",\"vdNQr9P\",\"v2OErLh\",\"RK0K6Yg\",\"CEt5M1\\/\"],\"be\":1},\"MWADeveloperReauthBarrier\":{\"r\":[\"NPrlkkQ\",\"H\\/5lfuF\",\"17Grp2h\",\"QIamfde\",\"QyoftxH\"],\"be\":1}}})});</script>\n",
      "<script>requireLazy([\"InitialJSLoader\"], function(InitialJSLoader) {InitialJSLoader.loadOnDOMContentReady([\"T6rjpcF\",\"RK0K6Yg\",\"NPrlkkQ\",\"yBawEKi\",\"bCp9mIF\",\"v2OErLh\",\"YM4VSEC\",\"IjugNeq\",\"I+GHswV\",\"Tll2J5j\",\"zPYlTyl\",\"cbtu0gd\",\"u8TBC0W\",\"P\\/mr5VE\"]);});</script>\n",
      "<script>requireLazy([\"TimeSliceImpl\",\"ServerJS\"],function(TimeSlice,ServerJS){var s=(new ServerJS());s.handle({\"define\":[[\"cr:7736\",[\"FBLynxLogging\"],{\"__rc\":[\"FBLynxLogging\",null]},-1],[\"LinkshimHandlerConfig\",[],{\"supports_meta_referrer\":false,\"default_meta_referrer_policy\":\"default\",\"switched_meta_referrer_policy\":\"origin\",\"non_linkshim_lnfb_mode\":\"ie\",\"link_react_default_hash\":\"AT0z1Mr29jnVozcPpzbfIYWZ8RJUt_IDORidVygAFCCi7D4_GEZydzJHF3bSkibxl9U8sjdQc_D6ZB9jeO_g6Ugui0spXUGhCVbi7KhNwKbIny8Y0JtfX7arO3Qp4Qmcb5UIw835dcpRiyAg\",\"untrusted_link_default_hash\":\"AT0H1cNshE_Ge2HfjUSHAr8_8umqaPsJ9WN8_98g16GjDy2ul289YaC2EvGadeyD6tPrE1FXjsv3mAvCM5v0x0UPbh2Mi6tfDd5dS17YChD5KSIUjrfVTojm6zV-w5nh6BUsdaaZyEYQNHdY\",\"linkshim_host\":\"l.facebook.com\",\"linkshim_path\":\"\\/l.php\",\"linkshim_enc_param\":\"h\",\"linkshim_url_param\":\"u\",\"use_rel_no_opener\":false,\"use_rel_no_referrer\":false,\"always_use_https\":false,\"onion_always_shim\":true,\"middle_click_requires_event\":false,\"www_safe_js_mode\":\"hover\",\"m_safe_js_mode\":null,\"ghl_param_link_shim\":false,\"click_ids\":[],\"is_linkshim_supported\":true,\"current_domain\":\"facebook.com\",\"blocklisted_domains\":[\"ad.doubleclick.net\",\"ads-encryption-url-example.com\",\"bs.serving-sys.com\",\"ad.atdmt.com\",\"adform.net\",\"ad13.adfarm1.adition.com\",\"ilovemyfreedoms.com\",\"secure.adnxs.com\"],\"is_mobile_device\":false},27]],\"elements\":[[\"__elem_a588f507_0_1_Ys\",\"u_0_0_eT\",1],[\"__elem_a588f507_0_0_is\",\"globalContainer\",1],[\"__elem_a588f507_0_2_5q\",\"content\",1],[\"__elem_835c633a_0_0_y+\",\"login_form\",2],[\"__elem_f46f4946_0_0_st\",\"u_0_2_Fd\",1],[\"__elem_f46f4946_0_1_QS\",\"u_0_3_L7\",1],[\"__elem_70b16c69_0_0_SK\",\"pass\",1],[\"__elem_a588f507_0_3_Ez\",\"u_0_4_eq\",1],[\"__elem_a588f507_0_4_Vy\",\"u_0_5_\\/b\",1],[\"__elem_45d73b5d_0_0_RI\",\"loginbutton\",1]],\"require\":[[\"ServiceWorkerLoginAndLogout\",\"login\",[],[]],[\"WebPixelRatioDetector\",\"startDetecting\",[],[false]],[\"ScriptPath\",\"set\",[],[\"XWebLoginController\",\"96e88af3\",{\"imp_id\":\"0SyubfraLAQ9CPXbF\",\"ef_page\":null,\"uri\":\"https:\\/\\/www.facebook.com\\/login\\/?next=https\\u00253A\\u00252F\\u00252Fwww.facebook.com\\u00252F\"}]],[\"UITinyViewportAction\",\"init\",[],[]],[\"ResetScrollOnUnload\",\"init\",[\"__elem_a588f507_0_0_is\"],[{\"__m\":\"__elem_a588f507_0_0_is\"}]],[\"KeyboardActivityLogger\",\"init\",[],[]],[\"FocusRing\",\"init\",[],[]],[\"ErrorMessageConsole\",\"listenForUncaughtErrors\",[],[]],[\"HardwareCSS\",\"init\",[],[]],[\"IntlUtils\"],[\"FBLynx\",\"setupDelegation\",[],[]],[\"TimezoneAutoset\",\"setInputValue\",[\"__elem_f46f4946_0_0_st\"],[{\"__m\":\"__elem_f46f4946_0_0_st\"},1721747603]],[\"ScreenDimensionsAutoSet\",\"setInputValue\",[\"__elem_f46f4946_0_1_QS\"],[{\"__m\":\"__elem_f46f4946_0_1_QS\"}]],[\"LoginFormController\",\"init\",[\"__elem_835c633a_0_0_y+\",\"__elem_45d73b5d_0_0_RI\"],[{\"__m\":\"__elem_835c633a_0_0_y+\"},{\"__m\":\"__elem_45d73b5d_0_0_RI\"},null,true,{\"pubKey\":{\"publicKey\":\"0e182f84b6baccc8d41bcf7de697f726e792c1f44663461b9113ea85ab50634b\",\"keyId\":189}},false]],[\"PlatformDialogCBTSetter\",\"setCBTInFormAndLog\",[\"__elem_835c633a_0_0_y+\"],[{\"__m\":\"__elem_835c633a_0_0_y+\"},\"client_logged_out_init_impression\"]],[\"LoginFormRedirect\",\"initCookiePolling\",[],[\"https:\\/\\/www.facebook.com\\/\"]],[\"BrowserPrefillLogging\",\"initContactpointFieldLogging\",[],[{\"contactpointFieldID\":\"email\",\"serverPrefill\":\"\"}]],[\"BrowserPrefillLogging\",\"initPasswordFieldLogging\",[],[{\"passwordFieldID\":\"pass\"}]],[\"LoginFormToggle\",\"initToggle\",[\"__elem_a588f507_0_3_Ez\",\"__elem_a588f507_0_4_Vy\",\"__elem_70b16c69_0_0_SK\"],[{\"__m\":\"__elem_a588f507_0_3_Ez\"},{\"__m\":\"__elem_a588f507_0_4_Vy\"},{\"__m\":\"__elem_70b16c69_0_0_SK\"}]],[\"FocusListener\"],[\"FlipDirectionOnKeypress\"],[\"RequireDeferredReference\",\"unblock\",[],[[\"FbtLogging\",\"IntlQtEventFalcoEvent\"],\"sd\"]],[\"RequireDeferredReference\",\"unblock\",[],[[\"FbtLogging\",\"IntlQtEventFalcoEvent\"],\"css\"]],[\"TimeSliceImpl\"],[\"HasteSupportData\"],[\"ServerJS\"],[\"Run\"],[\"InitialJSLoader\"]],\"contexts\":[[{\"__m\":\"__elem_a588f507_0_1_Ys\"},true],[{\"__m\":\"__elem_a588f507_0_2_5q\"},true]]});requireLazy([\"Run\"],function(Run){Run.onAfterLoad(function(){s.cleanup(TimeSlice)})});});</script>\n",
      "<script>now_inl=(function(){var p=window.performance;return p&&p.now&&p.timing&&p.timing.navigationStart?function(){return p.now()+p.timing.navigationStart}:function(){return new Date().getTime()};})();window.__bigPipeFR=now_inl();</script>\n",
      "<link rel=\"preload\" href=\"https://static.xx.fbcdn.net/rsrc.php/v3/yR/l/0,cross/3EvdSYpCBq_.css?_nc_x=Ij3Wp8lg5Kz\" as=\"style\" />\n",
      "<link rel=\"preload\" href=\"https://static.xx.fbcdn.net/rsrc.php/v3/yC/l/0,cross/O6vgswGTdCm.css?_nc_x=Ij3Wp8lg5Kz\" as=\"style\" />\n",
      "<link rel=\"preload\" href=\"https://static.xx.fbcdn.net/rsrc.php/v3/yS/r/IQesjrfZ6d8.js?_nc_x=Ij3Wp8lg5Kz\" as=\"script\" nonce=\"g9urKiZX\" />\n",
      "<link rel=\"preload\" href=\"https://static.xx.fbcdn.net/rsrc.php/v3ij9m4/yS/l/en_GB/-MtCr_YE_tJ.js?_nc_x=Ij3Wp8lg5Kz\" as=\"script\" nonce=\"g9urKiZX\" />\n",
      "<link rel=\"preload\" href=\"https://static.xx.fbcdn.net/rsrc.php/v3/yG/r/7vr7kd_KTDc.js?_nc_x=Ij3Wp8lg5Kz\" as=\"script\" nonce=\"g9urKiZX\" />\n",
      "<script>window.__bigPipeCtor=now_inl();requireLazy([\"BigPipe\"],function(BigPipe){define(\"__bigPipe\",[],window.bigPipe=new BigPipe({\"forceFinish\":true,\"config\":{\"flush_pagelets_asap\":true,\"dispatch_pagelet_replayable_actions\":false}}));});</script>\n",
      "<script nonce=\"g9urKiZX\">(function(){var n=now_inl();requireLazy([\"__bigPipe\"],function(bigPipe){bigPipe.beforePageletArrive(\"first_response\",n);})})();</script>\n",
      "<script nonce=\"g9urKiZX\">requireLazy([\"__bigPipe\"],(function(bigPipe){bigPipe.onPageletArrive({displayResources:[\"eS0I9Re\",\"CEt5M1/\",\"bCp9mIF\",\"T6rjpcF\",\"P/mr5VE\",\"NPrlkkQ\"],id:\"first_response\",phase:0,last_in_phase:true,tti_phase:0,all_phases:[63],hsrp:{hblp:{consistency:{rev:1015075330}}},allResources:[\"eS0I9Re\",\"CEt5M1/\",\"T6rjpcF\",\"RK0K6Yg\",\"NPrlkkQ\",\"yBawEKi\",\"bCp9mIF\",\"v2OErLh\",\"YM4VSEC\",\"IjugNeq\",\"I+GHswV\",\"Tll2J5j\",\"zPYlTyl\",\"cbtu0gd\",\"P/mr5VE\",\"u8TBC0W\"]});}));</script>\n",
      "<script>requireLazy([\"__bigPipe\"],function(bigPipe){bigPipe.setPageID(\"7394849647373119670\")});</script><script nonce=\"g9urKiZX\">(function(){var n=now_inl();requireLazy([\"__bigPipe\"],function(bigPipe){bigPipe.beforePageletArrive(\"last_response\",n);})})();</script>\n",
      "<script nonce=\"g9urKiZX\">requireLazy([\"__bigPipe\"],(function(bigPipe){bigPipe.onPageletArrive({displayResources:[\"NPrlkkQ\"],id:\"last_response\",phase:63,last_in_phase:true,the_end:true,jsmods:{define:[[\"cr:6016\",[\"NavigationMetricsWWW\"],{__rc:[\"NavigationMetricsWWW\",null]},-1],[\"cr:7383\",[\"BanzaiWWW\"],{__rc:[\"BanzaiWWW\",null]},-1],[\"cr:5662\",[\"Event\"],{__rc:[\"Event\",null]},-1],[\"cr:1458113\",[],{__rc:[null,null]},-1],[\"cr:3376\",[],{__rc:[null,null]},-1],[\"cr:1083116\",[\"XAsyncRequest\"],{__rc:[\"XAsyncRequest\",null]},-1],[\"cr:1083117\",[],{__rc:[null,null]},-1],[\"cr:686\",[],{__rc:[null,null]},-1],[\"cr:1984081\",[],{__rc:[null,null]},-1],[\"TimeSliceInteractionSV\",[],{on_demand_reference_counting:true,on_demand_profiling_counters:true,default_rate:1000,lite_default_rate:100,interaction_to_lite_coinflip:{ADS_INTERFACES_INTERACTION:0,ads_perf_scenario:0,ads_wait_time:0,Event:1},interaction_to_coinflip:{ADS_INTERFACES_INTERACTION:1,ads_perf_scenario:1,ads_wait_time:1,Event:100},enable_heartbeat:false,maxBlockMergeDuration:0,maxBlockMergeDistance:0,enable_banzai_stream:true,user_timing_coinflip:50,banzai_stream_coinflip:0,compression_enabled:true,ref_counting_fix:false,ref_counting_cont_fix:false,also_record_new_timeslice_format:false,force_async_request_tracing_on:false},2609],[\"BDSignalCollectionData\",[],{sc:\"{\\\"t\\\":1659080345,\\\"c\\\":[[30000,838801],[30001,838801],[30002,838801],[30003,838801],[30004,838801],[30005,838801],[30006,573585],[30007,838801],[30008,838801],[30012,838801],[30013,838801],[30015,806033],[30018,806033],[30021,540823],[30022,540817],[30040,806033],[30093,806033],[30094,806033],[30095,806033],[30101,541591],[30102,541591],[30103,541591],[30104,541591],[30106,806039],[30107,806039],[38000,541427],[38001,806643]]}\",fds:60,fda:60,i:60,sbs:1,dbs:100,bbs:100,hbi:60,rt:262144,hbcbc:2,hbvbc:0,hbbi:30,sid:-1,hbv:\"2750246168418012007\"},5239],[\"IntlCurrentLocale\",[],{code:\"en_GB\"},5954],[\"USIDMetadata\",[],{browser_id:\"?\",tab_id:\"\",page_id:\"Psh30yb4d5t6\",transition_id:0,version:6},5888],[\"cr:1642797\",[\"BanzaiBase\"],{__rc:[\"BanzaiBase\",null]},-1],[\"cr:1042\",[\"XAsyncRequestWWW\"],{__rc:[\"XAsyncRequestWWW\",null]},-1],[\"cr:5866\",[\"BanzaiAdapterWWW\"],{__rc:[\"BanzaiAdapterWWW\",null]},-1],[\"cr:7384\",[\"cancelIdleCallbackWWW\"],{__rc:[\"cancelIdleCallbackWWW\",null]},-1],[\"cr:692209\",[\"cancelIdleCallbackBlue\"],{__rc:[\"cancelIdleCallbackBlue\",null]},-1],[\"BanzaiConfig\",[],{MAX_SIZE:10000,MAX_WAIT:150000,MIN_WAIT:null,RESTORE_WAIT:150000,blacklist:[\"time_spent\"],disabled:false,gks:{boosted_pagelikes:true,mercury_send_error_logging:true,platform_oauth_client_events:true,sticker_search_ranking:true},known_routes:[\"artillery_javascript_actions\",\"artillery_javascript_trace\",\"artillery_logger_data\",\"logger\",\"falco\",\"gk2_exposure\",\"js_error_logging\",\"loom_trace\",\"marauder\",\"perfx_custom_logger_endpoint\",\"qex\",\"require_cond_exposure_logging\",\"metaconfig_exposure\"],should_drop_unknown_routes:true,should_log_unknown_routes:false},7],[\"cr:6943\",[\"EventListenerImplForCacheStorage\"],{__rc:[\"EventListenerImplForCacheStorage\",null]},-1],[\"cr:1634616\",[\"UserActivityBlue\"],{__rc:[\"UserActivityBlue\",null]},-1],[\"cr:5695\",[\"EventListenerWWW\"],{__rc:[\"EventListenerWWW\",null]},-1],[\"cr:844180\",[\"TimeSpentImmediateActiveSecondsLoggerBlue\"],{__rc:[\"TimeSpentImmediateActiveSecondsLoggerBlue\",null]},-1],[\"cr:1187159\",[\"BlueCompatBroker\"],{__rc:[\"BlueCompatBroker\",null]},-1],[\"WebDevicePerfInfoData\",[],{needsFullUpdate:true,needsPartialUpdate:false,shouldLogResourcePerf:false},3977],[\"WebStorageMonsterLoggingURI\",[],{uri:\"/ajax/webstorage/process_keys/?state=1\"},3032],[\"TimeSpentConfig\",[],{delay:1000,timeout:64,\"0_delay\":0,\"0_timeout\":8},142],[\"cr:5800\",[],{__rc:[null,null]},-1],[\"cr:1353359\",[\"EventListenerImplForBlue\"],{__rc:[\"EventListenerImplForBlue\",null]},-1],[\"ImmediateActiveSecondsConfig\",[],{sampling_rate:0},423],[\"CometAltpayJsSdkIframeAllowedDomains\",[],{allowed_domains:[\"https://live.adyen.com\",\"https://integration-facebook.payu.in\",\"https://facebook.payulatam.com\",\"https://secure.payu.com\",\"https://facebook.dlocal.com\",\"https://buy2.boku.com\"]},4920]],require:[[\"BDClientSignalCollectionTrigger\",\"startSignalCollection\",[],[{sc:\"{\\\"t\\\":1659080345,\\\"c\\\":[[30000,838801],[30001,838801],[30002,838801],[30003,838801],[30004,838801],[30005,838801],[30006,573585],[30007,838801],[30008,838801],[30012,838801],[30013,838801],[30015,806033],[30018,806033],[30021,540823],[30022,540817],[30040,806033],[30093,806033],[30094,806033],[30095,806033],[30101,541591],[30102,541591],[30103,541591],[30104,541591],[30106,806039],[30107,806039],[38000,541427],[38001,806643]]}\",fds:60,fda:60,i:60,sbs:1,dbs:100,bbs:100,hbi:60,rt:262144,hbcbc:2,hbvbc:0,hbbi:30,sid:-1,hbv:\"2750246168418012007\"}]],[\"NavigationMetrics\",\"setPage\",[],[{page:\"XWebLoginController\",page_type:\"normal\",page_uri:\"https://www.facebook.com/login/?next=https%3A%2F%2Fwww.facebook.com%2F\",serverLID:\"7394849647373119670\"}]],[\"FalcoLoggerTransports\",\"attach\",[],[]],[\"Chromedome\",\"start\",[],[{}]],[\"DimensionTracking\"],[\"ClickRefLogger\"],[\"NavigationClickPointHandler\"],[\"WebDevicePerfInfoLogging\",\"doLog\",[],[]],[\"WebStorageMonster\",\"schedule\",[],[]],[\"ServiceWorkerCacheManagement\",\"manageCache\",[],[]],[\"Artillery\",\"disable\",[],[]],[\"ScriptPathLogger\",\"startLogging\",[],[]],[\"TimeSpentBitArrayLogger\",\"init\",[],[]],[\"CookieCore\",\"setWithoutChecksIfFirstPartyContext\",[],[\"_js_datr\",\"k8ifZhs3c7Yhf7bNeWgK7yxJ\",34560000000,\"/\",true,\".facebook.com\"]],[\"TransportSelectingClientSingletonConditional\"],[\"RequireDeferredReference\",\"unblock\",[],[[\"TransportSelectingClientSingletonConditional\"],\"sd\"]],[\"RequireDeferredReference\",\"unblock\",[],[[\"TransportSelectingClientSingletonConditional\"],\"css\"]]]},hsrp:{hsdp:{clpData:{\"1871697\":{r:1,s:1},\"1829319\":{r:1},\"1829320\":{r:1},\"1843988\":{r:1}},qexData:{\"526\":{r:null},\"538\":{r:null},\"543\":{r:null}}},hblp:{consistency:{rev:1015075330}}},allResources:[\"NPrlkkQ\",\"IjugNeq\",\"Tll2J5j\",\"zPYlTyl\",\"M+tLTdT\",\"bCp9mIF\",\"47bd7pk\",\"T6rjpcF\"]});}));</script></body></html>\n"
     ]
    }
   ],
   "source": [
    "response = requests.get(\"https://www.facebook.com/\")\n",
    "print(response.text)"
   ]
  },
  {
   "cell_type": "code",
   "execution_count": 11,
   "id": "8e297bfa",
   "metadata": {},
   "outputs": [
    {
     "data": {
      "text/plain": [
       "['__attrs__',\n",
       " '__bool__',\n",
       " '__class__',\n",
       " '__delattr__',\n",
       " '__dict__',\n",
       " '__dir__',\n",
       " '__doc__',\n",
       " '__enter__',\n",
       " '__eq__',\n",
       " '__exit__',\n",
       " '__format__',\n",
       " '__ge__',\n",
       " '__getattribute__',\n",
       " '__getstate__',\n",
       " '__gt__',\n",
       " '__hash__',\n",
       " '__init__',\n",
       " '__init_subclass__',\n",
       " '__iter__',\n",
       " '__le__',\n",
       " '__lt__',\n",
       " '__module__',\n",
       " '__ne__',\n",
       " '__new__',\n",
       " '__nonzero__',\n",
       " '__reduce__',\n",
       " '__reduce_ex__',\n",
       " '__repr__',\n",
       " '__setattr__',\n",
       " '__setstate__',\n",
       " '__sizeof__',\n",
       " '__str__',\n",
       " '__subclasshook__',\n",
       " '__weakref__',\n",
       " '_content',\n",
       " '_content_consumed',\n",
       " '_next',\n",
       " 'apparent_encoding',\n",
       " 'close',\n",
       " 'connection',\n",
       " 'content',\n",
       " 'cookies',\n",
       " 'elapsed',\n",
       " 'encoding',\n",
       " 'headers',\n",
       " 'history',\n",
       " 'is_permanent_redirect',\n",
       " 'is_redirect',\n",
       " 'iter_content',\n",
       " 'iter_lines',\n",
       " 'json',\n",
       " 'links',\n",
       " 'next',\n",
       " 'ok',\n",
       " 'raise_for_status',\n",
       " 'raw',\n",
       " 'reason',\n",
       " 'request',\n",
       " 'status_code',\n",
       " 'text',\n",
       " 'url']"
      ]
     },
     "execution_count": 11,
     "metadata": {},
     "output_type": "execute_result"
    }
   ],
   "source": [
    "dir(response)"
   ]
  },
  {
   "cell_type": "markdown",
   "id": "9789d968",
   "metadata": {},
   "source": [
    "### Passando parâmetros na URL\n",
    "Você pode passar parâmetros na URL usando o argumento params:"
   ]
  },
  {
   "cell_type": "code",
   "execution_count": null,
   "id": "b36477c5",
   "metadata": {},
   "outputs": [],
   "source": [
    "params = {'q': 'python', 'page': 1}\n",
    "response = requests.get(\"https://exemplo.com/search\", params=params)\n",
    "print(response.text)"
   ]
  },
  {
   "cell_type": "markdown",
   "id": "a807cdd6",
   "metadata": {},
   "source": [
    "### Trabalhando com respostas\n",
    "Você pode acessar informações da resposta, como status code, cabeçalhos e conteúdo:"
   ]
  },
  {
   "cell_type": "code",
   "execution_count": 19,
   "id": "4c834df4",
   "metadata": {},
   "outputs": [
    {
     "name": "stdout",
     "output_type": "stream",
     "text": [
      "406\n",
      "{'Date': 'Tue, 23 Jul 2024 15:23:32 GMT', 'Server': 'Apache', 'Content-Length': '226', 'Keep-Alive': 'timeout=5, max=75', 'Connection': 'Keep-Alive', 'Content-Type': 'text/html; charset=iso-8859-1'}\n",
      "<head><title>Not Acceptable!</title></head><body><h1>Not Acceptable!</h1><p>An appropriate representation of the requested resource could not be found on this server. This error was generated by Mod_Security.</p></body></html>\n"
     ]
    }
   ],
   "source": [
    "response = requests.get(\"https://pantufodados.com/\")\n",
    "print(response.status_code)\n",
    "print(response.headers)\n",
    "print(response.text)"
   ]
  },
  {
   "cell_type": "markdown",
   "id": "9f7e5b45",
   "metadata": {},
   "source": [
    "## Solicitações POST e Envio de Dados<a id=\"post\"></a>\n",
    "[Para cima](#indice)"
   ]
  },
  {
   "cell_type": "markdown",
   "id": "80565612",
   "metadata": {},
   "source": [
    "### Enviando dados em uma solicitação POST\n",
    "Use o método post() para enviar dados em uma solicitação POST:"
   ]
  },
  {
   "cell_type": "code",
   "execution_count": null,
   "id": "89e1a059",
   "metadata": {},
   "outputs": [],
   "source": [
    "data = {'username': 'user', 'password': 'pass'}\n",
    "response = requests.post(\"https://exemplo.com/login\", data=data)\n",
    "print(response.text)"
   ]
  },
  {
   "cell_type": "markdown",
   "id": "11b162e5",
   "metadata": {},
   "source": [
    "### Enviando dados em formato JSON\n",
    "Para enviar dados no formato JSON, utilize o método post() com o argumento json:"
   ]
  },
  {
   "cell_type": "code",
   "execution_count": null,
   "id": "a75b7327",
   "metadata": {},
   "outputs": [],
   "source": [
    "import json\n",
    "\n",
    "data = {'name': 'John', 'age': 30}\n",
    "response = requests.post(\"https://exemplo.com/api/data\", json=data)\n",
    "print(response.text)"
   ]
  },
  {
   "cell_type": "markdown",
   "id": "e6b1b256",
   "metadata": {},
   "source": [
    "### Enviando formulários (form data)\n",
    "Você também pode enviar dados de formulário usando o argumento data com um dicionário:"
   ]
  },
  {
   "cell_type": "code",
   "execution_count": null,
   "id": "a3edc595",
   "metadata": {},
   "outputs": [],
   "source": [
    "data = {'key1': 'value1', 'key2': 'value2'}\n",
    "response = requests.post(\"https://exemplo.com/submit\", data=data)\n",
    "print(response.text)"
   ]
  },
  {
   "cell_type": "markdown",
   "id": "cc8f8e9b",
   "metadata": {},
   "source": [
    "## Autenticação em Requisições<a id=\"autenticacao\"></a>\n",
    "[Para cima](#indice)"
   ]
  },
  {
   "cell_type": "markdown",
   "id": "af4a9119",
   "metadata": {},
   "source": [
    "Para autenticação com token, adicione o token ao cabeçalho de autorização:"
   ]
  },
  {
   "cell_type": "code",
   "execution_count": null,
   "id": "7ff20a7f",
   "metadata": {},
   "outputs": [],
   "source": [
    "headers = {'Authorization': 'Bearer your_token_here'}\n",
    "response = requests.get(\"https://exemplo.com/api/resource\", headers=headers)\n",
    "print(response.text)"
   ]
  },
  {
   "cell_type": "markdown",
   "id": "396bf0aa",
   "metadata": {},
   "source": [
    "## Gerenciamento de Sessões<a id=\"sessao\"></a>\n",
    "[Para cima](#indice)"
   ]
  },
  {
   "cell_type": "markdown",
   "id": "b31a6d4a",
   "metadata": {},
   "source": [
    "### Criando e reutilizando sessões\n",
    "Sessões permitem reutilizar cookies entre várias solicitações. Isso é útil para manter o estado da autenticação:"
   ]
  },
  {
   "cell_type": "code",
   "execution_count": null,
   "id": "ff879f00",
   "metadata": {},
   "outputs": [],
   "source": [
    "session = requests.Session()\n",
    "\n",
    "# Fazer login e manter cookies\n",
    "session.post(\"https://exemplo.com/login\", data={'user': 'username', 'password': 'password'})\n",
    "\n",
    "# Realizar outras solicitações com a mesma sessão\n",
    "response = session.get(\"https://exemplo.com/dashboard\")\n",
    "print(response.text)"
   ]
  },
  {
   "cell_type": "markdown",
   "id": "74569c4b",
   "metadata": {},
   "source": [
    "### Trabalhando com cookies\n",
    "Você pode acessar e manipular cookies em uma sessão:"
   ]
  },
  {
   "cell_type": "code",
   "execution_count": null,
   "id": "383fb396",
   "metadata": {},
   "outputs": [],
   "source": [
    "session = requests.Session()\n",
    "\n",
    "# Fazer login e manter cookies\n",
    "session.post(\"https://exemplo.com/login\", data={'user': 'username', 'password': 'password'})\n",
    "\n",
    "# Acessar os cookies\n",
    "cookies = session.cookies\n",
    "\n",
    "# Enviar cookies com uma solicitação\n",
    "response = session.get(\"https://exemplo.com/dashboard\", cookies=cookies)\n",
    "print(response.text)"
   ]
  },
  {
   "cell_type": "markdown",
   "id": "72b87c3b",
   "metadata": {},
   "source": [
    "## Manipulação de Respostas<a id=\"manipulacao\"></a>\n",
    "[Para cima](#indice)"
   ]
  },
  {
   "cell_type": "markdown",
   "id": "0a32cab5",
   "metadata": {},
   "source": [
    "### Acessando o conteúdo da resposta\n",
    "Você pode acessar o conteúdo da resposta usando response.text ou response.content para dados binários.\n",
    "\n",
    "### Análise de conteúdo JSON\n",
    "Se a resposta é JSON, você pode analisá-la facilmente:"
   ]
  },
  {
   "cell_type": "code",
   "execution_count": null,
   "id": "6cbdffb2",
   "metadata": {},
   "outputs": [],
   "source": [
    "response = requests.get(\"https://exemplo.com/api/data\")\n",
    "data = response.json()\n",
    "print(data)"
   ]
  },
  {
   "cell_type": "markdown",
   "id": "921736c7",
   "metadata": {},
   "source": [
    "### Manipulação de cabeçalhos\n",
    "Você pode acessar cabeçalhos da resposta:"
   ]
  },
  {
   "cell_type": "code",
   "execution_count": null,
   "id": "a751f5f4",
   "metadata": {},
   "outputs": [],
   "source": [
    "response = requests.get(\"https://exemplo.com\")\n",
    "headers = response.headers\n",
    "print(headers['Content-Type'])"
   ]
  },
  {
   "cell_type": "markdown",
   "id": "d2a31a5d",
   "metadata": {},
   "source": [
    "## Lidando com Redirecionamentos<a id=\"redirecionamento\"></a>\n",
    "[Para cima](#indice)"
   ]
  },
  {
   "cell_type": "markdown",
   "id": "2823c54c",
   "metadata": {},
   "source": [
    "### Gerenciando redirecionamentos\n",
    "Por padrão, o requests segue redirecionamentos, mas você pode controlar isso usando o argumento allow_redirects:"
   ]
  },
  {
   "cell_type": "code",
   "execution_count": null,
   "id": "c8f899e9",
   "metadata": {},
   "outputs": [],
   "source": [
    "response = requests.get(\"https://exemplo.com\", allow_redirects=False)\n",
    "if response.status_code == 302:\n",
    "    print(\"Redirecionamento detectado\")\n",
    "    location = response.headers['Location']\n",
    "    print(\"Redirecionado para:\", location)"
   ]
  },
  {
   "cell_type": "markdown",
   "id": "e8dd3560",
   "metadata": {},
   "source": [
    "### Seguindo redirecionamentos\n",
    "Para seguir redirecionamentos automaticamente, basta fazer solicitações como de costume."
   ]
  },
  {
   "cell_type": "markdown",
   "id": "c03e87f4",
   "metadata": {},
   "source": [
    "## Lidando com Erros e Exceções<a id=\"excecoes\"></a>\n",
    "[Para cima](#indice)"
   ]
  },
  {
   "cell_type": "markdown",
   "id": "680e290d",
   "metadata": {},
   "source": [
    "### Lidando com erros de rede\n",
    "É importante lidar com exceções ao fazer solicitações, especialmente para evitar interrupções em seu programa:"
   ]
  },
  {
   "cell_type": "code",
   "execution_count": null,
   "id": "df40c324",
   "metadata": {},
   "outputs": [],
   "source": [
    "import requests\n",
    "\n",
    "try:\n",
    "    response = requests.get(\"https://exemplo.com\")\n",
    "    response.raise_for_status()  # Lança uma exceção se a resposta for um erro\n",
    "except requests.exceptions.RequestException as e:\n",
    "    print(f\"Erro de requisição: {e}\")"
   ]
  },
  {
   "cell_type": "markdown",
   "id": "8f8e9b9c",
   "metadata": {},
   "source": [
    "### Tratamento de exceções\n",
    "Além disso, você pode lidar com exceções específicas:"
   ]
  },
  {
   "cell_type": "code",
   "execution_count": null,
   "id": "a0413f4d",
   "metadata": {},
   "outputs": [],
   "source": [
    "import requests\n",
    "\n",
    "try:\n",
    "    response = requests.get(\"https://exemplo.com\")\n",
    "except requests.exceptions.Connection"
   ]
  },
  {
   "cell_type": "markdown",
   "id": "9c93bacc",
   "metadata": {},
   "source": [
    "## Exemplos Práticos<a id=\"exemplos\"></a>\n",
    "[Para cima](#indice)"
   ]
  },
  {
   "cell_type": "markdown",
   "id": "f24f610c",
   "metadata": {},
   "source": [
    "Aqui estão dois exemplos práticos de uso da biblioteca requests:\n",
    "\n",
    "### Exemplo 1: Coleta de Dados da Web\n",
    "Neste exemplo, faremos uma solicitação GET para obter dados de um site e exibi-los:"
   ]
  },
  {
   "cell_type": "code",
   "execution_count": null,
   "id": "34f8623a",
   "metadata": {},
   "outputs": [],
   "source": [
    "import requests\n",
    "\n",
    "url = \"https://exemplo.com/dados\"\n",
    "response = requests.get(url)\n",
    "\n",
    "if response.status_code == 200:\n",
    "    data = response.text\n",
    "    print(data)\n",
    "else:\n",
    "    print(f\"Erro: {response.status_code}\")"
   ]
  },
  {
   "cell_type": "markdown",
   "id": "b0023d5b",
   "metadata": {},
   "source": [
    "### Exemplo 2: Autenticação em API\n",
    "Neste exemplo, faremos uma solicitação GET para uma API que requer autenticação por token:"
   ]
  },
  {
   "cell_type": "code",
   "execution_count": null,
   "id": "0f530ddf",
   "metadata": {},
   "outputs": [],
   "source": [
    "import requests\n",
    "\n",
    "url = \"https://exemplo.com/api/data\"\n",
    "headers = {'Authorization': 'Bearer your_token_here'}\n",
    "\n",
    "response = requests.get(url, headers=headers)\n",
    "\n",
    "if response.status_code == 200:\n",
    "    data = response.json()\n",
    "    print(data)\n",
    "else:\n",
    "    print(f\"Erro: {response.status_code}\")"
   ]
  },
  {
   "cell_type": "markdown",
   "id": "41daec1a",
   "metadata": {},
   "source": [
    "Isso encerra nosso tutorial sobre a biblioteca requests em Python. Você aprendeu a fazer solicitações HTTP, lidar com autenticação, gerenciar sessões e muito mais. A biblioteca requests é uma ferramenta poderosa para interagir com serviços web e coletar dados da web. Explore mais a documentação oficial para descobrir recursos adicionais e aprimorar suas habilidades."
   ]
  },
  {
   "cell_type": "code",
   "execution_count": null,
   "id": "83716598",
   "metadata": {},
   "outputs": [],
   "source": []
  }
 ],
 "metadata": {
  "kernelspec": {
   "display_name": "Python 3 (ipykernel)",
   "language": "python",
   "name": "python3"
  },
  "language_info": {
   "codemirror_mode": {
    "name": "ipython",
    "version": 3
   },
   "file_extension": ".py",
   "mimetype": "text/x-python",
   "name": "python",
   "nbconvert_exporter": "python",
   "pygments_lexer": "ipython3",
   "version": "3.9.19"
  },
  "toc": {
   "base_numbering": 1,
   "nav_menu": {},
   "number_sections": true,
   "sideBar": true,
   "skip_h1_title": false,
   "title_cell": "Table of Contents",
   "title_sidebar": "Contents",
   "toc_cell": false,
   "toc_position": {},
   "toc_section_display": true,
   "toc_window_display": false
  }
 },
 "nbformat": 4,
 "nbformat_minor": 5
}
