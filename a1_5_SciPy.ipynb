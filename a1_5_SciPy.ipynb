{
 "cells": [
  {
   "cell_type": "markdown",
   "id": "3b5dec28",
   "metadata": {},
   "source": [
    "#### Bem Vindo a\n",
    "<br>\n",
    "\n",
    "# <strong><a style=\"color:#000031; font-family: poppins\"   href=\"https://pantufodata.co.uk/\"> Pantufo <a style=\"color:#3366cc;\" href=\"https://pantufodata.co.uk/\">Data</a></a></strong> $. com$\n",
    "<br><br>\n",
    "\n",
    "\n",
    "<a style=\"font-family:montserrat; color:#000031\" href=\"https://pantufodata.co.uk/\">\n",
    "   Aprenda tudo sobre Análise de Dados e Ciência de Dados com Python\n",
    "</a>\n",
    "\n",
    "\n",
    "<br><br><br><br><br><br>"
   ]
  },
  {
   "cell_type": "markdown",
   "id": "bc4f4fed",
   "metadata": {},
   "source": [
    "# Biblioteca  <strong style=\"font-family:montserrat; color:#3366cc\">SciPy</strong>\n",
    "<br><br><br>"
   ]
  },
  {
   "cell_type": "markdown",
   "id": "d0b426c3",
   "metadata": {},
   "source": [
    "#### Índice\n",
    "- [Introdução ao SciPy](#intro)\n",
    "- [Módulos Essenciais do SciPy](#modulosessencias)\n",
    "- [Álgebra Linear com SciPy](#algebra)\n",
    "- [Otimização com SciPy](#otimizacao)\n",
    "- [Integração e Equações Diferenciais](#diff)\n",
    "- [Processamento de Sinais com SciPy](#)\n",
    "- [Estatísticas e Probabilidade](#stats)\n",
    "- [Visualização de Dados com SciPy](#graphs)\n",
    "- [Exemplos Práticos](#exemplos)\n",
    "- [Aplicações Avançadas](#aplicacoes)"
   ]
  },
  {
   "cell_type": "code",
   "execution_count": null,
   "id": "6a66ba8f",
   "metadata": {},
   "outputs": [],
   "source": []
  },
  {
   "cell_type": "markdown",
   "id": "6ecfdd43",
   "metadata": {},
   "source": [
    "## Introdução ao SciPy<a id=\"intro\"></a>"
   ]
  },
  {
   "cell_type": "markdown",
   "id": "90a2ae87",
   "metadata": {},
   "source": [
    "Neste tutorial, exploraremos o SciPy, uma biblioteca de código aberto que oferece uma ampla gama de funcionalidades para computação científica em Python. Vamos abordar os seguintes tópicos:\n",
    "\n",
    "### O que é o SciPy?\n",
    "O SciPy é uma biblioteca de código aberto que se baseia no NumPy e fornece funcionalidades adicionais para cálculos científicos em Python. Ele é usado em áreas como matemática, engenharia, ciências naturais e muito mais.\n",
    "\n",
    "### Instalação do SciPy\n",
    "Antes de começar, você precisa instalar o SciPy. Use o pip para instalar a biblioteca:"
   ]
  },
  {
   "cell_type": "markdown",
   "id": "4a9beefa",
   "metadata": {},
   "source": [
    "pip install scipy"
   ]
  },
  {
   "cell_type": "markdown",
   "id": "2549e4b7",
   "metadata": {},
   "source": [
    "### Recursos do SciPy\n",
    "O SciPy oferece uma ampla gama de funcionalidades, incluindo:\n",
    "\n",
    "- Álgebra linear\n",
    "- Otimização\n",
    "- Integração\n",
    "- Processamento de sinais\n",
    "- Estatísticas e probabilidade\n",
    "- Visualização de dados\n",
    "\n",
    "Vamos explorar essas funcionalidades em detalhes."
   ]
  },
  {
   "cell_type": "markdown",
   "id": "163650e8",
   "metadata": {},
   "source": [
    "## Módulos Essenciais do SciPy<a id=\"modulosessencias\"></a>"
   ]
  },
  {
   "cell_type": "markdown",
   "id": "94d4c3a7",
   "metadata": {},
   "source": [
    "### SciPy e NumPy\n",
    "O SciPy trabalha em conjunto com o NumPy para fornecer funcionalidades adicionais. Você pode importar ambos da seguinte forma:"
   ]
  },
  {
   "cell_type": "code",
   "execution_count": 1,
   "id": "da9e7ca4",
   "metadata": {},
   "outputs": [],
   "source": [
    "import numpy as np\n",
    "import scipy as sp\n"
   ]
  },
  {
   "cell_type": "markdown",
   "id": "f7fdf866",
   "metadata": {},
   "source": [
    "## Álgebra Linear com SciPy<a id=\"algebra\"></a>"
   ]
  },
  {
   "cell_type": "markdown",
   "id": "851a35f8",
   "metadata": {},
   "source": [
    "### Operações Matriciais\n",
    "O SciPy oferece funções para operações matriciais, como multiplicação de matrizes, determinante e decomposições."
   ]
  },
  {
   "cell_type": "code",
   "execution_count": 2,
   "id": "d317f23f",
   "metadata": {},
   "outputs": [],
   "source": [
    "from scipy import linalg\n",
    "\n",
    "A = np.array([[1, 2], [3, 4]])\n",
    "det_A = linalg.det(A)"
   ]
  },
  {
   "cell_type": "markdown",
   "id": "2b3a21e3",
   "metadata": {},
   "source": [
    "### Resolução de Sistemas Lineares\n",
    "O SciPy pode resolver sistemas de equações lineares."
   ]
  },
  {
   "cell_type": "code",
   "execution_count": 3,
   "id": "52cd3369",
   "metadata": {},
   "outputs": [
    {
     "ename": "NameError",
     "evalue": "name 'b' is not defined",
     "output_type": "error",
     "traceback": [
      "\u001b[1;31m---------------------------------------------------------------------------\u001b[0m",
      "\u001b[1;31mNameError\u001b[0m                                 Traceback (most recent call last)",
      "\u001b[1;32m~\\AppData\\Local\\Temp\\ipykernel_6108\\3742512828.py\u001b[0m in \u001b[0;36m<module>\u001b[1;34m\u001b[0m\n\u001b[1;32m----> 1\u001b[1;33m \u001b[0mx\u001b[0m \u001b[1;33m=\u001b[0m \u001b[0mlinalg\u001b[0m\u001b[1;33m.\u001b[0m\u001b[0msolve\u001b[0m\u001b[1;33m(\u001b[0m\u001b[0mA\u001b[0m\u001b[1;33m,\u001b[0m \u001b[0mb\u001b[0m\u001b[1;33m)\u001b[0m\u001b[1;33m\u001b[0m\u001b[1;33m\u001b[0m\u001b[0m\n\u001b[0m",
      "\u001b[1;31mNameError\u001b[0m: name 'b' is not defined"
     ]
    }
   ],
   "source": [
    "x = linalg.solve(A, b)"
   ]
  },
  {
   "cell_type": "markdown",
   "id": "ac1dcf14",
   "metadata": {},
   "source": [
    "### Autovalores e Autovetores\n",
    "Você pode calcular autovalores e autovetores de uma matriz usando o SciPy."
   ]
  },
  {
   "cell_type": "code",
   "execution_count": 4,
   "id": "4d029201",
   "metadata": {},
   "outputs": [],
   "source": [
    "eigenvalues, eigenvectors = linalg.eig(A)\n"
   ]
  },
  {
   "cell_type": "markdown",
   "id": "03f93f75",
   "metadata": {},
   "source": [
    "## Otimização com SciPy<a id=\"otimizacao\"></a>"
   ]
  },
  {
   "cell_type": "markdown",
   "id": "7cc2a942",
   "metadata": {},
   "source": [
    "### Otimização de Funções\n",
    "O SciPy oferece várias funções de otimização para encontrar mínimos locais e globais."
   ]
  },
  {
   "cell_type": "code",
   "execution_count": 5,
   "id": "0d5a8111",
   "metadata": {},
   "outputs": [
    {
     "ename": "NameError",
     "evalue": "name 'func' is not defined",
     "output_type": "error",
     "traceback": [
      "\u001b[1;31m---------------------------------------------------------------------------\u001b[0m",
      "\u001b[1;31mNameError\u001b[0m                                 Traceback (most recent call last)",
      "\u001b[1;32m~\\AppData\\Local\\Temp\\ipykernel_6108\\3226263097.py\u001b[0m in \u001b[0;36m<module>\u001b[1;34m\u001b[0m\n\u001b[0;32m      1\u001b[0m \u001b[1;32mfrom\u001b[0m \u001b[0mscipy\u001b[0m\u001b[1;33m.\u001b[0m\u001b[0moptimize\u001b[0m \u001b[1;32mimport\u001b[0m \u001b[0mminimize\u001b[0m\u001b[1;33m\u001b[0m\u001b[1;33m\u001b[0m\u001b[0m\n\u001b[0;32m      2\u001b[0m \u001b[1;33m\u001b[0m\u001b[0m\n\u001b[1;32m----> 3\u001b[1;33m \u001b[0mresult\u001b[0m \u001b[1;33m=\u001b[0m \u001b[0mminimize\u001b[0m\u001b[1;33m(\u001b[0m\u001b[0mfunc\u001b[0m\u001b[1;33m,\u001b[0m \u001b[0mx0\u001b[0m\u001b[1;33m)\u001b[0m\u001b[1;33m\u001b[0m\u001b[1;33m\u001b[0m\u001b[0m\n\u001b[0m",
      "\u001b[1;31mNameError\u001b[0m: name 'func' is not defined"
     ]
    }
   ],
   "source": [
    "from scipy.optimize import minimize\n",
    "\n",
    "result = minimize(func, x0)\n"
   ]
  },
  {
   "cell_type": "markdown",
   "id": "0be8453f",
   "metadata": {},
   "source": [
    "### Restrições e Condições\n",
    "Você pode adicionar restrições e condições às otimizações."
   ]
  },
  {
   "cell_type": "code",
   "execution_count": null,
   "id": "853a3310",
   "metadata": {},
   "outputs": [],
   "source": [
    "constraints = ({'type': 'eq', 'fun': constraint_func})\n",
    "result = minimize(func, x0, constraints=constraints)\n"
   ]
  },
  {
   "cell_type": "markdown",
   "id": "4e5b63df",
   "metadata": {},
   "source": [
    "### Problemas de Ajuste de Curvas\n",
    "O SciPy permite ajustar funções a dados experimentais."
   ]
  },
  {
   "cell_type": "code",
   "execution_count": null,
   "id": "7e85c469",
   "metadata": {},
   "outputs": [],
   "source": [
    "from scipy.optimize import curve_fit\n",
    "\n",
    "params, covariance = curve_fit(func, xdata, ydata)\n"
   ]
  },
  {
   "cell_type": "code",
   "execution_count": null,
   "id": "fe2721f7",
   "metadata": {},
   "outputs": [],
   "source": []
  },
  {
   "cell_type": "code",
   "execution_count": null,
   "id": "3ea84124",
   "metadata": {},
   "outputs": [],
   "source": []
  },
  {
   "cell_type": "markdown",
   "id": "b69cddf7",
   "metadata": {},
   "source": [
    "## Integração e Equações Diferenciais<a id=\"diff\"></a>"
   ]
  },
  {
   "cell_type": "markdown",
   "id": "84d593d2",
   "metadata": {},
   "source": [
    "### Integração Numérica\n",
    "O SciPy fornece métodos de integração numérica."
   ]
  },
  {
   "cell_type": "code",
   "execution_count": null,
   "id": "70facc23",
   "metadata": {},
   "outputs": [],
   "source": [
    "from scipy.integrate import quad\n",
    "\n",
    "result, error = quad(func, a, b)\n"
   ]
  },
  {
   "cell_type": "markdown",
   "id": "6942f7ed",
   "metadata": {},
   "source": [
    "### Solução de Equações Diferenciais Ordinárias\n",
    "O SciPy pode resolver equações diferenciais ordinárias (EDOs)."
   ]
  },
  {
   "cell_type": "code",
   "execution_count": null,
   "id": "940a9235",
   "metadata": {},
   "outputs": [],
   "source": [
    "from scipy.integrate import odeint\n",
    "\n",
    "solution = odeint(func, y0, t)\n"
   ]
  },
  {
   "cell_type": "markdown",
   "id": "26038efd",
   "metadata": {},
   "source": [
    "### Equações Diferenciais Parciais\n",
    "Você também pode resolver equações diferenciais parciais (EDPs) com o SciPy."
   ]
  },
  {
   "cell_type": "code",
   "execution_count": null,
   "id": "d8743c65",
   "metadata": {},
   "outputs": [],
   "source": [
    "from scipy.integrate import solve_bvp\n",
    "\n",
    "solution = solve_bvp(ode_func, bc_func, x, y_guess)\n"
   ]
  },
  {
   "cell_type": "code",
   "execution_count": null,
   "id": "ea2d897e",
   "metadata": {},
   "outputs": [],
   "source": []
  },
  {
   "cell_type": "markdown",
   "id": "de615767",
   "metadata": {},
   "source": [
    "## Processamento de Sinais com SciPy<a id=\"\"></a>"
   ]
  },
  {
   "cell_type": "markdown",
   "id": "5bef728e",
   "metadata": {},
   "source": [
    "### Transformada de Fourier\n",
    "O SciPy permite calcular a transformada de Fourier de sinais.\n"
   ]
  },
  {
   "cell_type": "code",
   "execution_count": null,
   "id": "9d0885bb",
   "metadata": {},
   "outputs": [],
   "source": [
    "from scipy.fft import fft\n",
    "\n",
    "spectrum = fft(signal)\n"
   ]
  },
  {
   "cell_type": "markdown",
   "id": "214169d6",
   "metadata": {},
   "source": [
    "### Filtragem de Sinais\n",
    "Você pode realizar filtragem de sinais com funções do SciPy."
   ]
  },
  {
   "cell_type": "code",
   "execution_count": null,
   "id": "8b8b280d",
   "metadata": {},
   "outputs": [],
   "source": [
    "from scipy.signal import firwin, lfilter\n",
    "\n",
    "coefficients = firwin(30, 0.5)\n",
    "filtered_signal = lfilter(coefficients, 1.0, signal)\n"
   ]
  },
  {
   "cell_type": "markdown",
   "id": "b6f3cd82",
   "metadata": {},
   "source": [
    "### Análise Espectral\n",
    "O SciPy oferece ferramentas para análise espectral."
   ]
  },
  {
   "cell_type": "code",
   "execution_count": null,
   "id": "b828c36f",
   "metadata": {},
   "outputs": [],
   "source": [
    "from scipy.signal import spectrogram\n",
    "\n",
    "frequencies, times, Sxx = spectrogram(signal)"
   ]
  },
  {
   "cell_type": "code",
   "execution_count": null,
   "id": "e0b05878",
   "metadata": {},
   "outputs": [],
   "source": []
  },
  {
   "cell_type": "markdown",
   "id": "8a28bff1",
   "metadata": {},
   "source": [
    "## Estatísticas e Probabilidade<a id=\"stats\"></a>"
   ]
  },
  {
   "cell_type": "markdown",
   "id": "a851f198",
   "metadata": {},
   "source": [
    "### Funções Estatísticas\n",
    "O SciPy fornece funções estatísticas, como média, desvio padrão e correlação."
   ]
  },
  {
   "cell_type": "code",
   "execution_count": null,
   "id": "1cc724af",
   "metadata": {},
   "outputs": [],
   "source": [
    "from scipy.stats import mean, std, pearsonr\n",
    "\n",
    "average = mean(data)"
   ]
  },
  {
   "cell_type": "markdown",
   "id": "fcee9753",
   "metadata": {},
   "source": [
    "### Distribuições de Probabilidade\n",
    "Você pode realizar cálculos de probabilidade com várias distribuições."
   ]
  },
  {
   "cell_type": "code",
   "execution_count": null,
   "id": "1fe4bbe1",
   "metadata": {},
   "outputs": [],
   "source": [
    "from scipy.stats import norm, binom\n",
    "\n",
    "cdf = norm.cdf(x, loc=mean, scale=std)\n",
    "pmf = binom.pmf(k, n, p)"
   ]
  },
  {
   "cell_type": "markdown",
   "id": "eeb64c3c",
   "metadata": {},
   "source": [
    "### Testes Estatísticos\n",
    "O SciPy inclui testes estatísticos para hipóteses."
   ]
  },
  {
   "cell_type": "code",
   "execution_count": null,
   "id": "24e3ef2c",
   "metadata": {},
   "outputs": [],
   "source": [
    "from scipy.stats import ttest_ind\n",
    "\n",
    "t_stat, p_value = ttest_ind(sample1, sample2)"
   ]
  },
  {
   "cell_type": "code",
   "execution_count": null,
   "id": "4a38b5fe",
   "metadata": {},
   "outputs": [],
   "source": []
  },
  {
   "cell_type": "markdown",
   "id": "691c34b7",
   "metadata": {},
   "source": [
    "## Visualização de Dados com SciPy<a id=\"graphs\"></a>"
   ]
  },
  {
   "cell_type": "markdown",
   "id": "a7116b1a",
   "metadata": {},
   "source": [
    "### Plotagem de Gráficos\n",
    "O SciPy pode ser usado em conjunto com bibliotecas de plotagem, como Matplotlib."
   ]
  },
  {
   "cell_type": "code",
   "execution_count": null,
   "id": "ab7be075",
   "metadata": {},
   "outputs": [],
   "source": [
    "import matplotlib.pyplot as plt\n",
    "\n",
    "plt.plot(x, y)\n",
    "plt.show()"
   ]
  },
  {
   "cell_type": "markdown",
   "id": "7b6afe97",
   "metadata": {},
   "source": [
    "### Visualização de Dados 2D e 3D\n",
    "Você pode criar gráficos 2D e 3D com o SciPy."
   ]
  },
  {
   "cell_type": "code",
   "execution_count": null,
   "id": "f7001fa0",
   "metadata": {},
   "outputs": [],
   "source": [
    "from mpl_toolkits.mplot3d import Axes3D\n",
    "\n",
    "fig = plt.figure()\n",
    "ax = fig.add_subplot(111, projection='3d')\n",
    "ax.scatter(x, y, z)"
   ]
  },
  {
   "cell_type": "markdown",
   "id": "61525968",
   "metadata": {},
   "source": [
    "### Personalização de Gráficos\n",
    "Você pode personalizar seus gráficos, adicionando títulos, rótulos, legendas e muito mais."
   ]
  },
  {
   "cell_type": "code",
   "execution_count": null,
   "id": "e05053b4",
   "metadata": {},
   "outputs": [],
   "source": [
    "plt.title('Título do Gráfico')\n",
    "plt.xlabel('Eixo X')\n",
    "plt.ylabel('Eixo Y')\n",
    "plt.legend(['Série 1', 'Série 2'])"
   ]
  },
  {
   "cell_type": "markdown",
   "id": "71039d16",
   "metadata": {},
   "source": [
    "## Exemplos Práticos<a id=\"exemplos\"></a>"
   ]
  },
  {
   "cell_type": "markdown",
   "id": "5196464a",
   "metadata": {},
   "source": [
    "### Exemplo 1: Resolução de um Sistema Linear\n",
    "Vamos resolver um sistema linear usando a função de álgebra linear do SciPy."
   ]
  },
  {
   "cell_type": "code",
   "execution_count": null,
   "id": "ab483ec6",
   "metadata": {},
   "outputs": [],
   "source": [
    "from scipy.linalg import solve\n",
    "\n",
    "A = np.array([[2, 1], [1, 1]])\n",
    "b = np.array([3, 2])\n",
    "x = solve(A, b)\n",
    "print(x)"
   ]
  },
  {
   "cell_type": "markdown",
   "id": "bf7ab3ec",
   "metadata": {},
   "source": [
    "### Exemplo 2: Otimização de uma Função\n",
    "Vamos otimizar uma função simples."
   ]
  },
  {
   "cell_type": "code",
   "execution_count": null,
   "id": "341aebf4",
   "metadata": {},
   "outputs": [],
   "source": [
    "from scipy.optimize import minimize\n",
    "\n",
    "def objective(x):\n",
    "    return x[0] ** 2 + x[1] ** 2\n",
    "\n",
    "result = minimize(objective, [1, 1])\n",
    "print(result)"
   ]
  },
  {
   "cell_type": "markdown",
   "id": "6199eab3",
   "metadata": {},
   "source": [
    "## Aplicações Avançadas<a id=\"aplicacoes\"></a>"
   ]
  },
  {
   "cell_type": "markdown",
   "id": "f503a5fd",
   "metadata": {},
   "source": [
    "### Aprendizado de Máquina com SciPy\n",
    "O SciPy é frequentemente usado em conjunto com bibliotecas de aprendizado de máquina, como o scikit-learn, para tarefas de classificação, regressão, agrupamento e muito mais."
   ]
  },
  {
   "cell_type": "code",
   "execution_count": null,
   "id": "1c83f941",
   "metadata": {},
   "outputs": [],
   "source": [
    "from sklearn.datasets import load_iris\n",
    "from sklearn.model_selection import train_test_split\n",
    "from sklearn.svm import SVC\n",
    "\n",
    "data = load_iris()\n",
    "X_train, X_test, y_train, y_test = train_test_split(data.data, data.target, test_size=0.2)\n",
    "clf = SVC()\n",
    "clf.fit(X_train, y_train)"
   ]
  },
  {
   "cell_type": "markdown",
   "id": "8d58d3b1",
   "metadata": {},
   "source": [
    "### Processamento de Imagens\n",
    "O SciPy oferece ferramentas para processamento de imagens, incluindo filtragem, segmentação e análise de imagens."
   ]
  },
  {
   "cell_type": "code",
   "execution_count": 14,
   "id": "2127da08",
   "metadata": {},
   "outputs": [
    {
     "ename": "AttributeError",
     "evalue": "module 'scipy.ndimage' has no attribute 'imread'",
     "output_type": "error",
     "traceback": [
      "\u001b[1;31m---------------------------------------------------------------------------\u001b[0m",
      "\u001b[1;31mAttributeError\u001b[0m                            Traceback (most recent call last)",
      "\u001b[1;32m~\\AppData\\Local\\Temp\\ipykernel_6108\\1758902633.py\u001b[0m in \u001b[0;36m<module>\u001b[1;34m\u001b[0m\n\u001b[0;32m      1\u001b[0m \u001b[1;32mfrom\u001b[0m \u001b[0mscipy\u001b[0m \u001b[1;32mimport\u001b[0m \u001b[0mndimage\u001b[0m\u001b[1;33m\u001b[0m\u001b[1;33m\u001b[0m\u001b[0m\n\u001b[0;32m      2\u001b[0m \u001b[1;33m\u001b[0m\u001b[0m\n\u001b[1;32m----> 3\u001b[1;33m \u001b[0mimage\u001b[0m \u001b[1;33m=\u001b[0m \u001b[0mndimage\u001b[0m\u001b[1;33m.\u001b[0m\u001b[0mimread\u001b[0m\u001b[1;33m(\u001b[0m\u001b[1;34m'imagem.jpg'\u001b[0m\u001b[1;33m)\u001b[0m\u001b[1;33m\u001b[0m\u001b[1;33m\u001b[0m\u001b[0m\n\u001b[0m\u001b[0;32m      4\u001b[0m \u001b[0mfiltered_image\u001b[0m \u001b[1;33m=\u001b[0m \u001b[0mndimage\u001b[0m\u001b[1;33m.\u001b[0m\u001b[0mgaussian_filter\u001b[0m\u001b[1;33m(\u001b[0m\u001b[0mimage\u001b[0m\u001b[1;33m,\u001b[0m \u001b[0msigma\u001b[0m\u001b[1;33m=\u001b[0m\u001b[1;36m2\u001b[0m\u001b[1;33m)\u001b[0m\u001b[1;33m\u001b[0m\u001b[1;33m\u001b[0m\u001b[0m\n",
      "\u001b[1;31mAttributeError\u001b[0m: module 'scipy.ndimage' has no attribute 'imread'"
     ]
    }
   ],
   "source": [
    "from scipy import ndimage\n",
    "\n",
    "image = ndimage.imread('imagem.jpg')\n",
    "filtered_image = ndimage.gaussian_filter(image, sigma=2)\n"
   ]
  },
  {
   "cell_type": "code",
   "execution_count": 15,
   "id": "f7876deb",
   "metadata": {},
   "outputs": [],
   "source": [
    "from scipy import ndimage, misc\n",
    "\n",
    "image = misc.face('imagem.jpg')\n",
    "filtered_image = ndimage.gaussian_filter(image, sigma=2)\n"
   ]
  },
  {
   "cell_type": "markdown",
   "id": "583cee24",
   "metadata": {},
   "source": [
    "### Simulações Científicas\n",
    "Você pode usar o SciPy para simulações científicas em diversas áreas, como física, biologia, química e engenharia."
   ]
  },
  {
   "cell_type": "code",
   "execution_count": 7,
   "id": "2ccb058e",
   "metadata": {},
   "outputs": [
    {
     "data": {
      "image/png": "[encoded data removed]",
      "text/plain": [
       "<Figure size 640x480 with 1 Axes>"
      ]
     },
     "metadata": {},
     "output_type": "display_data"
    }
   ],
   "source": [
    "# Exemplo de simulação de um pêndulo simples\n",
    "import numpy as np\n",
    "import matplotlib.pyplot as plt\n",
    "from scipy.integrate import solve_ivp\n",
    "\n",
    "def pendulum(t, y, L, g):\n",
    "    theta, omega = y\n",
    "    dydt = [omega, -(g / L) * np.sin(theta)]\n",
    "    return dydt\n",
    "\n",
    "L = 1.0\n",
    "g = 9.81\n",
    "y0 = [np.pi / 4, 0.0]\n",
    "t_span = [0, 10]\n",
    "sol = solve_ivp(pendulum, t_span, y0, args=(L, g))\n",
    "\n",
    "plt.plot(sol.t, sol.y[0])\n",
    "plt.xlabel('Tempo (s)')\n",
    "plt.ylabel('Ângulo (rad)')\n",
    "plt.show()\n"
   ]
  },
  {
   "cell_type": "markdown",
   "id": "805aa956",
   "metadata": {},
   "source": [
    "O SciPy é uma biblioteca poderosa que complementa o NumPy para análise numérica e computação científica em Python. Com uma variedade de recursos para álgebra linear, otimização, integração, processamento de sinais, estatísticas, visualização de dados e muito mais, o SciPy é uma ferramenta essencial para cientistas e engenheiros que trabalham com dados e simulações."
   ]
  },
  {
   "cell_type": "markdown",
   "id": "df72b7ef",
   "metadata": {},
   "source": [
    "À medida que você explora e pratica com o SciPy, você poderá aplicar essas ferramentas em uma ampla gama de problemas científicos e de engenharia."
   ]
  },
  {
   "cell_type": "code",
   "execution_count": null,
   "id": "6335b855",
   "metadata": {},
   "outputs": [],
   "source": []
  },
  {
   "cell_type": "code",
   "execution_count": null,
   "id": "2e44afdd",
   "metadata": {},
   "outputs": [],
   "source": []
  },
  {
   "cell_type": "code",
   "execution_count": null,
   "id": "08590e38",
   "metadata": {},
   "outputs": [],
   "source": []
  },
  {
   "cell_type": "code",
   "execution_count": null,
   "id": "16d13020",
   "metadata": {},
   "outputs": [],
   "source": []
  },
  {
   "cell_type": "code",
   "execution_count": null,
   "id": "3b33bc06",
   "metadata": {},
   "outputs": [],
   "source": []
  },
  {
   "cell_type": "code",
   "execution_count": null,
   "id": "15349b40",
   "metadata": {},
   "outputs": [],
   "source": []
  }
 ],
 "metadata": {
  "kernelspec": {
   "display_name": "Python 3 (ipykernel)",
   "language": "python",
   "name": "python3"
  },
  "language_info": {
   "codemirror_mode": {
    "name": "ipython",
    "version": 3
   },
   "file_extension": ".py",
   "mimetype": "text/x-python",
   "name": "python",
   "nbconvert_exporter": "python",
   "pygments_lexer": "ipython3",
   "version": "3.9.19"
  },
  "toc": {
   "base_numbering": 1,
   "nav_menu": {},
   "number_sections": true,
   "sideBar": true,
   "skip_h1_title": false,
   "title_cell": "Table of Contents",
   "title_sidebar": "Contents",
   "toc_cell": false,
   "toc_position": {},
   "toc_section_display": true,
   "toc_window_display": false
  }
 },
 "nbformat": 4,
 "nbformat_minor": 5
}
